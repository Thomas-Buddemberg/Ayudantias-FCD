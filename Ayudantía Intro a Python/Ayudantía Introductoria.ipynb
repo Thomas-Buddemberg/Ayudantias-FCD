{
 "cells": [
  {
   "cell_type": "markdown",
   "id": "ed681e0d",
   "metadata": {},
   "source": [
    "# Ayudantía Introductoria a Python\n",
    "\n",
    "**Ayudante: Thomas Buddemberg**\n",
    "\n",
    "**Mail: tbuddemberg@alumnos.uai.cl**\n",
    "\n",
    "**Whatsapp: +569 7532 8800**"
   ]
  },
  {
   "cell_type": "code",
   "execution_count": 197,
   "id": "d51cf9cc",
   "metadata": {},
   "outputs": [
    {
     "name": "stdout",
     "output_type": "stream",
     "text": [
      "Hello, world!\n"
     ]
    }
   ],
   "source": [
    "print('Hello, world!')"
   ]
  },
  {
   "cell_type": "code",
   "execution_count": 2,
   "id": "b16ff1ca",
   "metadata": {},
   "outputs": [
    {
     "name": "stdout",
     "output_type": "stream",
     "text": [
      "3\n"
     ]
    }
   ],
   "source": [
    "print(1 + 2)"
   ]
  },
  {
   "cell_type": "code",
   "execution_count": 3,
   "id": "4796f17c",
   "metadata": {
    "scrolled": false
   },
   "outputs": [
    {
     "data": {
      "text/plain": [
       "3"
      ]
     },
     "execution_count": 3,
     "metadata": {},
     "output_type": "execute_result"
    }
   ],
   "source": [
    "1 + 2"
   ]
  },
  {
   "cell_type": "code",
   "execution_count": 198,
   "id": "2f21b4e6",
   "metadata": {},
   "outputs": [
    {
     "name": "stdout",
     "output_type": "stream",
     "text": [
      "-1\n"
     ]
    }
   ],
   "source": [
    "1 + 2\n",
    "print(1 - 2)"
   ]
  },
  {
   "cell_type": "code",
   "execution_count": 196,
   "id": "ed149588",
   "metadata": {},
   "outputs": [
    {
     "name": "stdout",
     "output_type": "stream",
     "text": [
      "-1\n"
     ]
    },
    {
     "data": {
      "text/plain": [
       "2"
      ]
     },
     "execution_count": 196,
     "metadata": {},
     "output_type": "execute_result"
    }
   ],
   "source": [
    "print(1 - 2)\n",
    "1 + 1"
   ]
  },
  {
   "cell_type": "code",
   "execution_count": 17,
   "id": "e9256ba9",
   "metadata": {},
   "outputs": [
    {
     "name": "stdout",
     "output_type": "stream",
     "text": [
      "-1\n",
      "2\n"
     ]
    }
   ],
   "source": [
    "print(1 - 2)\n",
    "print(1 + 1)"
   ]
  },
  {
   "cell_type": "markdown",
   "id": "84a63a40",
   "metadata": {},
   "source": [
    "You can actually do a lot of calculations with python!  See the table below for some examples.\n",
    "\n",
    "<table style=\"width: 100%;\">\n",
    "<tbody>\n",
    "<tr><th><b>Operation</b></th><th><b>Symbol</b></th><th><b>Example</b></th></tr>\n",
    "<tr>\n",
    "<td>Addition</td>\n",
    "<td>+</td>\n",
    "<td>1 + 2 = 3</td>\n",
    "</tr>\n",
    "<tr>\n",
    "<td>Subtraction</td>\n",
    "<td>-</td>\n",
    "<td>5 - 4 = 1</td>\n",
    "</tr>\n",
    "<tr>\n",
    "<td>Multiplication</td>\n",
    "<td>*</td>\n",
    "<td>2 * 4 = 8</td>\n",
    "</tr>\n",
    "<tr>\n",
    "<td>Division</td>\n",
    "<td>/</td>\n",
    "<td>6 / 3 = 2</td>\n",
    "</tr>\n",
    "<tr>\n",
    "<td>Exponent</td>\n",
    "<td>**</td>\n",
    "<td>3 ** 2 = 9</td>\n",
    "</tr>\n",
    "</tbody>\n",
    "</table>"
   ]
  },
  {
   "cell_type": "code",
   "execution_count": 11,
   "id": "af8d043a",
   "metadata": {},
   "outputs": [
    {
     "name": "stdout",
     "output_type": "stream",
     "text": [
      "4.0\n"
     ]
    }
   ],
   "source": [
    "print(((1 + 1) * (4 - 2) / 2) ** 2)"
   ]
  },
  {
   "cell_type": "code",
   "execution_count": 12,
   "id": "b9cad4c2",
   "metadata": {},
   "outputs": [
    {
     "ename": "SyntaxError",
     "evalue": "invalid decimal literal (Temp/ipykernel_31300/1788332256.py, line 1)",
     "output_type": "error",
     "traceback": [
      "\u001b[1;36m  File \u001b[1;32m\"C:\\Users\\budde\\AppData\\Local\\Temp/ipykernel_31300/1788332256.py\"\u001b[1;36m, line \u001b[1;32m1\u001b[0m\n\u001b[1;33m    4_menos_5 = 4 - 5\u001b[0m\n\u001b[1;37m     ^\u001b[0m\n\u001b[1;31mSyntaxError\u001b[0m\u001b[1;31m:\u001b[0m invalid decimal literal\n"
     ]
    }
   ],
   "source": [
    "4_menos_5 = 4 - 5\n",
    "\n",
    "print(4_menos_5)"
   ]
  },
  {
   "cell_type": "code",
   "execution_count": 199,
   "id": "1f9db36e",
   "metadata": {},
   "outputs": [
    {
     "name": "stdout",
     "output_type": "stream",
     "text": [
      "-1\n"
     ]
    }
   ],
   "source": [
    "_4_menos_5 = 4 - 5\n",
    "\n",
    "print(_4_menos_5)"
   ]
  },
  {
   "cell_type": "code",
   "execution_count": 200,
   "id": "4a991882",
   "metadata": {},
   "outputs": [
    {
     "ename": "SyntaxError",
     "evalue": "invalid syntax (Temp/ipykernel_31300/368667797.py, line 1)",
     "output_type": "error",
     "traceback": [
      "\u001b[1;36m  File \u001b[1;32m\"C:\\Users\\budde\\AppData\\Local\\Temp/ipykernel_31300/368667797.py\"\u001b[1;36m, line \u001b[1;32m1\u001b[0m\n\u001b[1;33m    _4 menos_5 = 4 - 5\u001b[0m\n\u001b[1;37m       ^\u001b[0m\n\u001b[1;31mSyntaxError\u001b[0m\u001b[1;31m:\u001b[0m invalid syntax\n"
     ]
    }
   ],
   "source": [
    "_4 menos_5 = 4 - 5\n",
    "\n",
    "print(_4 menos_5)"
   ]
  },
  {
   "cell_type": "code",
   "execution_count": 18,
   "id": "a7a3d513",
   "metadata": {},
   "outputs": [
    {
     "name": "stdout",
     "output_type": "stream",
     "text": [
      "3\n",
      "100\n"
     ]
    }
   ],
   "source": [
    "var = 3\n",
    "print(var)\n",
    "var = 100\n",
    "print(var)"
   ]
  },
  {
   "cell_type": "code",
   "execution_count": 19,
   "id": "6d1f3226",
   "metadata": {},
   "outputs": [
    {
     "name": "stdout",
     "output_type": "stream",
     "text": [
      "100\n",
      "102\n"
     ]
    }
   ],
   "source": [
    "print(var)\n",
    "var = var + 2\n",
    "print(var)"
   ]
  },
  {
   "cell_type": "code",
   "execution_count": 20,
   "id": "6d5c3dd3",
   "metadata": {},
   "outputs": [
    {
     "name": "stdout",
     "output_type": "stream",
     "text": [
      "126144000\n"
     ]
    }
   ],
   "source": [
    "num_años = 4\n",
    "diasxaño = 365 \n",
    "horasxdia = 24\n",
    "minxhora = 60\n",
    "segxmin = 60\n",
    "\n",
    "segundos_totales = segxmin * minxhora * horasxdia * diasxaño * num_años\n",
    "print(segundos_totales)"
   ]
  },
  {
   "cell_type": "code",
   "execution_count": 21,
   "id": "a1e0b2d1",
   "metadata": {},
   "outputs": [
    {
     "name": "stdout",
     "output_type": "stream",
     "text": [
      "126230400.0\n"
     ]
    }
   ],
   "source": [
    "diasxaño = 365.25\n",
    "\n",
    "segundos_totales = segxmin * minxhora * horasxdia * diasxaño * num_años\n",
    "print(segundos_totales)\n",
    "print"
   ]
  },
  {
   "cell_type": "markdown",
   "id": "81dccc8d",
   "metadata": {},
   "source": [
    "# Help y funciones"
   ]
  },
  {
   "cell_type": "code",
   "execution_count": 203,
   "id": "a561772e",
   "metadata": {},
   "outputs": [
    {
     "name": "stdout",
     "output_type": "stream",
     "text": [
      "Help on built-in function print in module builtins:\n",
      "\n",
      "print(...)\n",
      "    print(value, ..., sep=' ', end='\\n', file=sys.stdout, flush=False)\n",
      "    \n",
      "    Prints the values to a stream, or to sys.stdout by default.\n",
      "    Optional keyword arguments:\n",
      "    file:  a file-like object (stream); defaults to the current sys.stdout.\n",
      "    sep:   string inserted between values, default a space.\n",
      "    end:   string appended after the last value, default a newline.\n",
      "    flush: whether to forcibly flush the stream.\n",
      "\n"
     ]
    }
   ],
   "source": [
    "help(print)"
   ]
  },
  {
   "cell_type": "code",
   "execution_count": 204,
   "id": "6e7e4548",
   "metadata": {},
   "outputs": [
    {
     "name": "stdout",
     "output_type": "stream",
     "text": [
      "Hola, Thomas \\ "
     ]
    }
   ],
   "source": [
    "print('Hola, Thomas' end=' \\ ')"
   ]
  },
  {
   "cell_type": "code",
   "execution_count": 27,
   "id": "382d9cca",
   "metadata": {},
   "outputs": [],
   "source": [
    "def diferencias(a, b, c):\n",
    "    dif1 = abs(a - b)\n",
    "    dif2 = abs(b - c)\n",
    "    dif3 = abs(a - c)\n",
    "    return min(dif1, dif2, dif3)"
   ]
  },
  {
   "cell_type": "code",
   "execution_count": 28,
   "id": "f0baf341",
   "metadata": {},
   "outputs": [
    {
     "name": "stdout",
     "output_type": "stream",
     "text": [
      "9 0 1\n"
     ]
    }
   ],
   "source": [
    "print(\n",
    "    diferencias(1, 10, 100),\n",
    "    diferencias(1, 10, 10),\n",
    "    diferencias(5, 6, 7)\n",
    ")"
   ]
  },
  {
   "cell_type": "code",
   "execution_count": 206,
   "id": "a5834ef6",
   "metadata": {},
   "outputs": [
    {
     "name": "stdout",
     "output_type": "stream",
     "text": [
      "1, 2, 3\n"
     ]
    }
   ],
   "source": [
    "print(1, 2, 3, sep=', ')"
   ]
  },
  {
   "cell_type": "markdown",
   "id": "48432643",
   "metadata": {},
   "source": [
    "# Booleanos"
   ]
  },
  {
   "cell_type": "code",
   "execution_count": 30,
   "id": "0004b6b7",
   "metadata": {},
   "outputs": [
    {
     "name": "stdout",
     "output_type": "stream",
     "text": [
      "True\n",
      "<class 'bool'>\n"
     ]
    }
   ],
   "source": [
    "x = True\n",
    "print(x)\n",
    "print(type(x))"
   ]
  },
  {
   "cell_type": "code",
   "execution_count": 32,
   "id": "c119a339",
   "metadata": {},
   "outputs": [
    {
     "name": "stdout",
     "output_type": "stream",
     "text": [
      "Alguien de 16 años puede votar?: False\n",
      "Alguien de 23 años puede votar?: True\n"
     ]
    }
   ],
   "source": [
    "def votar(edad):\n",
    "    return edad >= 18\n",
    "print('Alguien de 16 años puede votar?:', votar(16))\n",
    "print('Alguien de 23 años puede votar?:', votar(23))"
   ]
  },
  {
   "cell_type": "code",
   "execution_count": 208,
   "id": "63d3ed4e",
   "metadata": {},
   "outputs": [
    {
     "data": {
      "text/plain": [
       "True"
      ]
     },
     "execution_count": 208,
     "metadata": {},
     "output_type": "execute_result"
    }
   ],
   "source": [
    "3 == 3"
   ]
  },
  {
   "cell_type": "code",
   "execution_count": 34,
   "id": "1c2a9b10",
   "metadata": {},
   "outputs": [
    {
     "data": {
      "text/plain": [
       "True"
      ]
     },
     "execution_count": 34,
     "metadata": {},
     "output_type": "execute_result"
    }
   ],
   "source": [
    "3.0 == 3"
   ]
  },
  {
   "cell_type": "code",
   "execution_count": 35,
   "id": "bf31c604",
   "metadata": {},
   "outputs": [
    {
     "data": {
      "text/plain": [
       "False"
      ]
     },
     "execution_count": 35,
     "metadata": {},
     "output_type": "execute_result"
    }
   ],
   "source": [
    "'3' == 3"
   ]
  },
  {
   "cell_type": "code",
   "execution_count": 39,
   "id": "2fcbc3ea",
   "metadata": {},
   "outputs": [
    {
     "name": "stdout",
     "output_type": "stream",
     "text": [
      "True\n",
      "False\n",
      "True\n",
      "False\n"
     ]
    }
   ],
   "source": [
    "print(bool(1))\n",
    "print(bool(0))\n",
    "print(bool(\"hola\"))\n",
    "print(bool(\"\"))"
   ]
  },
  {
   "cell_type": "markdown",
   "id": "a1bcc251",
   "metadata": {},
   "source": [
    "# Condicionales"
   ]
  },
  {
   "cell_type": "markdown",
   "id": "638d8968",
   "metadata": {},
   "source": [
    "| Operation     | Description                       || Operation     | Description                          |\n",
    "|---------------|-----------------------------------||---------------|--------------------------------------|\n",
    "| ``a == b``    | ``a`` equal to ``b``              || ``a != b``    | ``a`` not equal to ``b``             |\n",
    "| ``a < b``     | ``a`` less than ``b``             || ``a > b``     | ``a`` greater than ``b``             |\n",
    "| ``a <= b``    | ``a`` less than or equal to ``b`` || ``a >= b``    | ``a`` greater than or equal to ``b`` |"
   ]
  },
  {
   "cell_type": "code",
   "execution_count": 37,
   "id": "fa17c526",
   "metadata": {},
   "outputs": [
    {
     "name": "stdout",
     "output_type": "stream",
     "text": [
      "0 es cero\n",
      "-15 es negativo\n",
      "7 es positivo\n"
     ]
    }
   ],
   "source": [
    "def condicional(x):\n",
    "    if x == 0:\n",
    "        print(x, \"es cero\")\n",
    "    elif x > 0:\n",
    "        print(x, \"es positivo\")\n",
    "    elif x < 0:\n",
    "        print(x, \"es negativo\")\n",
    "    else:\n",
    "        print(x, \"es algo que nunca he visto D:\")\n",
    "\n",
    "condicional(0)\n",
    "condicional(-15)\n",
    "condicional(7)"
   ]
  },
  {
   "cell_type": "markdown",
   "id": "a6fe050f",
   "metadata": {},
   "source": [
    "# List"
   ]
  },
  {
   "cell_type": "code",
   "execution_count": 43,
   "id": "3e5958ef",
   "metadata": {},
   "outputs": [
    {
     "name": "stdout",
     "output_type": "stream",
     "text": [
      "[2, 3, 5, 7]\n"
     ]
    },
    {
     "data": {
      "text/plain": [
       "['Mercury', 'Venus', 'Earth', 'Mars', 'Jupiter', 'Saturn', 'Uranus', 'Neptune']"
      ]
     },
     "execution_count": 43,
     "metadata": {},
     "output_type": "execute_result"
    }
   ],
   "source": [
    "lista = [2, 3, 5, 7]\n",
    "planetas = ['Mercury', 'Venus', 'Earth', 'Mars', 'Jupiter', 'Saturn', 'Uranus', 'Neptune']\n",
    "print(lista)\n",
    "planetas"
   ]
  },
  {
   "cell_type": "code",
   "execution_count": 45,
   "id": "b023414d",
   "metadata": {},
   "outputs": [
    {
     "name": "stdout",
     "output_type": "stream",
     "text": [
      "[['J', 'Q', 'K'], ['2', '2', '2'], ['6', 'A', 'K']]\n",
      "[['J', 'Q', 'K'], ['2', '2', '2'], ['6', 'A', 'K']]\n"
     ]
    }
   ],
   "source": [
    "manos_1 = [\n",
    "    ['J', 'Q', 'K'],\n",
    "    ['2', '2', '2'],\n",
    "    ['6', 'A', 'K'] \n",
    "]\n",
    "\n",
    "manos_2 = [['J', 'Q', 'K'], ['2', '2', '2'], ['6', 'A', 'K']]\n",
    "\n",
    "print(manos_1)\n",
    "print(manos_2)"
   ]
  },
  {
   "cell_type": "code",
   "execution_count": 46,
   "id": "38d4c22f",
   "metadata": {},
   "outputs": [
    {
     "name": "stdout",
     "output_type": "stream",
     "text": [
      "[['J' 'Q' 'K']\n",
      " ['2' '2' '2']\n",
      " ['6' 'A' 'K']]\n"
     ]
    }
   ],
   "source": [
    "import numpy as np\n",
    "\n",
    "manos_1 = np.array([\n",
    "    ['J', 'Q', 'K'],\n",
    "    ['2', '2', '2'],\n",
    "    ['6', 'A', 'K'], \n",
    "])\n",
    "\n",
    "print(manos_1)"
   ]
  },
  {
   "cell_type": "code",
   "execution_count": 210,
   "id": "32b1891c",
   "metadata": {},
   "outputs": [
    {
     "name": "stdout",
     "output_type": "stream",
     "text": [
      "[32, 'raindrops on roses', Type help() for interactive help, or help(object) for help about object.]\n"
     ]
    },
    {
     "data": {
      "text/plain": [
       "list"
      ]
     },
     "execution_count": 210,
     "metadata": {},
     "output_type": "execute_result"
    }
   ],
   "source": [
    "random = [32, 'raindrops on roses', help]\n",
    "print(random)"
   ]
  },
  {
   "cell_type": "markdown",
   "id": "44c9d833",
   "metadata": {},
   "source": [
    "## Indices"
   ]
  },
  {
   "cell_type": "code",
   "execution_count": 61,
   "id": "7df5acc7",
   "metadata": {},
   "outputs": [
    {
     "data": {
      "text/plain": [
       "['Mercury', 'Venus', 'Earth', 'Mars', 'Jupiter', 'Saturn', 'Uranus', 'Neptune']"
      ]
     },
     "execution_count": 61,
     "metadata": {},
     "output_type": "execute_result"
    }
   ],
   "source": [
    "planetas"
   ]
  },
  {
   "cell_type": "code",
   "execution_count": 52,
   "id": "4411d9f5",
   "metadata": {},
   "outputs": [
    {
     "data": {
      "text/plain": [
       "'Mercury'"
      ]
     },
     "execution_count": 52,
     "metadata": {},
     "output_type": "execute_result"
    }
   ],
   "source": [
    "planetas[0]"
   ]
  },
  {
   "cell_type": "code",
   "execution_count": 53,
   "id": "c3548559",
   "metadata": {},
   "outputs": [
    {
     "data": {
      "text/plain": [
       "'Venus'"
      ]
     },
     "execution_count": 53,
     "metadata": {},
     "output_type": "execute_result"
    }
   ],
   "source": [
    "planetas[1]"
   ]
  },
  {
   "cell_type": "code",
   "execution_count": 54,
   "id": "67a6e2b3",
   "metadata": {},
   "outputs": [
    {
     "data": {
      "text/plain": [
       "'Neptune'"
      ]
     },
     "execution_count": 54,
     "metadata": {},
     "output_type": "execute_result"
    }
   ],
   "source": [
    "planetas[-1]"
   ]
  },
  {
   "cell_type": "code",
   "execution_count": 55,
   "id": "16e9c436",
   "metadata": {},
   "outputs": [
    {
     "data": {
      "text/plain": [
       "'Uranus'"
      ]
     },
     "execution_count": 55,
     "metadata": {},
     "output_type": "execute_result"
    }
   ],
   "source": [
    "planetas[-2]"
   ]
  },
  {
   "cell_type": "markdown",
   "id": "eba7463d",
   "metadata": {},
   "source": [
    "## Slicing"
   ]
  },
  {
   "cell_type": "code",
   "execution_count": 60,
   "id": "ea78a97b",
   "metadata": {},
   "outputs": [
    {
     "data": {
      "text/plain": [
       "['Mercury', 'Venus', 'Earth', 'Mars', 'Jupiter', 'Saturn', 'Uranus', 'Neptune']"
      ]
     },
     "execution_count": 60,
     "metadata": {},
     "output_type": "execute_result"
    }
   ],
   "source": [
    "planetas"
   ]
  },
  {
   "cell_type": "code",
   "execution_count": 56,
   "id": "9a8e2d16",
   "metadata": {},
   "outputs": [
    {
     "data": {
      "text/plain": [
       "['Mercury', 'Venus', 'Earth']"
      ]
     },
     "execution_count": 56,
     "metadata": {},
     "output_type": "execute_result"
    }
   ],
   "source": [
    "planetas[0:3]"
   ]
  },
  {
   "cell_type": "code",
   "execution_count": 58,
   "id": "a27ed078",
   "metadata": {},
   "outputs": [
    {
     "data": {
      "text/plain": [
       "['Mars', 'Jupiter', 'Saturn', 'Uranus', 'Neptune']"
      ]
     },
     "execution_count": 58,
     "metadata": {},
     "output_type": "execute_result"
    }
   ],
   "source": [
    "planetas[3:]"
   ]
  },
  {
   "cell_type": "code",
   "execution_count": 59,
   "id": "c67b8db2",
   "metadata": {},
   "outputs": [
    {
     "data": {
      "text/plain": [
       "['Venus', 'Earth', 'Mars', 'Jupiter', 'Saturn', 'Uranus']"
      ]
     },
     "execution_count": 59,
     "metadata": {},
     "output_type": "execute_result"
    }
   ],
   "source": [
    "planetas[1:-1]"
   ]
  },
  {
   "cell_type": "code",
   "execution_count": 211,
   "id": "d8d6bb2f",
   "metadata": {},
   "outputs": [
    {
     "data": {
      "text/plain": [
       "['Mercury', 'Venus', 'Earth', 'Mars', 'Jupiter']"
      ]
     },
     "execution_count": 211,
     "metadata": {},
     "output_type": "execute_result"
    }
   ],
   "source": [
    "planetas[:-3]"
   ]
  },
  {
   "cell_type": "code",
   "execution_count": 67,
   "id": "8c31d7a5",
   "metadata": {},
   "outputs": [
    {
     "data": {
      "text/plain": [
       "['Mercury',\n",
       " 'Venus',\n",
       " 'Earth',\n",
       " 'Namekusei',\n",
       " 'Jupiter',\n",
       " 'Saturn',\n",
       " 'Uranus',\n",
       " 'Neptune']"
      ]
     },
     "execution_count": 67,
     "metadata": {},
     "output_type": "execute_result"
    }
   ],
   "source": [
    "planetas[3] = 'Namekusei'\n",
    "planetas"
   ]
  },
  {
   "cell_type": "code",
   "execution_count": 68,
   "id": "d348e07d",
   "metadata": {},
   "outputs": [
    {
     "name": "stdout",
     "output_type": "stream",
     "text": [
      "['Mur', 'Vee', 'Ur', 'Namekusei', 'Jupiter', 'Saturn', 'Uranus', 'Neptune']\n",
      "['Mercury', 'Venus', 'Earth', 'Mars', 'Jupiter', 'Saturn', 'Uranus', 'Neptune']\n"
     ]
    }
   ],
   "source": [
    "planetas[:3] = ['Mur', 'Vee', 'Ur']\n",
    "print(planetas)\n",
    "# That was silly. Let's give them back their old names\n",
    "planetas[:4] = ['Mercury', 'Venus', 'Earth', 'Mars',]\n",
    "print(planetas)"
   ]
  },
  {
   "cell_type": "code",
   "execution_count": 66,
   "id": "576928cb",
   "metadata": {},
   "outputs": [
    {
     "data": {
      "text/plain": [
       "8"
      ]
     },
     "execution_count": 66,
     "metadata": {},
     "output_type": "execute_result"
    }
   ],
   "source": [
    "len(planetas)"
   ]
  },
  {
   "cell_type": "code",
   "execution_count": 69,
   "id": "d8081b65",
   "metadata": {},
   "outputs": [
    {
     "data": {
      "text/plain": [
       "['Earth', 'Jupiter', 'Mars', 'Mercury', 'Neptune', 'Saturn', 'Uranus', 'Venus']"
      ]
     },
     "execution_count": 69,
     "metadata": {},
     "output_type": "execute_result"
    }
   ],
   "source": [
    "sorted(planetas)"
   ]
  },
  {
   "cell_type": "code",
   "execution_count": 70,
   "id": "4bc963d4",
   "metadata": {},
   "outputs": [
    {
     "data": {
      "text/plain": [
       "17"
      ]
     },
     "execution_count": 70,
     "metadata": {},
     "output_type": "execute_result"
    }
   ],
   "source": [
    "num = [2, 3, 5, 7]\n",
    "sum(num)"
   ]
  },
  {
   "cell_type": "code",
   "execution_count": 71,
   "id": "a5f20f67",
   "metadata": {},
   "outputs": [
    {
     "data": {
      "text/plain": [
       "7"
      ]
     },
     "execution_count": 71,
     "metadata": {},
     "output_type": "execute_result"
    }
   ],
   "source": [
    "max(num)"
   ]
  },
  {
   "cell_type": "code",
   "execution_count": 217,
   "id": "0655cf2c",
   "metadata": {},
   "outputs": [
    {
     "data": {
      "text/plain": [
       "['Mercury',\n",
       " 'Venus',\n",
       " 'Earth',\n",
       " 'Jupiter',\n",
       " 'Saturn',\n",
       " 'Uranus',\n",
       " 'Neptune',\n",
       " 'Pluton']"
      ]
     },
     "execution_count": 217,
     "metadata": {},
     "output_type": "execute_result"
    }
   ],
   "source": [
    "planetas.append('Pluton')\n",
    "planetas"
   ]
  },
  {
   "cell_type": "code",
   "execution_count": 218,
   "id": "67384890",
   "metadata": {},
   "outputs": [
    {
     "data": {
      "text/plain": [
       "'Pluton'"
      ]
     },
     "execution_count": 218,
     "metadata": {},
     "output_type": "execute_result"
    }
   ],
   "source": [
    "planetas.pop()"
   ]
  },
  {
   "cell_type": "code",
   "execution_count": 214,
   "id": "c4dbb2e3",
   "metadata": {},
   "outputs": [],
   "source": [
    "planetas.remove('Mars')"
   ]
  },
  {
   "cell_type": "code",
   "execution_count": 215,
   "id": "884a41e3",
   "metadata": {},
   "outputs": [
    {
     "data": {
      "text/plain": [
       "['Mercury', 'Venus', 'Earth', 'Jupiter', 'Saturn', 'Uranus', 'Neptune']"
      ]
     },
     "execution_count": 215,
     "metadata": {},
     "output_type": "execute_result"
    }
   ],
   "source": [
    "planetas"
   ]
  },
  {
   "cell_type": "code",
   "execution_count": 76,
   "id": "4f45703c",
   "metadata": {},
   "outputs": [
    {
     "data": {
      "text/plain": [
       "2"
      ]
     },
     "execution_count": 76,
     "metadata": {},
     "output_type": "execute_result"
    }
   ],
   "source": [
    "planetas.index('Earth')"
   ]
  },
  {
   "cell_type": "code",
   "execution_count": 212,
   "id": "078a1536",
   "metadata": {},
   "outputs": [
    {
     "data": {
      "text/plain": [
       "'Earth'"
      ]
     },
     "execution_count": 212,
     "metadata": {},
     "output_type": "execute_result"
    }
   ],
   "source": [
    "planetas[2]"
   ]
  },
  {
   "cell_type": "code",
   "execution_count": 78,
   "id": "d0b3b98d",
   "metadata": {},
   "outputs": [
    {
     "data": {
      "text/plain": [
       "True"
      ]
     },
     "execution_count": 78,
     "metadata": {},
     "output_type": "execute_result"
    }
   ],
   "source": [
    "\"Earth\" in planetas"
   ]
  },
  {
   "cell_type": "code",
   "execution_count": 79,
   "id": "b66b1bc0",
   "metadata": {},
   "outputs": [
    {
     "data": {
      "text/plain": [
       "False"
      ]
     },
     "execution_count": 79,
     "metadata": {},
     "output_type": "execute_result"
    }
   ],
   "source": [
    "\"Pluton\" in planetas"
   ]
  },
  {
   "cell_type": "markdown",
   "id": "f627008f",
   "metadata": {},
   "source": [
    "# Tuplas"
   ]
  },
  {
   "cell_type": "code",
   "execution_count": 82,
   "id": "d0b73a8f",
   "metadata": {},
   "outputs": [
    {
     "name": "stdout",
     "output_type": "stream",
     "text": [
      "(1, 2, 3)\n"
     ]
    }
   ],
   "source": [
    "t = (1, 2, 3)\n",
    "print(t)"
   ]
  },
  {
   "cell_type": "code",
   "execution_count": 83,
   "id": "a771d456",
   "metadata": {},
   "outputs": [
    {
     "name": "stdout",
     "output_type": "stream",
     "text": [
      "(1, 2, 3)\n"
     ]
    }
   ],
   "source": [
    "t = 1, 2, 3 # equivalente\n",
    "print(t)"
   ]
  },
  {
   "cell_type": "code",
   "execution_count": 220,
   "id": "6b485141",
   "metadata": {},
   "outputs": [
    {
     "name": "stdout",
     "output_type": "stream",
     "text": [
      "(1, 2, 3)\n",
      "2\n",
      "3\n"
     ]
    }
   ],
   "source": [
    "t,b,n = 1,2,3\n",
    "print(t)\n",
    "print(b)\n",
    "print(n)"
   ]
  },
  {
   "cell_type": "code",
   "execution_count": 222,
   "id": "a27ab71e",
   "metadata": {},
   "outputs": [
    {
     "name": "stdout",
     "output_type": "stream",
     "text": [
      "1\n",
      "2\n",
      "3\n"
     ]
    }
   ],
   "source": [
    "a,b,c = t\n",
    "print(a)\n",
    "print(b)\n",
    "print(c)"
   ]
  },
  {
   "cell_type": "code",
   "execution_count": 85,
   "id": "da90b8bd",
   "metadata": {},
   "outputs": [
    {
     "data": {
      "text/plain": [
       "1"
      ]
     },
     "execution_count": 85,
     "metadata": {},
     "output_type": "execute_result"
    }
   ],
   "source": [
    "t[0]"
   ]
  },
  {
   "cell_type": "code",
   "execution_count": 84,
   "id": "f25e11dc",
   "metadata": {},
   "outputs": [
    {
     "ename": "TypeError",
     "evalue": "'tuple' object does not support item assignment",
     "output_type": "error",
     "traceback": [
      "\u001b[1;31m---------------------------------------------------------------------------\u001b[0m",
      "\u001b[1;31mTypeError\u001b[0m                                 Traceback (most recent call last)",
      "\u001b[1;32m~\\AppData\\Local\\Temp/ipykernel_31300/816329950.py\u001b[0m in \u001b[0;36m<module>\u001b[1;34m\u001b[0m\n\u001b[1;32m----> 1\u001b[1;33m \u001b[0mt\u001b[0m\u001b[1;33m[\u001b[0m\u001b[1;36m0\u001b[0m\u001b[1;33m]\u001b[0m \u001b[1;33m=\u001b[0m \u001b[1;36m100\u001b[0m\u001b[1;33m\u001b[0m\u001b[1;33m\u001b[0m\u001b[0m\n\u001b[0m",
      "\u001b[1;31mTypeError\u001b[0m: 'tuple' object does not support item assignment"
     ]
    }
   ],
   "source": [
    "t[0] = 100"
   ]
  },
  {
   "cell_type": "code",
   "execution_count": 223,
   "id": "53d51b87",
   "metadata": {},
   "outputs": [
    {
     "data": {
      "text/plain": [
       "(2334666046828865, 72057594037927936)"
      ]
     },
     "execution_count": 223,
     "metadata": {},
     "output_type": "execute_result"
    }
   ],
   "source": [
    "x = 0.0324\n",
    "x.as_integer_ratio()"
   ]
  },
  {
   "cell_type": "code",
   "execution_count": 95,
   "id": "3de21c11",
   "metadata": {},
   "outputs": [
    {
     "name": "stdout",
     "output_type": "stream",
     "text": [
      "0.125\n"
     ]
    }
   ],
   "source": [
    "numerador, denominador = x.as_integer_ratio()\n",
    "print(numerador / denominador)"
   ]
  },
  {
   "cell_type": "code",
   "execution_count": 228,
   "id": "32035a77",
   "metadata": {},
   "outputs": [],
   "source": [
    "lista =[1,2,3]"
   ]
  },
  {
   "cell_type": "code",
   "execution_count": 229,
   "id": "f9f49002",
   "metadata": {},
   "outputs": [
    {
     "data": {
      "text/plain": [
       "1"
      ]
     },
     "execution_count": 229,
     "metadata": {},
     "output_type": "execute_result"
    }
   ],
   "source": [
    "lista[1]-lista[0] "
   ]
  },
  {
   "cell_type": "code",
   "execution_count": 96,
   "id": "9939875e",
   "metadata": {},
   "outputs": [
    {
     "name": "stdout",
     "output_type": "stream",
     "text": [
      "0 1\n"
     ]
    }
   ],
   "source": [
    "a = 1\n",
    "b = 0\n",
    "a, b = b, a\n",
    "print(a, b)"
   ]
  },
  {
   "cell_type": "markdown",
   "id": "d9e83dc2",
   "metadata": {},
   "source": [
    "# Loops"
   ]
  },
  {
   "cell_type": "code",
   "execution_count": 102,
   "id": "6f99b904",
   "metadata": {},
   "outputs": [
    {
     "name": "stdout",
     "output_type": "stream",
     "text": [
      "Mercury Venus Earth Mars Jupiter Saturn Uranus Neptune "
     ]
    }
   ],
   "source": [
    "planetas = ['Mercury', 'Venus', 'Earth', 'Mars', 'Jupiter', 'Saturn', 'Uranus', 'Neptune']\n",
    "for planeta in planetas:\n",
    "    print(planeta, end=' ')"
   ]
  },
  {
   "cell_type": "code",
   "execution_count": 236,
   "id": "f95d80f1",
   "metadata": {},
   "outputs": [
    {
     "name": "stdout",
     "output_type": "stream",
     "text": [
      "Jupiter\n",
      "Saturn\n",
      "Uranus\n",
      "Neptune\n"
     ]
    }
   ],
   "source": [
    "planetas = ['Mercury', 'Venus', 'Earth', 'Mars', 'Jupiter', 'Saturn', 'Uranus', 'Neptune']\n",
    "for i in range(4,len(planetas)):\n",
    "    print(planetas[i])"
   ]
  },
  {
   "cell_type": "code",
   "execution_count": 101,
   "id": "2be5d8eb",
   "metadata": {},
   "outputs": [
    {
     "name": "stdout",
     "output_type": "stream",
     "text": [
      "Mercury, Venus, Earth, Mars, Jupiter, Saturn, Uranus, Neptune, "
     ]
    }
   ],
   "source": [
    "planetas = ['Mercury', 'Venus', 'Earth', 'Mars', 'Jupiter', 'Saturn', 'Uranus', 'Neptune']\n",
    "for planeta in planetas:\n",
    "    print(planeta, end=', ')"
   ]
  },
  {
   "cell_type": "code",
   "execution_count": 104,
   "id": "2de435dc",
   "metadata": {},
   "outputs": [
    {
     "data": {
      "text/plain": [
       "360"
      ]
     },
     "execution_count": 104,
     "metadata": {},
     "output_type": "execute_result"
    }
   ],
   "source": [
    "multiplicar = (2, 2, 2, 3, 3, 5)\n",
    "p = 1\n",
    "for multi in multiplicar:\n",
    "    p = p * multi\n",
    "p"
   ]
  },
  {
   "cell_type": "code",
   "execution_count": 105,
   "id": "6bbce248",
   "metadata": {},
   "outputs": [
    {
     "name": "stdout",
     "output_type": "stream",
     "text": [
      "HELLO"
     ]
    }
   ],
   "source": [
    "s = 'steganograpHy is the practicE of conceaLing a file, message, image, or video within another fiLe, message, image, Or video.'\n",
    "\n",
    "for char in s:\n",
    "    if char.isupper():\n",
    "        print(char, end='')        "
   ]
  },
  {
   "cell_type": "code",
   "execution_count": 106,
   "id": "23cbf7cb",
   "metadata": {},
   "outputs": [
    {
     "name": "stdout",
     "output_type": "stream",
     "text": [
      "Trabajo. i = 0\n",
      "Trabajo. i = 1\n",
      "Trabajo. i = 2\n",
      "Trabajo. i = 3\n",
      "Trabajo. i = 4\n"
     ]
    }
   ],
   "source": [
    "for i in range(5):\n",
    "    print(\"Trabajo. i =\", i)"
   ]
  },
  {
   "cell_type": "markdown",
   "id": "ede0099e",
   "metadata": {},
   "source": [
    "## While"
   ]
  },
  {
   "cell_type": "code",
   "execution_count": 107,
   "id": "c88222b8",
   "metadata": {},
   "outputs": [
    {
     "name": "stdout",
     "output_type": "stream",
     "text": [
      "0 1 2 3 4 5 6 7 8 9 "
     ]
    }
   ],
   "source": [
    "i = 0\n",
    "while i < 10:\n",
    "    print(i, end=' ')\n",
    "    i += 1 "
   ]
  },
  {
   "cell_type": "code",
   "execution_count": 108,
   "id": "7f2439dd",
   "metadata": {},
   "outputs": [
    {
     "name": "stdout",
     "output_type": "stream",
     "text": [
      "0 1 2 3 4 5 6 7 8 9 "
     ]
    }
   ],
   "source": [
    "i = 0\n",
    "while i < 10:\n",
    "    print(i, end=' ')\n",
    "    i = i + 1 "
   ]
  },
  {
   "cell_type": "code",
   "execution_count": 109,
   "id": "0c1f374c",
   "metadata": {},
   "outputs": [
    {
     "data": {
      "text/plain": [
       "[0, 1, 4, 9, 16, 25, 36, 49, 64, 81]"
      ]
     },
     "execution_count": 109,
     "metadata": {},
     "output_type": "execute_result"
    }
   ],
   "source": [
    "cuadrados = [n**2 for n in range(10)]\n",
    "cuadrados"
   ]
  },
  {
   "cell_type": "code",
   "execution_count": 110,
   "id": "7cfcd673",
   "metadata": {},
   "outputs": [
    {
     "data": {
      "text/plain": [
       "[0, 1, 4, 9, 16, 25, 36, 49, 64, 81]"
      ]
     },
     "execution_count": 110,
     "metadata": {},
     "output_type": "execute_result"
    }
   ],
   "source": [
    "cuadrados = []\n",
    "for n in range(10):\n",
    "    cuadrados.append(n**2)\n",
    "cuadrados"
   ]
  },
  {
   "cell_type": "code",
   "execution_count": 114,
   "id": "0948c42f",
   "metadata": {},
   "outputs": [
    {
     "data": {
      "text/plain": [
       "['Venus', 'Earth', 'Mars']"
      ]
     },
     "execution_count": 114,
     "metadata": {},
     "output_type": "execute_result"
    }
   ],
   "source": [
    "planetas_1 = [planeta for planeta in planetas if len(planeta) < 6]\n",
    "planetas_1"
   ]
  },
  {
   "cell_type": "code",
   "execution_count": 115,
   "id": "3624d602",
   "metadata": {},
   "outputs": [
    {
     "data": {
      "text/plain": [
       "['Mercury', 'Jupiter', 'Saturn', 'Uranus', 'Neptune']"
      ]
     },
     "execution_count": 115,
     "metadata": {},
     "output_type": "execute_result"
    }
   ],
   "source": [
    "planetas_2 = [planeta for planeta in planetas if len(planeta) >= 6]\n",
    "planetas_2"
   ]
  },
  {
   "cell_type": "code",
   "execution_count": 237,
   "id": "bf1653dd",
   "metadata": {},
   "outputs": [
    {
     "data": {
      "text/plain": [
       "['VENUS!', 'EARTH!', 'MARS!']"
      ]
     },
     "execution_count": 237,
     "metadata": {},
     "output_type": "execute_result"
    }
   ],
   "source": [
    "mayus = [\n",
    "    planeta.upper() + '!' \n",
    "    for planeta in planetas \n",
    "    if len(planeta) < 6\n",
    "        ]\n",
    "mayus"
   ]
  },
  {
   "cell_type": "code",
   "execution_count": 119,
   "id": "bdf35b9b",
   "metadata": {},
   "outputs": [
    {
     "data": {
      "text/plain": [
       "['VENUS!', 'EARTH!', 'MARS!']"
      ]
     },
     "execution_count": 119,
     "metadata": {},
     "output_type": "execute_result"
    }
   ],
   "source": [
    "[\n",
    "    planeta.upper() + '!' \n",
    "    for planeta in planetas \n",
    "    if len(planeta) < 6\n",
    "]"
   ]
  },
  {
   "cell_type": "code",
   "execution_count": 120,
   "id": "db54184d",
   "metadata": {},
   "outputs": [
    {
     "data": {
      "text/plain": [
       "[32, 32, 32, 32, 32, 32, 32, 32]"
      ]
     },
     "execution_count": 120,
     "metadata": {},
     "output_type": "execute_result"
    }
   ],
   "source": [
    "[32 for planeta in planetas]"
   ]
  },
  {
   "cell_type": "code",
   "execution_count": 122,
   "id": "00edd652",
   "metadata": {},
   "outputs": [
    {
     "data": {
      "text/plain": [
       "['Mercury', 'Venus', 'Earth', 'Mars', 'Jupiter', 'Saturn', 'Uranus', 'Neptune']"
      ]
     },
     "execution_count": 122,
     "metadata": {},
     "output_type": "execute_result"
    }
   ],
   "source": [
    "planetas"
   ]
  },
  {
   "cell_type": "code",
   "execution_count": 238,
   "id": "ecf3096d",
   "metadata": {},
   "outputs": [],
   "source": [
    "def negativos(nums):\n",
    "    \"\"\"Devuelve el número de números negativos en la lista dada.\n",
    "    \n",
    "    >>> negativos([5, -1, -2, 0, 3])\n",
    "    2\n",
    "    \"\"\"\n",
    "    n_negative = 0\n",
    "    for num in nums:\n",
    "        if num < 0:\n",
    "            n_negative += 1\n",
    "    return n_negative"
   ]
  },
  {
   "cell_type": "code",
   "execution_count": 239,
   "id": "8c235613",
   "metadata": {},
   "outputs": [
    {
     "data": {
      "text/plain": [
       "3"
      ]
     },
     "execution_count": 239,
     "metadata": {},
     "output_type": "execute_result"
    }
   ],
   "source": [
    "lista = [3, -7, -2, 1, 7, -12]\n",
    "negativos(lista)"
   ]
  },
  {
   "cell_type": "code",
   "execution_count": 127,
   "id": "0c057beb",
   "metadata": {},
   "outputs": [],
   "source": [
    "def contar_negativos(nums):\n",
    "    return len([num for num in nums if num < 0])"
   ]
  },
  {
   "cell_type": "code",
   "execution_count": 128,
   "id": "d81758f0",
   "metadata": {},
   "outputs": [
    {
     "data": {
      "text/plain": [
       "3"
      ]
     },
     "execution_count": 128,
     "metadata": {},
     "output_type": "execute_result"
    }
   ],
   "source": [
    "contar_negativos(lista)"
   ]
  },
  {
   "cell_type": "code",
   "execution_count": 129,
   "id": "d9a87152",
   "metadata": {},
   "outputs": [],
   "source": [
    "def contar_negativos_optimo(nums):\n",
    "    return sum([num < 0 for num in nums])"
   ]
  },
  {
   "cell_type": "code",
   "execution_count": 130,
   "id": "557aeda0",
   "metadata": {},
   "outputs": [
    {
     "data": {
      "text/plain": [
       "3"
      ]
     },
     "execution_count": 130,
     "metadata": {},
     "output_type": "execute_result"
    }
   ],
   "source": [
    "contar_negativos_optimo(lista)"
   ]
  },
  {
   "cell_type": "code",
   "execution_count": 131,
   "id": "9974daf6",
   "metadata": {},
   "outputs": [
    {
     "name": "stdout",
     "output_type": "stream",
     "text": [
      "The Zen of Python, by Tim Peters\n",
      "\n",
      "Beautiful is better than ugly.\n",
      "Explicit is better than implicit.\n",
      "Simple is better than complex.\n",
      "Complex is better than complicated.\n",
      "Flat is better than nested.\n",
      "Sparse is better than dense.\n",
      "Readability counts.\n",
      "Special cases aren't special enough to break the rules.\n",
      "Although practicality beats purity.\n",
      "Errors should never pass silently.\n",
      "Unless explicitly silenced.\n",
      "In the face of ambiguity, refuse the temptation to guess.\n",
      "There should be one-- and preferably only one --obvious way to do it.\n",
      "Although that way may not be obvious at first unless you're Dutch.\n",
      "Now is better than never.\n",
      "Although never is often better than *right* now.\n",
      "If the implementation is hard to explain, it's a bad idea.\n",
      "If the implementation is easy to explain, it may be a good idea.\n",
      "Namespaces are one honking great idea -- let's do more of those!\n"
     ]
    }
   ],
   "source": [
    "import this"
   ]
  },
  {
   "cell_type": "markdown",
   "id": "7277a690",
   "metadata": {},
   "source": [
    "# Strings"
   ]
  },
  {
   "cell_type": "code",
   "execution_count": 132,
   "id": "26933490",
   "metadata": {},
   "outputs": [
    {
     "data": {
      "text/plain": [
       "True"
      ]
     },
     "execution_count": 132,
     "metadata": {},
     "output_type": "execute_result"
    }
   ],
   "source": [
    "x = 'Pluton es un planeta'\n",
    "y = \"Pluton es un planeta\"\n",
    "x == y"
   ]
  },
  {
   "cell_type": "code",
   "execution_count": 133,
   "id": "cd563882",
   "metadata": {},
   "outputs": [
    {
     "name": "stdout",
     "output_type": "stream",
     "text": [
      "El chileno no te pega:\n",
      "Te saca la \"chucha\"\n"
     ]
    }
   ],
   "source": [
    "print(\"El chileno no te pega:\")\n",
    "print('Te saca la \"chucha\"')"
   ]
  },
  {
   "cell_type": "code",
   "execution_count": 136,
   "id": "131160a0",
   "metadata": {},
   "outputs": [
    {
     "data": {
      "text/plain": [
       "'Te saca la \"chucha\"'"
      ]
     },
     "execution_count": 136,
     "metadata": {},
     "output_type": "execute_result"
    }
   ],
   "source": [
    "'Te saca la \"chucha\"'"
   ]
  },
  {
   "cell_type": "code",
   "execution_count": 138,
   "id": "6e473bf9",
   "metadata": {},
   "outputs": [
    {
     "data": {
      "text/plain": [
       "\"Te saca la 'chucha'\""
      ]
     },
     "execution_count": 138,
     "metadata": {},
     "output_type": "execute_result"
    }
   ],
   "source": [
    "\"Te saca la 'chucha'\""
   ]
  },
  {
   "cell_type": "code",
   "execution_count": 139,
   "id": "c43205fb",
   "metadata": {},
   "outputs": [
    {
     "ename": "SyntaxError",
     "evalue": "invalid syntax (Temp/ipykernel_31300/3697633980.py, line 1)",
     "output_type": "error",
     "traceback": [
      "\u001b[1;36m  File \u001b[1;32m\"C:\\Users\\budde\\AppData\\Local\\Temp/ipykernel_31300/3697633980.py\"\u001b[1;36m, line \u001b[1;32m1\u001b[0m\n\u001b[1;33m    \"Te saca la \"chucha\"\"\u001b[0m\n\u001b[1;37m                 ^\u001b[0m\n\u001b[1;31mSyntaxError\u001b[0m\u001b[1;31m:\u001b[0m invalid syntax\n"
     ]
    }
   ],
   "source": [
    "\"Te saca la \"chucha\"\""
   ]
  },
  {
   "cell_type": "code",
   "execution_count": 135,
   "id": "0fd27066",
   "metadata": {},
   "outputs": [
    {
     "ename": "SyntaxError",
     "evalue": "invalid syntax (Temp/ipykernel_31300/2871848706.py, line 1)",
     "output_type": "error",
     "traceback": [
      "\u001b[1;36m  File \u001b[1;32m\"C:\\Users\\budde\\AppData\\Local\\Temp/ipykernel_31300/2871848706.py\"\u001b[1;36m, line \u001b[1;32m1\u001b[0m\n\u001b[1;33m    'Te saca la 'chucha''\u001b[0m\n\u001b[1;37m                 ^\u001b[0m\n\u001b[1;31mSyntaxError\u001b[0m\u001b[1;31m:\u001b[0m invalid syntax\n"
     ]
    }
   ],
   "source": [
    "'Te saca la 'chucha''"
   ]
  },
  {
   "cell_type": "code",
   "execution_count": 140,
   "id": "eb053e60",
   "metadata": {},
   "outputs": [
    {
     "data": {
      "text/plain": [
       "\"Pluto's a planet!\""
      ]
     },
     "execution_count": 140,
     "metadata": {},
     "output_type": "execute_result"
    }
   ],
   "source": [
    "'Pluto\\'s a planet!'"
   ]
  },
  {
   "cell_type": "code",
   "execution_count": 141,
   "id": "79e63a38",
   "metadata": {},
   "outputs": [
    {
     "name": "stdout",
     "output_type": "stream",
     "text": [
      "Hello\n",
      "World\n"
     ]
    }
   ],
   "source": [
    "hello = \"Hello\\nWorld\" #\\n\n",
    "print(hello)"
   ]
  },
  {
   "cell_type": "code",
   "execution_count": 242,
   "id": "e0063cb6",
   "metadata": {},
   "outputs": [
    {
     "name": "stdout",
     "output_type": "stream",
     "text": [
      "Hello\n",
      "World\n",
      "True\n",
      "\n",
      "hello\n",
      "world\n",
      "False\n"
     ]
    }
   ],
   "source": [
    "triple_hello = \"\"\"Hello\n",
    "World\"\"\"\n",
    "print(triple_hello)\n",
    "print(triple_hello == hello)\n",
    "print('')\n",
    "\n",
    "triple_hello = \"\"\"hello\n",
    "world\"\"\"\n",
    "print(triple_hello)\n",
    "print(triple_hello == hello)"
   ]
  },
  {
   "cell_type": "code",
   "execution_count": 148,
   "id": "c324ab9f",
   "metadata": {},
   "outputs": [
    {
     "name": "stdout",
     "output_type": "stream",
     "text": [
      "hello\n",
      "world\n",
      "hellopluto\n"
     ]
    }
   ],
   "source": [
    "print(\"hello\")\n",
    "print(\"world\")\n",
    "print(\"hello\", end='')\n",
    "print(\"pluto\")"
   ]
  },
  {
   "cell_type": "code",
   "execution_count": 149,
   "id": "22c35e4f",
   "metadata": {},
   "outputs": [
    {
     "name": "stdout",
     "output_type": "stream",
     "text": [
      "hello\n",
      "world\n",
      "hellopluto"
     ]
    }
   ],
   "source": [
    "print(\"hello\")\n",
    "print(\"world\")\n",
    "print(\"hello\", end='')\n",
    "print(\"pluto\", end='')"
   ]
  },
  {
   "cell_type": "code",
   "execution_count": 151,
   "id": "f646098b",
   "metadata": {},
   "outputs": [
    {
     "data": {
      "text/plain": [
       "'M'"
      ]
     },
     "execution_count": 151,
     "metadata": {},
     "output_type": "execute_result"
    }
   ],
   "source": [
    "# Indice\n",
    "planeta = 'Marte'\n",
    "planeta[0]"
   ]
  },
  {
   "cell_type": "code",
   "execution_count": 152,
   "id": "1eda2aa3",
   "metadata": {},
   "outputs": [
    {
     "data": {
      "text/plain": [
       "'rte'"
      ]
     },
     "execution_count": 152,
     "metadata": {},
     "output_type": "execute_result"
    }
   ],
   "source": [
    "# Slicing\n",
    "planeta[-3:]"
   ]
  },
  {
   "cell_type": "code",
   "execution_count": 153,
   "id": "ce2bef3c",
   "metadata": {},
   "outputs": [
    {
     "data": {
      "text/plain": [
       "5"
      ]
     },
     "execution_count": 153,
     "metadata": {},
     "output_type": "execute_result"
    }
   ],
   "source": [
    "len(planeta)"
   ]
  },
  {
   "cell_type": "code",
   "execution_count": 155,
   "id": "8d2420ca",
   "metadata": {},
   "outputs": [
    {
     "ename": "TypeError",
     "evalue": "'str' object does not support item assignment",
     "output_type": "error",
     "traceback": [
      "\u001b[1;31m---------------------------------------------------------------------------\u001b[0m",
      "\u001b[1;31mTypeError\u001b[0m                                 Traceback (most recent call last)",
      "\u001b[1;32m~\\AppData\\Local\\Temp/ipykernel_31300/925928420.py\u001b[0m in \u001b[0;36m<module>\u001b[1;34m\u001b[0m\n\u001b[1;32m----> 1\u001b[1;33m \u001b[0mplaneta\u001b[0m\u001b[1;33m[\u001b[0m\u001b[1;36m0\u001b[0m\u001b[1;33m]\u001b[0m \u001b[1;33m=\u001b[0m \u001b[1;34m'B'\u001b[0m\u001b[1;33m\u001b[0m\u001b[1;33m\u001b[0m\u001b[0m\n\u001b[0m",
      "\u001b[1;31mTypeError\u001b[0m: 'str' object does not support item assignment"
     ]
    }
   ],
   "source": [
    "planeta[0] = 'B'"
   ]
  },
  {
   "cell_type": "code",
   "execution_count": 158,
   "id": "086fb02e",
   "metadata": {},
   "outputs": [
    {
     "data": {
      "text/plain": [
       "'EMPANADAS!'"
      ]
     },
     "execution_count": 158,
     "metadata": {},
     "output_type": "execute_result"
    }
   ],
   "source": [
    "empanadas = \"Empanadas\"\n",
    "empanadas.upper() + '!'"
   ]
  },
  {
   "cell_type": "code",
   "execution_count": 159,
   "id": "a0c8006f",
   "metadata": {},
   "outputs": [
    {
     "data": {
      "text/plain": [
       "'empanadas'"
      ]
     },
     "execution_count": 159,
     "metadata": {},
     "output_type": "execute_result"
    }
   ],
   "source": [
    "empanadas.lower()"
   ]
  },
  {
   "cell_type": "code",
   "execution_count": 163,
   "id": "5a3e881d",
   "metadata": {},
   "outputs": [
    {
     "data": {
      "text/plain": [
       "2"
      ]
     },
     "execution_count": 163,
     "metadata": {},
     "output_type": "execute_result"
    }
   ],
   "source": [
    "empanadas.index('p')"
   ]
  },
  {
   "cell_type": "code",
   "execution_count": 245,
   "id": "a2b27615",
   "metadata": {},
   "outputs": [
    {
     "data": {
      "text/plain": [
       "['Se', 'acerca', 'sed-tiembre']"
      ]
     },
     "execution_count": 245,
     "metadata": {},
     "output_type": "execute_result"
    }
   ],
   "source": [
    "frase = 'Se acerca sed-tiembre'\n",
    "separar = frase.split()\n",
    "separar"
   ]
  },
  {
   "cell_type": "code",
   "execution_count": 246,
   "id": "90cc982d",
   "metadata": {},
   "outputs": [
    {
     "name": "stdout",
     "output_type": "stream",
     "text": [
      "2022\n",
      "08\n",
      "26\n"
     ]
    }
   ],
   "source": [
    "dia = '2022-08-26'\n",
    "año, mes, dia = dia.split('-')\n",
    "print(año)\n",
    "print(mes)\n",
    "print(dia)"
   ]
  },
  {
   "cell_type": "code",
   "execution_count": 169,
   "id": "ce0207fd",
   "metadata": {},
   "outputs": [
    {
     "data": {
      "text/plain": [
       "'08/26/2022'"
      ]
     },
     "execution_count": 169,
     "metadata": {},
     "output_type": "execute_result"
    }
   ],
   "source": [
    "'/'.join([mes, dia, año])"
   ]
  },
  {
   "cell_type": "code",
   "execution_count": 171,
   "id": "2f3c497b",
   "metadata": {},
   "outputs": [
    {
     "data": {
      "text/plain": [
       "'SE 👏 ACERCA 👏 SED-TIEMBRE'"
      ]
     },
     "execution_count": 171,
     "metadata": {},
     "output_type": "execute_result"
    }
   ],
   "source": [
    "' 👏 '.join([palabra.upper() for palabra in separar])"
   ]
  },
  {
   "cell_type": "code",
   "execution_count": 172,
   "id": "5c10715f",
   "metadata": {},
   "outputs": [
    {
     "data": {
      "text/plain": [
       "'Marte, te extrañamos.'"
      ]
     },
     "execution_count": 172,
     "metadata": {},
     "output_type": "execute_result"
    }
   ],
   "source": [
    "planeta + ', te extrañamos.'"
   ]
  },
  {
   "cell_type": "markdown",
   "id": "32277ec5",
   "metadata": {},
   "source": [
    "# Diccionarios"
   ]
  },
  {
   "cell_type": "code",
   "execution_count": 247,
   "id": "8f917551",
   "metadata": {},
   "outputs": [],
   "source": [
    "numeros = {'uno':1, 'dos':2, 'tres':3, 4:'cuatro'}"
   ]
  },
  {
   "cell_type": "code",
   "execution_count": 249,
   "id": "2b48e818",
   "metadata": {},
   "outputs": [
    {
     "data": {
      "text/plain": [
       "3"
      ]
     },
     "execution_count": 249,
     "metadata": {},
     "output_type": "execute_result"
    }
   ],
   "source": [
    "numeros['tres']"
   ]
  },
  {
   "cell_type": "code",
   "execution_count": 176,
   "id": "2821a525",
   "metadata": {},
   "outputs": [
    {
     "data": {
      "text/plain": [
       "{'uno': 1, 'dos': 2, 'tres': 3, 'once': 11}"
      ]
     },
     "execution_count": 176,
     "metadata": {},
     "output_type": "execute_result"
    }
   ],
   "source": [
    "numeros['once'] = 11\n",
    "numeros"
   ]
  },
  {
   "cell_type": "code",
   "execution_count": 177,
   "id": "589c7d14",
   "metadata": {},
   "outputs": [
    {
     "data": {
      "text/plain": [
       "{'uno': 'Chile', 'dos': 2, 'tres': 3, 'once': 11}"
      ]
     },
     "execution_count": 177,
     "metadata": {},
     "output_type": "execute_result"
    }
   ],
   "source": [
    "numeros['uno'] = 'Chile'\n",
    "numeros"
   ]
  },
  {
   "cell_type": "code",
   "execution_count": 178,
   "id": "d0a8b0ea",
   "metadata": {},
   "outputs": [
    {
     "data": {
      "text/plain": [
       "{'Mercury': 'M',\n",
       " 'Venus': 'V',\n",
       " 'Earth': 'E',\n",
       " 'Mars': 'M',\n",
       " 'Jupiter': 'J',\n",
       " 'Saturn': 'S',\n",
       " 'Uranus': 'U',\n",
       " 'Neptune': 'N'}"
      ]
     },
     "execution_count": 178,
     "metadata": {},
     "output_type": "execute_result"
    }
   ],
   "source": [
    "planetas = ['Mercury', 'Venus', 'Earth', 'Mars', 'Jupiter', 'Saturn', 'Uranus', 'Neptune']\n",
    "inicial = {planeta: planeta[0] for planeta in planetas}\n",
    "inicial"
   ]
  },
  {
   "cell_type": "code",
   "execution_count": 179,
   "id": "84aee310",
   "metadata": {},
   "outputs": [
    {
     "data": {
      "text/plain": [
       "True"
      ]
     },
     "execution_count": 179,
     "metadata": {},
     "output_type": "execute_result"
    }
   ],
   "source": [
    "'Saturn' in inicial"
   ]
  },
  {
   "cell_type": "code",
   "execution_count": 180,
   "id": "f929703e",
   "metadata": {},
   "outputs": [
    {
     "name": "stdout",
     "output_type": "stream",
     "text": [
      "uno = Chile\n",
      "dos = 2\n",
      "tres = 3\n",
      "once = 11\n"
     ]
    }
   ],
   "source": [
    "for k in numeros:\n",
    "    print(\"{} = {}\".format(k, numeros[k]))"
   ]
  },
  {
   "cell_type": "code",
   "execution_count": 181,
   "id": "3aaa0d8f",
   "metadata": {},
   "outputs": [
    {
     "data": {
      "text/plain": [
       "'E J M M N S U V'"
      ]
     },
     "execution_count": 181,
     "metadata": {},
     "output_type": "execute_result"
    }
   ],
   "source": [
    "' '.join(sorted(inicial.values()))"
   ]
  },
  {
   "cell_type": "markdown",
   "id": "3bc6b950",
   "metadata": {},
   "source": [
    "# Librerias"
   ]
  },
  {
   "cell_type": "code",
   "execution_count": 183,
   "id": "fcf8e932",
   "metadata": {},
   "outputs": [],
   "source": [
    "import pandas "
   ]
  },
  {
   "cell_type": "code",
   "execution_count": 184,
   "id": "4d0b12b1",
   "metadata": {},
   "outputs": [
    {
     "name": "stdout",
     "output_type": "stream",
     "text": [
      "['BooleanDtype', 'Categorical', 'CategoricalDtype', 'CategoricalIndex', 'DataFrame', 'DateOffset', 'DatetimeIndex', 'DatetimeTZDtype', 'ExcelFile', 'ExcelWriter', 'Flags', 'Float32Dtype', 'Float64Dtype', 'Float64Index', 'Grouper', 'HDFStore', 'Index', 'IndexSlice', 'Int16Dtype', 'Int32Dtype', 'Int64Dtype', 'Int64Index', 'Int8Dtype', 'Interval', 'IntervalDtype', 'IntervalIndex', 'MultiIndex', 'NA', 'NaT', 'NamedAgg', 'Period', 'PeriodDtype', 'PeriodIndex', 'RangeIndex', 'Series', 'SparseDtype', 'StringDtype', 'Timedelta', 'TimedeltaIndex', 'Timestamp', 'UInt16Dtype', 'UInt32Dtype', 'UInt64Dtype', 'UInt64Index', 'UInt8Dtype', '__builtins__', '__cached__', '__doc__', '__docformat__', '__file__', '__getattr__', '__git_version__', '__loader__', '__name__', '__package__', '__path__', '__spec__', '__version__', '_config', '_hashtable', '_is_numpy_dev', '_lib', '_libs', '_np_version_under1p18', '_testing', '_tslib', '_typing', '_version', 'api', 'array', 'arrays', 'bdate_range', 'compat', 'concat', 'core', 'crosstab', 'cut', 'date_range', 'describe_option', 'errors', 'eval', 'factorize', 'get_dummies', 'get_option', 'infer_freq', 'interval_range', 'io', 'isna', 'isnull', 'json_normalize', 'lreshape', 'melt', 'merge', 'merge_asof', 'merge_ordered', 'notna', 'notnull', 'offsets', 'option_context', 'options', 'pandas', 'period_range', 'pivot', 'pivot_table', 'plotting', 'qcut', 'read_clipboard', 'read_csv', 'read_excel', 'read_feather', 'read_fwf', 'read_gbq', 'read_hdf', 'read_html', 'read_json', 'read_orc', 'read_parquet', 'read_pickle', 'read_sas', 'read_spss', 'read_sql', 'read_sql_query', 'read_sql_table', 'read_stata', 'read_table', 'read_xml', 'reset_option', 'set_eng_float_format', 'set_option', 'show_versions', 'test', 'testing', 'timedelta_range', 'to_datetime', 'to_numeric', 'to_pickle', 'to_timedelta', 'tseries', 'unique', 'util', 'value_counts', 'wide_to_long']\n"
     ]
    }
   ],
   "source": [
    "print(dir(pandas))"
   ]
  },
  {
   "cell_type": "code",
   "execution_count": 185,
   "id": "bc4eafed",
   "metadata": {},
   "outputs": [],
   "source": [
    "import pandas as pd"
   ]
  },
  {
   "cell_type": "code",
   "execution_count": 186,
   "id": "b81c50a4",
   "metadata": {},
   "outputs": [
    {
     "name": "stdout",
     "output_type": "stream",
     "text": [
      "['BooleanDtype', 'Categorical', 'CategoricalDtype', 'CategoricalIndex', 'DataFrame', 'DateOffset', 'DatetimeIndex', 'DatetimeTZDtype', 'ExcelFile', 'ExcelWriter', 'Flags', 'Float32Dtype', 'Float64Dtype', 'Float64Index', 'Grouper', 'HDFStore', 'Index', 'IndexSlice', 'Int16Dtype', 'Int32Dtype', 'Int64Dtype', 'Int64Index', 'Int8Dtype', 'Interval', 'IntervalDtype', 'IntervalIndex', 'MultiIndex', 'NA', 'NaT', 'NamedAgg', 'Period', 'PeriodDtype', 'PeriodIndex', 'RangeIndex', 'Series', 'SparseDtype', 'StringDtype', 'Timedelta', 'TimedeltaIndex', 'Timestamp', 'UInt16Dtype', 'UInt32Dtype', 'UInt64Dtype', 'UInt64Index', 'UInt8Dtype', '__builtins__', '__cached__', '__doc__', '__docformat__', '__file__', '__getattr__', '__git_version__', '__loader__', '__name__', '__package__', '__path__', '__spec__', '__version__', '_config', '_hashtable', '_is_numpy_dev', '_lib', '_libs', '_np_version_under1p18', '_testing', '_tslib', '_typing', '_version', 'api', 'array', 'arrays', 'bdate_range', 'compat', 'concat', 'core', 'crosstab', 'cut', 'date_range', 'describe_option', 'errors', 'eval', 'factorize', 'get_dummies', 'get_option', 'infer_freq', 'interval_range', 'io', 'isna', 'isnull', 'json_normalize', 'lreshape', 'melt', 'merge', 'merge_asof', 'merge_ordered', 'notna', 'notnull', 'offsets', 'option_context', 'options', 'pandas', 'period_range', 'pivot', 'pivot_table', 'plotting', 'qcut', 'read_clipboard', 'read_csv', 'read_excel', 'read_feather', 'read_fwf', 'read_gbq', 'read_hdf', 'read_html', 'read_json', 'read_orc', 'read_parquet', 'read_pickle', 'read_sas', 'read_spss', 'read_sql', 'read_sql_query', 'read_sql_table', 'read_stata', 'read_table', 'read_xml', 'reset_option', 'set_eng_float_format', 'set_option', 'show_versions', 'test', 'testing', 'timedelta_range', 'to_datetime', 'to_numeric', 'to_pickle', 'to_timedelta', 'tseries', 'unique', 'util', 'value_counts', 'wide_to_long']\n"
     ]
    }
   ],
   "source": [
    "print(dir(pd))"
   ]
  },
  {
   "cell_type": "code",
   "execution_count": 190,
   "id": "52e45ca9",
   "metadata": {},
   "outputs": [
    {
     "name": "stdout",
     "output_type": "stream",
     "text": [
      "BooleanDtype\n",
      "Categorical\n",
      "CategoricalDtype\n",
      "CategoricalIndex\n",
      "DataFrame\n",
      "DateOffset\n",
      "DatetimeIndex\n",
      "DatetimeTZDtype\n",
      "ExcelFile\n",
      "ExcelWriter\n",
      "Flags\n",
      "Float32Dtype\n",
      "Float64Dtype\n",
      "Float64Index\n",
      "Grouper\n",
      "HDFStore\n",
      "Index\n",
      "IndexSlice\n",
      "Int16Dtype\n",
      "Int32Dtype\n",
      "Int64Dtype\n",
      "Int64Index\n",
      "Int8Dtype\n",
      "Interval\n",
      "IntervalDtype\n",
      "IntervalIndex\n",
      "MultiIndex\n",
      "NA\n",
      "NaT\n",
      "NamedAgg\n",
      "Period\n",
      "PeriodDtype\n",
      "PeriodIndex\n",
      "RangeIndex\n",
      "Series\n",
      "SparseDtype\n",
      "StringDtype\n",
      "Timedelta\n",
      "TimedeltaIndex\n",
      "Timestamp\n",
      "UInt16Dtype\n",
      "UInt32Dtype\n",
      "UInt64Dtype\n",
      "UInt64Index\n",
      "UInt8Dtype\n",
      "__builtins__\n",
      "__cached__\n",
      "__doc__\n",
      "__docformat__\n",
      "__file__\n",
      "__getattr__\n",
      "__git_version__\n",
      "__loader__\n",
      "__name__\n",
      "__package__\n",
      "__path__\n",
      "__spec__\n",
      "__version__\n",
      "_config\n",
      "_hashtable\n",
      "_is_numpy_dev\n",
      "_lib\n",
      "_libs\n",
      "_np_version_under1p18\n",
      "_testing\n",
      "_tslib\n",
      "_typing\n",
      "_version\n",
      "api\n",
      "array\n",
      "arrays\n",
      "bdate_range\n",
      "compat\n",
      "concat\n",
      "core\n",
      "crosstab\n",
      "cut\n",
      "date_range\n",
      "describe_option\n",
      "errors\n",
      "eval\n",
      "factorize\n",
      "get_dummies\n",
      "get_option\n",
      "infer_freq\n",
      "interval_range\n",
      "io\n",
      "isna\n",
      "isnull\n",
      "json_normalize\n",
      "lreshape\n",
      "melt\n",
      "merge\n",
      "merge_asof\n",
      "merge_ordered\n",
      "notna\n",
      "notnull\n",
      "offsets\n",
      "option_context\n",
      "options\n",
      "pandas\n",
      "period_range\n",
      "pivot\n",
      "pivot_table\n",
      "plotting\n",
      "qcut\n",
      "read_clipboard\n",
      "read_csv\n",
      "read_excel\n",
      "read_feather\n",
      "read_fwf\n",
      "read_gbq\n",
      "read_hdf\n",
      "read_html\n",
      "read_json\n",
      "read_orc\n",
      "read_parquet\n",
      "read_pickle\n",
      "read_sas\n",
      "read_spss\n",
      "read_sql\n",
      "read_sql_query\n",
      "read_sql_table\n",
      "read_stata\n",
      "read_table\n",
      "read_xml\n",
      "reset_option\n",
      "set_eng_float_format\n",
      "set_option\n",
      "show_versions\n",
      "test\n",
      "testing\n",
      "timedelta_range\n",
      "to_datetime\n",
      "to_numeric\n",
      "to_pickle\n",
      "to_timedelta\n",
      "tseries\n",
      "unique\n",
      "util\n",
      "value_counts\n",
      "wide_to_long\n"
     ]
    }
   ],
   "source": [
    "for i in dir(pd):\n",
    "    print(i)"
   ]
  }
 ],
 "metadata": {
  "hide_input": false,
  "kernelspec": {
   "display_name": "Python 3 (ipykernel)",
   "language": "python",
   "name": "python3"
  },
  "language_info": {
   "codemirror_mode": {
    "name": "ipython",
    "version": 3
   },
   "file_extension": ".py",
   "mimetype": "text/x-python",
   "name": "python",
   "nbconvert_exporter": "python",
   "pygments_lexer": "ipython3",
   "version": "3.9.7"
  },
  "nbTranslate": {
   "displayLangs": [
    "*"
   ],
   "hotkey": "alt-t",
   "langInMainMenu": true,
   "sourceLang": "en",
   "targetLang": "fr",
   "useGoogleTranslate": true
  },
  "toc": {
   "base_numbering": 1,
   "nav_menu": {},
   "number_sections": true,
   "sideBar": true,
   "skip_h1_title": false,
   "title_cell": "Table of Contents",
   "title_sidebar": "Contents",
   "toc_cell": false,
   "toc_position": {
    "height": "calc(100% - 180px)",
    "left": "10px",
    "top": "150px",
    "width": "247.038px"
   },
   "toc_section_display": true,
   "toc_window_display": false
  },
  "varInspector": {
   "cols": {
    "lenName": 16,
    "lenType": 16,
    "lenVar": 40
   },
   "kernels_config": {
    "python": {
     "delete_cmd_postfix": "",
     "delete_cmd_prefix": "del ",
     "library": "var_list.py",
     "varRefreshCmd": "print(var_dic_list())"
    },
    "r": {
     "delete_cmd_postfix": ") ",
     "delete_cmd_prefix": "rm(",
     "library": "var_list.r",
     "varRefreshCmd": "cat(var_dic_list()) "
    }
   },
   "types_to_exclude": [
    "module",
    "function",
    "builtin_function_or_method",
    "instance",
    "_Feature"
   ],
   "window_display": false
  }
 },
 "nbformat": 4,
 "nbformat_minor": 5
}
