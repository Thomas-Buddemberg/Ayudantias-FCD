{
 "cells": [
  {
   "cell_type": "markdown",
   "id": "d56e5f5b",
   "metadata": {
    "slideshow": {
     "slide_type": "slide"
    }
   },
   "source": [
    "# Utilidades para limpiar o consolidar datos \n",
    "**- Ayudante: Thomas Buddemberg Astudillo**\n",
    "\n",
    "**- Mail: tbuddemberg@alumnos.uai.cl**\n",
    "\n",
    "**+56 9 7532 8800**"
   ]
  },
  {
   "cell_type": "markdown",
   "id": "cc0be294",
   "metadata": {
    "slideshow": {
     "slide_type": "slide"
    }
   },
   "source": [
    "Veremos algunas funcionalidades de pandas para limpiar y consolidar datos."
   ]
  },
  {
   "cell_type": "code",
   "execution_count": 1,
   "id": "fac42de9",
   "metadata": {
    "slideshow": {
     "slide_type": "fragment"
    }
   },
   "outputs": [],
   "source": [
    "import pandas as pd\n",
    "import numpy as np # Lo usaremos para generar NaNs"
   ]
  },
  {
   "cell_type": "markdown",
   "id": "0645f9af",
   "metadata": {
    "slideshow": {
     "slide_type": "slide"
    }
   },
   "source": [
    "## Valores fuera del tipo esperado\n",
    "Es muy usual encontrar, en fuentes de datos, valores que no corresponden al tipo esperado. Por ejemplo, cuando tenemos una columna de números, donde algunos de los elementos son strings."
   ]
  },
  {
   "cell_type": "code",
   "execution_count": 2,
   "id": "08420577",
   "metadata": {
    "slideshow": {
     "slide_type": "fragment"
    }
   },
   "outputs": [
    {
     "data": {
      "text/html": [
       "<div>\n",
       "<style scoped>\n",
       "    .dataframe tbody tr th:only-of-type {\n",
       "        vertical-align: middle;\n",
       "    }\n",
       "\n",
       "    .dataframe tbody tr th {\n",
       "        vertical-align: top;\n",
       "    }\n",
       "\n",
       "    .dataframe thead th {\n",
       "        text-align: right;\n",
       "    }\n",
       "</style>\n",
       "<table border=\"1\" class=\"dataframe\">\n",
       "  <thead>\n",
       "    <tr style=\"text-align: right;\">\n",
       "      <th></th>\n",
       "      <th>Peso (Kg)</th>\n",
       "    </tr>\n",
       "  </thead>\n",
       "  <tbody>\n",
       "    <tr>\n",
       "      <th>Francisco</th>\n",
       "      <td>75</td>\n",
       "    </tr>\n",
       "    <tr>\n",
       "      <th>Marta</th>\n",
       "      <td>64</td>\n",
       "    </tr>\n",
       "    <tr>\n",
       "      <th>Pablo</th>\n",
       "      <td>87</td>\n",
       "    </tr>\n",
       "    <tr>\n",
       "      <th>Camila</th>\n",
       "      <td>59</td>\n",
       "    </tr>\n",
       "  </tbody>\n",
       "</table>\n",
       "</div>"
      ],
      "text/plain": [
       "          Peso (Kg)\n",
       "Francisco        75\n",
       "Marta            64\n",
       "Pablo            87\n",
       "Camila           59"
      ]
     },
     "execution_count": 2,
     "metadata": {},
     "output_type": "execute_result"
    }
   ],
   "source": [
    "edad = pd.DataFrame({\"Peso (Kg)\": [75,\"     64\",87, 59]},\n",
    "    index = [\"Francisco\", \"Marta\", \"Pablo\", \"Camila\"])\n",
    "edad"
   ]
  },
  {
   "cell_type": "code",
   "execution_count": 3,
   "id": "01d4e6f8",
   "metadata": {
    "slideshow": {
     "slide_type": "fragment"
    }
   },
   "outputs": [
    {
     "ename": "TypeError",
     "evalue": "can only concatenate str (not \"int\") to str",
     "output_type": "error",
     "traceback": [
      "\u001b[1;31m---------------------------------------------------------------------------\u001b[0m",
      "\u001b[1;31mTypeError\u001b[0m                                 Traceback (most recent call last)",
      "\u001b[1;32m~\\anaconda3\\lib\\site-packages\\pandas\\core\\ops\\array_ops.py\u001b[0m in \u001b[0;36m_na_arithmetic_op\u001b[1;34m(left, right, op, is_cmp)\u001b[0m\n\u001b[0;32m    165\u001b[0m     \u001b[1;32mtry\u001b[0m\u001b[1;33m:\u001b[0m\u001b[1;33m\u001b[0m\u001b[1;33m\u001b[0m\u001b[0m\n\u001b[1;32m--> 166\u001b[1;33m         \u001b[0mresult\u001b[0m \u001b[1;33m=\u001b[0m \u001b[0mfunc\u001b[0m\u001b[1;33m(\u001b[0m\u001b[0mleft\u001b[0m\u001b[1;33m,\u001b[0m \u001b[0mright\u001b[0m\u001b[1;33m)\u001b[0m\u001b[1;33m\u001b[0m\u001b[1;33m\u001b[0m\u001b[0m\n\u001b[0m\u001b[0;32m    167\u001b[0m     \u001b[1;32mexcept\u001b[0m \u001b[0mTypeError\u001b[0m\u001b[1;33m:\u001b[0m\u001b[1;33m\u001b[0m\u001b[1;33m\u001b[0m\u001b[0m\n",
      "\u001b[1;32m~\\anaconda3\\lib\\site-packages\\pandas\\core\\computation\\expressions.py\u001b[0m in \u001b[0;36mevaluate\u001b[1;34m(op, a, b, use_numexpr)\u001b[0m\n\u001b[0;32m    238\u001b[0m             \u001b[1;31m# error: \"None\" not callable\u001b[0m\u001b[1;33m\u001b[0m\u001b[1;33m\u001b[0m\u001b[0m\n\u001b[1;32m--> 239\u001b[1;33m             \u001b[1;32mreturn\u001b[0m \u001b[0m_evaluate\u001b[0m\u001b[1;33m(\u001b[0m\u001b[0mop\u001b[0m\u001b[1;33m,\u001b[0m \u001b[0mop_str\u001b[0m\u001b[1;33m,\u001b[0m \u001b[0ma\u001b[0m\u001b[1;33m,\u001b[0m \u001b[0mb\u001b[0m\u001b[1;33m)\u001b[0m  \u001b[1;31m# type: ignore[misc]\u001b[0m\u001b[1;33m\u001b[0m\u001b[1;33m\u001b[0m\u001b[0m\n\u001b[0m\u001b[0;32m    240\u001b[0m     \u001b[1;32mreturn\u001b[0m \u001b[0m_evaluate_standard\u001b[0m\u001b[1;33m(\u001b[0m\u001b[0mop\u001b[0m\u001b[1;33m,\u001b[0m \u001b[0mop_str\u001b[0m\u001b[1;33m,\u001b[0m \u001b[0ma\u001b[0m\u001b[1;33m,\u001b[0m \u001b[0mb\u001b[0m\u001b[1;33m)\u001b[0m\u001b[1;33m\u001b[0m\u001b[1;33m\u001b[0m\u001b[0m\n",
      "\u001b[1;32m~\\anaconda3\\lib\\site-packages\\pandas\\core\\computation\\expressions.py\u001b[0m in \u001b[0;36m_evaluate_numexpr\u001b[1;34m(op, op_str, a, b)\u001b[0m\n\u001b[0;32m    127\u001b[0m     \u001b[1;32mif\u001b[0m \u001b[0mresult\u001b[0m \u001b[1;32mis\u001b[0m \u001b[1;32mNone\u001b[0m\u001b[1;33m:\u001b[0m\u001b[1;33m\u001b[0m\u001b[1;33m\u001b[0m\u001b[0m\n\u001b[1;32m--> 128\u001b[1;33m         \u001b[0mresult\u001b[0m \u001b[1;33m=\u001b[0m \u001b[0m_evaluate_standard\u001b[0m\u001b[1;33m(\u001b[0m\u001b[0mop\u001b[0m\u001b[1;33m,\u001b[0m \u001b[0mop_str\u001b[0m\u001b[1;33m,\u001b[0m \u001b[0ma\u001b[0m\u001b[1;33m,\u001b[0m \u001b[0mb\u001b[0m\u001b[1;33m)\u001b[0m\u001b[1;33m\u001b[0m\u001b[1;33m\u001b[0m\u001b[0m\n\u001b[0m\u001b[0;32m    129\u001b[0m \u001b[1;33m\u001b[0m\u001b[0m\n",
      "\u001b[1;32m~\\anaconda3\\lib\\site-packages\\pandas\\core\\computation\\expressions.py\u001b[0m in \u001b[0;36m_evaluate_standard\u001b[1;34m(op, op_str, a, b)\u001b[0m\n\u001b[0;32m     68\u001b[0m         \u001b[0m_store_test_result\u001b[0m\u001b[1;33m(\u001b[0m\u001b[1;32mFalse\u001b[0m\u001b[1;33m)\u001b[0m\u001b[1;33m\u001b[0m\u001b[1;33m\u001b[0m\u001b[0m\n\u001b[1;32m---> 69\u001b[1;33m     \u001b[1;32mreturn\u001b[0m \u001b[0mop\u001b[0m\u001b[1;33m(\u001b[0m\u001b[0ma\u001b[0m\u001b[1;33m,\u001b[0m \u001b[0mb\u001b[0m\u001b[1;33m)\u001b[0m\u001b[1;33m\u001b[0m\u001b[1;33m\u001b[0m\u001b[0m\n\u001b[0m\u001b[0;32m     70\u001b[0m \u001b[1;33m\u001b[0m\u001b[0m\n",
      "\u001b[1;31mTypeError\u001b[0m: can only concatenate str (not \"int\") to str",
      "\nDuring handling of the above exception, another exception occurred:\n",
      "\u001b[1;31mTypeError\u001b[0m                                 Traceback (most recent call last)",
      "\u001b[1;32m~\\AppData\\Local\\Temp/ipykernel_16400/990438812.py\u001b[0m in \u001b[0;36m<module>\u001b[1;34m\u001b[0m\n\u001b[1;32m----> 1\u001b[1;33m \u001b[0medad\u001b[0m\u001b[1;33m[\u001b[0m\u001b[1;34m\"Peso (Kg)\"\u001b[0m\u001b[1;33m]\u001b[0m \u001b[1;33m+\u001b[0m \u001b[1;36m100\u001b[0m\u001b[1;33m\u001b[0m\u001b[1;33m\u001b[0m\u001b[0m\n\u001b[0m",
      "\u001b[1;32m~\\anaconda3\\lib\\site-packages\\pandas\\core\\ops\\common.py\u001b[0m in \u001b[0;36mnew_method\u001b[1;34m(self, other)\u001b[0m\n\u001b[0;32m     67\u001b[0m         \u001b[0mother\u001b[0m \u001b[1;33m=\u001b[0m \u001b[0mitem_from_zerodim\u001b[0m\u001b[1;33m(\u001b[0m\u001b[0mother\u001b[0m\u001b[1;33m)\u001b[0m\u001b[1;33m\u001b[0m\u001b[1;33m\u001b[0m\u001b[0m\n\u001b[0;32m     68\u001b[0m \u001b[1;33m\u001b[0m\u001b[0m\n\u001b[1;32m---> 69\u001b[1;33m         \u001b[1;32mreturn\u001b[0m \u001b[0mmethod\u001b[0m\u001b[1;33m(\u001b[0m\u001b[0mself\u001b[0m\u001b[1;33m,\u001b[0m \u001b[0mother\u001b[0m\u001b[1;33m)\u001b[0m\u001b[1;33m\u001b[0m\u001b[1;33m\u001b[0m\u001b[0m\n\u001b[0m\u001b[0;32m     70\u001b[0m \u001b[1;33m\u001b[0m\u001b[0m\n\u001b[0;32m     71\u001b[0m     \u001b[1;32mreturn\u001b[0m \u001b[0mnew_method\u001b[0m\u001b[1;33m\u001b[0m\u001b[1;33m\u001b[0m\u001b[0m\n",
      "\u001b[1;32m~\\anaconda3\\lib\\site-packages\\pandas\\core\\arraylike.py\u001b[0m in \u001b[0;36m__add__\u001b[1;34m(self, other)\u001b[0m\n\u001b[0;32m     90\u001b[0m     \u001b[1;33m@\u001b[0m\u001b[0munpack_zerodim_and_defer\u001b[0m\u001b[1;33m(\u001b[0m\u001b[1;34m\"__add__\"\u001b[0m\u001b[1;33m)\u001b[0m\u001b[1;33m\u001b[0m\u001b[1;33m\u001b[0m\u001b[0m\n\u001b[0;32m     91\u001b[0m     \u001b[1;32mdef\u001b[0m \u001b[0m__add__\u001b[0m\u001b[1;33m(\u001b[0m\u001b[0mself\u001b[0m\u001b[1;33m,\u001b[0m \u001b[0mother\u001b[0m\u001b[1;33m)\u001b[0m\u001b[1;33m:\u001b[0m\u001b[1;33m\u001b[0m\u001b[1;33m\u001b[0m\u001b[0m\n\u001b[1;32m---> 92\u001b[1;33m         \u001b[1;32mreturn\u001b[0m \u001b[0mself\u001b[0m\u001b[1;33m.\u001b[0m\u001b[0m_arith_method\u001b[0m\u001b[1;33m(\u001b[0m\u001b[0mother\u001b[0m\u001b[1;33m,\u001b[0m \u001b[0moperator\u001b[0m\u001b[1;33m.\u001b[0m\u001b[0madd\u001b[0m\u001b[1;33m)\u001b[0m\u001b[1;33m\u001b[0m\u001b[1;33m\u001b[0m\u001b[0m\n\u001b[0m\u001b[0;32m     93\u001b[0m \u001b[1;33m\u001b[0m\u001b[0m\n\u001b[0;32m     94\u001b[0m     \u001b[1;33m@\u001b[0m\u001b[0munpack_zerodim_and_defer\u001b[0m\u001b[1;33m(\u001b[0m\u001b[1;34m\"__radd__\"\u001b[0m\u001b[1;33m)\u001b[0m\u001b[1;33m\u001b[0m\u001b[1;33m\u001b[0m\u001b[0m\n",
      "\u001b[1;32m~\\anaconda3\\lib\\site-packages\\pandas\\core\\series.py\u001b[0m in \u001b[0;36m_arith_method\u001b[1;34m(self, other, op)\u001b[0m\n\u001b[0;32m   5524\u001b[0m \u001b[1;33m\u001b[0m\u001b[0m\n\u001b[0;32m   5525\u001b[0m         \u001b[1;32mwith\u001b[0m \u001b[0mnp\u001b[0m\u001b[1;33m.\u001b[0m\u001b[0merrstate\u001b[0m\u001b[1;33m(\u001b[0m\u001b[0mall\u001b[0m\u001b[1;33m=\u001b[0m\u001b[1;34m\"ignore\"\u001b[0m\u001b[1;33m)\u001b[0m\u001b[1;33m:\u001b[0m\u001b[1;33m\u001b[0m\u001b[1;33m\u001b[0m\u001b[0m\n\u001b[1;32m-> 5526\u001b[1;33m             \u001b[0mresult\u001b[0m \u001b[1;33m=\u001b[0m \u001b[0mops\u001b[0m\u001b[1;33m.\u001b[0m\u001b[0marithmetic_op\u001b[0m\u001b[1;33m(\u001b[0m\u001b[0mlvalues\u001b[0m\u001b[1;33m,\u001b[0m \u001b[0mrvalues\u001b[0m\u001b[1;33m,\u001b[0m \u001b[0mop\u001b[0m\u001b[1;33m)\u001b[0m\u001b[1;33m\u001b[0m\u001b[1;33m\u001b[0m\u001b[0m\n\u001b[0m\u001b[0;32m   5527\u001b[0m \u001b[1;33m\u001b[0m\u001b[0m\n\u001b[0;32m   5528\u001b[0m         \u001b[1;32mreturn\u001b[0m \u001b[0mself\u001b[0m\u001b[1;33m.\u001b[0m\u001b[0m_construct_result\u001b[0m\u001b[1;33m(\u001b[0m\u001b[0mresult\u001b[0m\u001b[1;33m,\u001b[0m \u001b[0mname\u001b[0m\u001b[1;33m=\u001b[0m\u001b[0mres_name\u001b[0m\u001b[1;33m)\u001b[0m\u001b[1;33m\u001b[0m\u001b[1;33m\u001b[0m\u001b[0m\n",
      "\u001b[1;32m~\\anaconda3\\lib\\site-packages\\pandas\\core\\ops\\array_ops.py\u001b[0m in \u001b[0;36marithmetic_op\u001b[1;34m(left, right, op)\u001b[0m\n\u001b[0;32m    222\u001b[0m         \u001b[0m_bool_arith_check\u001b[0m\u001b[1;33m(\u001b[0m\u001b[0mop\u001b[0m\u001b[1;33m,\u001b[0m \u001b[0mleft\u001b[0m\u001b[1;33m,\u001b[0m \u001b[0mright\u001b[0m\u001b[1;33m)\u001b[0m\u001b[1;33m\u001b[0m\u001b[1;33m\u001b[0m\u001b[0m\n\u001b[0;32m    223\u001b[0m \u001b[1;33m\u001b[0m\u001b[0m\n\u001b[1;32m--> 224\u001b[1;33m         \u001b[0mres_values\u001b[0m \u001b[1;33m=\u001b[0m \u001b[0m_na_arithmetic_op\u001b[0m\u001b[1;33m(\u001b[0m\u001b[0mleft\u001b[0m\u001b[1;33m,\u001b[0m \u001b[0mright\u001b[0m\u001b[1;33m,\u001b[0m \u001b[0mop\u001b[0m\u001b[1;33m)\u001b[0m\u001b[1;33m\u001b[0m\u001b[1;33m\u001b[0m\u001b[0m\n\u001b[0m\u001b[0;32m    225\u001b[0m \u001b[1;33m\u001b[0m\u001b[0m\n\u001b[0;32m    226\u001b[0m     \u001b[1;32mreturn\u001b[0m \u001b[0mres_values\u001b[0m\u001b[1;33m\u001b[0m\u001b[1;33m\u001b[0m\u001b[0m\n",
      "\u001b[1;32m~\\anaconda3\\lib\\site-packages\\pandas\\core\\ops\\array_ops.py\u001b[0m in \u001b[0;36m_na_arithmetic_op\u001b[1;34m(left, right, op, is_cmp)\u001b[0m\n\u001b[0;32m    171\u001b[0m             \u001b[1;31m# Don't do this for comparisons, as that will handle complex numbers\u001b[0m\u001b[1;33m\u001b[0m\u001b[1;33m\u001b[0m\u001b[0m\n\u001b[0;32m    172\u001b[0m             \u001b[1;31m#  incorrectly, see GH#32047\u001b[0m\u001b[1;33m\u001b[0m\u001b[1;33m\u001b[0m\u001b[0m\n\u001b[1;32m--> 173\u001b[1;33m             \u001b[0mresult\u001b[0m \u001b[1;33m=\u001b[0m \u001b[0m_masked_arith_op\u001b[0m\u001b[1;33m(\u001b[0m\u001b[0mleft\u001b[0m\u001b[1;33m,\u001b[0m \u001b[0mright\u001b[0m\u001b[1;33m,\u001b[0m \u001b[0mop\u001b[0m\u001b[1;33m)\u001b[0m\u001b[1;33m\u001b[0m\u001b[1;33m\u001b[0m\u001b[0m\n\u001b[0m\u001b[0;32m    174\u001b[0m         \u001b[1;32melse\u001b[0m\u001b[1;33m:\u001b[0m\u001b[1;33m\u001b[0m\u001b[1;33m\u001b[0m\u001b[0m\n\u001b[0;32m    175\u001b[0m             \u001b[1;32mraise\u001b[0m\u001b[1;33m\u001b[0m\u001b[1;33m\u001b[0m\u001b[0m\n",
      "\u001b[1;32m~\\anaconda3\\lib\\site-packages\\pandas\\core\\ops\\array_ops.py\u001b[0m in \u001b[0;36m_masked_arith_op\u001b[1;34m(x, y, op)\u001b[0m\n\u001b[0;32m    129\u001b[0m \u001b[1;33m\u001b[0m\u001b[0m\n\u001b[0;32m    130\u001b[0m         \u001b[1;32mif\u001b[0m \u001b[0mmask\u001b[0m\u001b[1;33m.\u001b[0m\u001b[0many\u001b[0m\u001b[1;33m(\u001b[0m\u001b[1;33m)\u001b[0m\u001b[1;33m:\u001b[0m\u001b[1;33m\u001b[0m\u001b[1;33m\u001b[0m\u001b[0m\n\u001b[1;32m--> 131\u001b[1;33m             \u001b[0mresult\u001b[0m\u001b[1;33m[\u001b[0m\u001b[0mmask\u001b[0m\u001b[1;33m]\u001b[0m \u001b[1;33m=\u001b[0m \u001b[0mop\u001b[0m\u001b[1;33m(\u001b[0m\u001b[0mxrav\u001b[0m\u001b[1;33m[\u001b[0m\u001b[0mmask\u001b[0m\u001b[1;33m]\u001b[0m\u001b[1;33m,\u001b[0m \u001b[0my\u001b[0m\u001b[1;33m)\u001b[0m\u001b[1;33m\u001b[0m\u001b[1;33m\u001b[0m\u001b[0m\n\u001b[0m\u001b[0;32m    132\u001b[0m \u001b[1;33m\u001b[0m\u001b[0m\n\u001b[0;32m    133\u001b[0m     \u001b[0mnp\u001b[0m\u001b[1;33m.\u001b[0m\u001b[0mputmask\u001b[0m\u001b[1;33m(\u001b[0m\u001b[0mresult\u001b[0m\u001b[1;33m,\u001b[0m \u001b[1;33m~\u001b[0m\u001b[0mmask\u001b[0m\u001b[1;33m,\u001b[0m \u001b[0mnp\u001b[0m\u001b[1;33m.\u001b[0m\u001b[0mnan\u001b[0m\u001b[1;33m)\u001b[0m\u001b[1;33m\u001b[0m\u001b[1;33m\u001b[0m\u001b[0m\n",
      "\u001b[1;31mTypeError\u001b[0m: can only concatenate str (not \"int\") to str"
     ]
    }
   ],
   "source": [
    "edad[\"Peso (Kg)\"] + 100"
   ]
  },
  {
   "cell_type": "code",
   "execution_count": 4,
   "id": "f7305ad9",
   "metadata": {
    "slideshow": {
     "slide_type": "fragment"
    }
   },
   "outputs": [
    {
     "data": {
      "text/plain": [
       "Peso (Kg)    object\n",
       "dtype: object"
      ]
     },
     "execution_count": 4,
     "metadata": {},
     "output_type": "execute_result"
    }
   ],
   "source": [
    "edad.dtypes"
   ]
  },
  {
   "cell_type": "markdown",
   "id": "6dcf24fd",
   "metadata": {
    "slideshow": {
     "slide_type": "subslide"
    }
   },
   "source": [
    "En estos casos, el atributo `.astype()` nos permite reinterpretar (usualmente transformando) un tipo de dato en otro."
   ]
  },
  {
   "cell_type": "code",
   "execution_count": 5,
   "id": "ecb08a84",
   "metadata": {
    "slideshow": {
     "slide_type": "fragment"
    }
   },
   "outputs": [
    {
     "data": {
      "text/html": [
       "<div>\n",
       "<style scoped>\n",
       "    .dataframe tbody tr th:only-of-type {\n",
       "        vertical-align: middle;\n",
       "    }\n",
       "\n",
       "    .dataframe tbody tr th {\n",
       "        vertical-align: top;\n",
       "    }\n",
       "\n",
       "    .dataframe thead th {\n",
       "        text-align: right;\n",
       "    }\n",
       "</style>\n",
       "<table border=\"1\" class=\"dataframe\">\n",
       "  <thead>\n",
       "    <tr style=\"text-align: right;\">\n",
       "      <th></th>\n",
       "      <th>Peso (Kg)</th>\n",
       "    </tr>\n",
       "  </thead>\n",
       "  <tbody>\n",
       "    <tr>\n",
       "      <th>Francisco</th>\n",
       "      <td>75</td>\n",
       "    </tr>\n",
       "    <tr>\n",
       "      <th>Marta</th>\n",
       "      <td>64</td>\n",
       "    </tr>\n",
       "    <tr>\n",
       "      <th>Pablo</th>\n",
       "      <td>87</td>\n",
       "    </tr>\n",
       "    <tr>\n",
       "      <th>Camila</th>\n",
       "      <td>59</td>\n",
       "    </tr>\n",
       "  </tbody>\n",
       "</table>\n",
       "</div>"
      ],
      "text/plain": [
       "           Peso (Kg)\n",
       "Francisco         75\n",
       "Marta             64\n",
       "Pablo             87\n",
       "Camila            59"
      ]
     },
     "execution_count": 5,
     "metadata": {},
     "output_type": "execute_result"
    }
   ],
   "source": [
    "edad[\"Peso (Kg)\"] = edad[\"Peso (Kg)\"].astype(int)\n",
    "edad"
   ]
  },
  {
   "cell_type": "code",
   "execution_count": 6,
   "id": "8c985c26",
   "metadata": {
    "slideshow": {
     "slide_type": "fragment"
    }
   },
   "outputs": [
    {
     "data": {
      "text/plain": [
       "Francisco    175\n",
       "Marta        164\n",
       "Pablo        187\n",
       "Camila       159\n",
       "Name: Peso (Kg), dtype: int32"
      ]
     },
     "execution_count": 6,
     "metadata": {},
     "output_type": "execute_result"
    }
   ],
   "source": [
    "edad[\"Peso (Kg)\"] + 100"
   ]
  },
  {
   "cell_type": "markdown",
   "id": "01fcbb32",
   "metadata": {
    "slideshow": {
     "slide_type": "subslide"
    }
   },
   "source": [
    "Pero esto va a funcionar mientras el valor sea transformable. Muchas veces nos encontraremos con casos no trivialmente transformables:"
   ]
  },
  {
   "cell_type": "code",
   "execution_count": 7,
   "id": "60007e97",
   "metadata": {
    "slideshow": {
     "slide_type": "fragment"
    }
   },
   "outputs": [],
   "source": [
    "edades = pd.DataFrame({\"Peso (Kg)\":[75,\"LoL\",87, 59]},\n",
    "    index = [\"Francisco\", \"Marta\", \"Pablo\", \"Camila\"])"
   ]
  },
  {
   "cell_type": "code",
   "execution_count": 8,
   "id": "4d52e680",
   "metadata": {
    "slideshow": {
     "slide_type": "fragment"
    }
   },
   "outputs": [
    {
     "data": {
      "text/html": [
       "<div>\n",
       "<style scoped>\n",
       "    .dataframe tbody tr th:only-of-type {\n",
       "        vertical-align: middle;\n",
       "    }\n",
       "\n",
       "    .dataframe tbody tr th {\n",
       "        vertical-align: top;\n",
       "    }\n",
       "\n",
       "    .dataframe thead th {\n",
       "        text-align: right;\n",
       "    }\n",
       "</style>\n",
       "<table border=\"1\" class=\"dataframe\">\n",
       "  <thead>\n",
       "    <tr style=\"text-align: right;\">\n",
       "      <th></th>\n",
       "      <th>Peso (Kg)</th>\n",
       "    </tr>\n",
       "  </thead>\n",
       "  <tbody>\n",
       "    <tr>\n",
       "      <th>Francisco</th>\n",
       "      <td>75</td>\n",
       "    </tr>\n",
       "    <tr>\n",
       "      <th>Marta</th>\n",
       "      <td>LoL</td>\n",
       "    </tr>\n",
       "    <tr>\n",
       "      <th>Pablo</th>\n",
       "      <td>87</td>\n",
       "    </tr>\n",
       "    <tr>\n",
       "      <th>Camila</th>\n",
       "      <td>59</td>\n",
       "    </tr>\n",
       "  </tbody>\n",
       "</table>\n",
       "</div>"
      ],
      "text/plain": [
       "          Peso (Kg)\n",
       "Francisco        75\n",
       "Marta           LoL\n",
       "Pablo            87\n",
       "Camila           59"
      ]
     },
     "execution_count": 8,
     "metadata": {},
     "output_type": "execute_result"
    }
   ],
   "source": [
    "edades"
   ]
  },
  {
   "cell_type": "code",
   "execution_count": 9,
   "id": "f6c3fd37",
   "metadata": {
    "slideshow": {
     "slide_type": "subslide"
    }
   },
   "outputs": [
    {
     "ename": "ValueError",
     "evalue": "invalid literal for int() with base 10: 'LoL'",
     "output_type": "error",
     "traceback": [
      "\u001b[1;31m---------------------------------------------------------------------------\u001b[0m",
      "\u001b[1;31mValueError\u001b[0m                                Traceback (most recent call last)",
      "\u001b[1;32m~\\AppData\\Local\\Temp/ipykernel_16400/2035948535.py\u001b[0m in \u001b[0;36m<module>\u001b[1;34m\u001b[0m\n\u001b[1;32m----> 1\u001b[1;33m \u001b[0medades\u001b[0m\u001b[1;33m[\u001b[0m\u001b[1;34m\"Peso (Kg)\"\u001b[0m\u001b[1;33m]\u001b[0m \u001b[1;33m=\u001b[0m \u001b[0medades\u001b[0m\u001b[1;33m[\u001b[0m\u001b[1;34m\"Peso (Kg)\"\u001b[0m\u001b[1;33m]\u001b[0m\u001b[1;33m.\u001b[0m\u001b[0mastype\u001b[0m\u001b[1;33m(\u001b[0m\u001b[0mint\u001b[0m\u001b[1;33m)\u001b[0m\u001b[1;33m\u001b[0m\u001b[1;33m\u001b[0m\u001b[0m\n\u001b[0m",
      "\u001b[1;32m~\\anaconda3\\lib\\site-packages\\pandas\\core\\generic.py\u001b[0m in \u001b[0;36mastype\u001b[1;34m(self, dtype, copy, errors)\u001b[0m\n\u001b[0;32m   5813\u001b[0m         \u001b[1;32melse\u001b[0m\u001b[1;33m:\u001b[0m\u001b[1;33m\u001b[0m\u001b[1;33m\u001b[0m\u001b[0m\n\u001b[0;32m   5814\u001b[0m             \u001b[1;31m# else, only a single dtype is given\u001b[0m\u001b[1;33m\u001b[0m\u001b[1;33m\u001b[0m\u001b[0m\n\u001b[1;32m-> 5815\u001b[1;33m             \u001b[0mnew_data\u001b[0m \u001b[1;33m=\u001b[0m \u001b[0mself\u001b[0m\u001b[1;33m.\u001b[0m\u001b[0m_mgr\u001b[0m\u001b[1;33m.\u001b[0m\u001b[0mastype\u001b[0m\u001b[1;33m(\u001b[0m\u001b[0mdtype\u001b[0m\u001b[1;33m=\u001b[0m\u001b[0mdtype\u001b[0m\u001b[1;33m,\u001b[0m \u001b[0mcopy\u001b[0m\u001b[1;33m=\u001b[0m\u001b[0mcopy\u001b[0m\u001b[1;33m,\u001b[0m \u001b[0merrors\u001b[0m\u001b[1;33m=\u001b[0m\u001b[0merrors\u001b[0m\u001b[1;33m)\u001b[0m\u001b[1;33m\u001b[0m\u001b[1;33m\u001b[0m\u001b[0m\n\u001b[0m\u001b[0;32m   5816\u001b[0m             \u001b[1;32mreturn\u001b[0m \u001b[0mself\u001b[0m\u001b[1;33m.\u001b[0m\u001b[0m_constructor\u001b[0m\u001b[1;33m(\u001b[0m\u001b[0mnew_data\u001b[0m\u001b[1;33m)\u001b[0m\u001b[1;33m.\u001b[0m\u001b[0m__finalize__\u001b[0m\u001b[1;33m(\u001b[0m\u001b[0mself\u001b[0m\u001b[1;33m,\u001b[0m \u001b[0mmethod\u001b[0m\u001b[1;33m=\u001b[0m\u001b[1;34m\"astype\"\u001b[0m\u001b[1;33m)\u001b[0m\u001b[1;33m\u001b[0m\u001b[1;33m\u001b[0m\u001b[0m\n\u001b[0;32m   5817\u001b[0m \u001b[1;33m\u001b[0m\u001b[0m\n",
      "\u001b[1;32m~\\anaconda3\\lib\\site-packages\\pandas\\core\\internals\\managers.py\u001b[0m in \u001b[0;36mastype\u001b[1;34m(self, dtype, copy, errors)\u001b[0m\n\u001b[0;32m    416\u001b[0m \u001b[1;33m\u001b[0m\u001b[0m\n\u001b[0;32m    417\u001b[0m     \u001b[1;32mdef\u001b[0m \u001b[0mastype\u001b[0m\u001b[1;33m(\u001b[0m\u001b[0mself\u001b[0m\u001b[1;33m:\u001b[0m \u001b[0mT\u001b[0m\u001b[1;33m,\u001b[0m \u001b[0mdtype\u001b[0m\u001b[1;33m,\u001b[0m \u001b[0mcopy\u001b[0m\u001b[1;33m:\u001b[0m \u001b[0mbool\u001b[0m \u001b[1;33m=\u001b[0m \u001b[1;32mFalse\u001b[0m\u001b[1;33m,\u001b[0m \u001b[0merrors\u001b[0m\u001b[1;33m:\u001b[0m \u001b[0mstr\u001b[0m \u001b[1;33m=\u001b[0m \u001b[1;34m\"raise\"\u001b[0m\u001b[1;33m)\u001b[0m \u001b[1;33m->\u001b[0m \u001b[0mT\u001b[0m\u001b[1;33m:\u001b[0m\u001b[1;33m\u001b[0m\u001b[1;33m\u001b[0m\u001b[0m\n\u001b[1;32m--> 418\u001b[1;33m         \u001b[1;32mreturn\u001b[0m \u001b[0mself\u001b[0m\u001b[1;33m.\u001b[0m\u001b[0mapply\u001b[0m\u001b[1;33m(\u001b[0m\u001b[1;34m\"astype\"\u001b[0m\u001b[1;33m,\u001b[0m \u001b[0mdtype\u001b[0m\u001b[1;33m=\u001b[0m\u001b[0mdtype\u001b[0m\u001b[1;33m,\u001b[0m \u001b[0mcopy\u001b[0m\u001b[1;33m=\u001b[0m\u001b[0mcopy\u001b[0m\u001b[1;33m,\u001b[0m \u001b[0merrors\u001b[0m\u001b[1;33m=\u001b[0m\u001b[0merrors\u001b[0m\u001b[1;33m)\u001b[0m\u001b[1;33m\u001b[0m\u001b[1;33m\u001b[0m\u001b[0m\n\u001b[0m\u001b[0;32m    419\u001b[0m \u001b[1;33m\u001b[0m\u001b[0m\n\u001b[0;32m    420\u001b[0m     def convert(\n",
      "\u001b[1;32m~\\anaconda3\\lib\\site-packages\\pandas\\core\\internals\\managers.py\u001b[0m in \u001b[0;36mapply\u001b[1;34m(self, f, align_keys, ignore_failures, **kwargs)\u001b[0m\n\u001b[0;32m    325\u001b[0m                     \u001b[0mapplied\u001b[0m \u001b[1;33m=\u001b[0m \u001b[0mb\u001b[0m\u001b[1;33m.\u001b[0m\u001b[0mapply\u001b[0m\u001b[1;33m(\u001b[0m\u001b[0mf\u001b[0m\u001b[1;33m,\u001b[0m \u001b[1;33m**\u001b[0m\u001b[0mkwargs\u001b[0m\u001b[1;33m)\u001b[0m\u001b[1;33m\u001b[0m\u001b[1;33m\u001b[0m\u001b[0m\n\u001b[0;32m    326\u001b[0m                 \u001b[1;32melse\u001b[0m\u001b[1;33m:\u001b[0m\u001b[1;33m\u001b[0m\u001b[1;33m\u001b[0m\u001b[0m\n\u001b[1;32m--> 327\u001b[1;33m                     \u001b[0mapplied\u001b[0m \u001b[1;33m=\u001b[0m \u001b[0mgetattr\u001b[0m\u001b[1;33m(\u001b[0m\u001b[0mb\u001b[0m\u001b[1;33m,\u001b[0m \u001b[0mf\u001b[0m\u001b[1;33m)\u001b[0m\u001b[1;33m(\u001b[0m\u001b[1;33m**\u001b[0m\u001b[0mkwargs\u001b[0m\u001b[1;33m)\u001b[0m\u001b[1;33m\u001b[0m\u001b[1;33m\u001b[0m\u001b[0m\n\u001b[0m\u001b[0;32m    328\u001b[0m             \u001b[1;32mexcept\u001b[0m \u001b[1;33m(\u001b[0m\u001b[0mTypeError\u001b[0m\u001b[1;33m,\u001b[0m \u001b[0mNotImplementedError\u001b[0m\u001b[1;33m)\u001b[0m\u001b[1;33m:\u001b[0m\u001b[1;33m\u001b[0m\u001b[1;33m\u001b[0m\u001b[0m\n\u001b[0;32m    329\u001b[0m                 \u001b[1;32mif\u001b[0m \u001b[1;32mnot\u001b[0m \u001b[0mignore_failures\u001b[0m\u001b[1;33m:\u001b[0m\u001b[1;33m\u001b[0m\u001b[1;33m\u001b[0m\u001b[0m\n",
      "\u001b[1;32m~\\anaconda3\\lib\\site-packages\\pandas\\core\\internals\\blocks.py\u001b[0m in \u001b[0;36mastype\u001b[1;34m(self, dtype, copy, errors)\u001b[0m\n\u001b[0;32m    589\u001b[0m         \u001b[0mvalues\u001b[0m \u001b[1;33m=\u001b[0m \u001b[0mself\u001b[0m\u001b[1;33m.\u001b[0m\u001b[0mvalues\u001b[0m\u001b[1;33m\u001b[0m\u001b[1;33m\u001b[0m\u001b[0m\n\u001b[0;32m    590\u001b[0m \u001b[1;33m\u001b[0m\u001b[0m\n\u001b[1;32m--> 591\u001b[1;33m         \u001b[0mnew_values\u001b[0m \u001b[1;33m=\u001b[0m \u001b[0mastype_array_safe\u001b[0m\u001b[1;33m(\u001b[0m\u001b[0mvalues\u001b[0m\u001b[1;33m,\u001b[0m \u001b[0mdtype\u001b[0m\u001b[1;33m,\u001b[0m \u001b[0mcopy\u001b[0m\u001b[1;33m=\u001b[0m\u001b[0mcopy\u001b[0m\u001b[1;33m,\u001b[0m \u001b[0merrors\u001b[0m\u001b[1;33m=\u001b[0m\u001b[0merrors\u001b[0m\u001b[1;33m)\u001b[0m\u001b[1;33m\u001b[0m\u001b[1;33m\u001b[0m\u001b[0m\n\u001b[0m\u001b[0;32m    592\u001b[0m \u001b[1;33m\u001b[0m\u001b[0m\n\u001b[0;32m    593\u001b[0m         \u001b[0mnew_values\u001b[0m \u001b[1;33m=\u001b[0m \u001b[0mmaybe_coerce_values\u001b[0m\u001b[1;33m(\u001b[0m\u001b[0mnew_values\u001b[0m\u001b[1;33m)\u001b[0m\u001b[1;33m\u001b[0m\u001b[1;33m\u001b[0m\u001b[0m\n",
      "\u001b[1;32m~\\anaconda3\\lib\\site-packages\\pandas\\core\\dtypes\\cast.py\u001b[0m in \u001b[0;36mastype_array_safe\u001b[1;34m(values, dtype, copy, errors)\u001b[0m\n\u001b[0;32m   1307\u001b[0m \u001b[1;33m\u001b[0m\u001b[0m\n\u001b[0;32m   1308\u001b[0m     \u001b[1;32mtry\u001b[0m\u001b[1;33m:\u001b[0m\u001b[1;33m\u001b[0m\u001b[1;33m\u001b[0m\u001b[0m\n\u001b[1;32m-> 1309\u001b[1;33m         \u001b[0mnew_values\u001b[0m \u001b[1;33m=\u001b[0m \u001b[0mastype_array\u001b[0m\u001b[1;33m(\u001b[0m\u001b[0mvalues\u001b[0m\u001b[1;33m,\u001b[0m \u001b[0mdtype\u001b[0m\u001b[1;33m,\u001b[0m \u001b[0mcopy\u001b[0m\u001b[1;33m=\u001b[0m\u001b[0mcopy\u001b[0m\u001b[1;33m)\u001b[0m\u001b[1;33m\u001b[0m\u001b[1;33m\u001b[0m\u001b[0m\n\u001b[0m\u001b[0;32m   1310\u001b[0m     \u001b[1;32mexcept\u001b[0m \u001b[1;33m(\u001b[0m\u001b[0mValueError\u001b[0m\u001b[1;33m,\u001b[0m \u001b[0mTypeError\u001b[0m\u001b[1;33m)\u001b[0m\u001b[1;33m:\u001b[0m\u001b[1;33m\u001b[0m\u001b[1;33m\u001b[0m\u001b[0m\n\u001b[0;32m   1311\u001b[0m         \u001b[1;31m# e.g. astype_nansafe can fail on object-dtype of strings\u001b[0m\u001b[1;33m\u001b[0m\u001b[1;33m\u001b[0m\u001b[0m\n",
      "\u001b[1;32m~\\anaconda3\\lib\\site-packages\\pandas\\core\\dtypes\\cast.py\u001b[0m in \u001b[0;36mastype_array\u001b[1;34m(values, dtype, copy)\u001b[0m\n\u001b[0;32m   1255\u001b[0m \u001b[1;33m\u001b[0m\u001b[0m\n\u001b[0;32m   1256\u001b[0m     \u001b[1;32melse\u001b[0m\u001b[1;33m:\u001b[0m\u001b[1;33m\u001b[0m\u001b[1;33m\u001b[0m\u001b[0m\n\u001b[1;32m-> 1257\u001b[1;33m         \u001b[0mvalues\u001b[0m \u001b[1;33m=\u001b[0m \u001b[0mastype_nansafe\u001b[0m\u001b[1;33m(\u001b[0m\u001b[0mvalues\u001b[0m\u001b[1;33m,\u001b[0m \u001b[0mdtype\u001b[0m\u001b[1;33m,\u001b[0m \u001b[0mcopy\u001b[0m\u001b[1;33m=\u001b[0m\u001b[0mcopy\u001b[0m\u001b[1;33m)\u001b[0m\u001b[1;33m\u001b[0m\u001b[1;33m\u001b[0m\u001b[0m\n\u001b[0m\u001b[0;32m   1258\u001b[0m \u001b[1;33m\u001b[0m\u001b[0m\n\u001b[0;32m   1259\u001b[0m     \u001b[1;31m# in pandas we don't store numpy str dtypes, so convert to object\u001b[0m\u001b[1;33m\u001b[0m\u001b[1;33m\u001b[0m\u001b[0m\n",
      "\u001b[1;32m~\\anaconda3\\lib\\site-packages\\pandas\\core\\dtypes\\cast.py\u001b[0m in \u001b[0;36mastype_nansafe\u001b[1;34m(arr, dtype, copy, skipna)\u001b[0m\n\u001b[0;32m   1172\u001b[0m         \u001b[1;31m# work around NumPy brokenness, #1987\u001b[0m\u001b[1;33m\u001b[0m\u001b[1;33m\u001b[0m\u001b[0m\n\u001b[0;32m   1173\u001b[0m         \u001b[1;32mif\u001b[0m \u001b[0mnp\u001b[0m\u001b[1;33m.\u001b[0m\u001b[0missubdtype\u001b[0m\u001b[1;33m(\u001b[0m\u001b[0mdtype\u001b[0m\u001b[1;33m.\u001b[0m\u001b[0mtype\u001b[0m\u001b[1;33m,\u001b[0m \u001b[0mnp\u001b[0m\u001b[1;33m.\u001b[0m\u001b[0minteger\u001b[0m\u001b[1;33m)\u001b[0m\u001b[1;33m:\u001b[0m\u001b[1;33m\u001b[0m\u001b[1;33m\u001b[0m\u001b[0m\n\u001b[1;32m-> 1174\u001b[1;33m             \u001b[1;32mreturn\u001b[0m \u001b[0mlib\u001b[0m\u001b[1;33m.\u001b[0m\u001b[0mastype_intsafe\u001b[0m\u001b[1;33m(\u001b[0m\u001b[0marr\u001b[0m\u001b[1;33m,\u001b[0m \u001b[0mdtype\u001b[0m\u001b[1;33m)\u001b[0m\u001b[1;33m\u001b[0m\u001b[1;33m\u001b[0m\u001b[0m\n\u001b[0m\u001b[0;32m   1175\u001b[0m \u001b[1;33m\u001b[0m\u001b[0m\n\u001b[0;32m   1176\u001b[0m         \u001b[1;31m# if we have a datetime/timedelta array of objects\u001b[0m\u001b[1;33m\u001b[0m\u001b[1;33m\u001b[0m\u001b[0m\n",
      "\u001b[1;32m~\\anaconda3\\lib\\site-packages\\pandas\\_libs\\lib.pyx\u001b[0m in \u001b[0;36mpandas._libs.lib.astype_intsafe\u001b[1;34m()\u001b[0m\n",
      "\u001b[1;31mValueError\u001b[0m: invalid literal for int() with base 10: 'LoL'"
     ]
    }
   ],
   "source": [
    "edades[\"Peso (Kg)\"] = edades[\"Peso (Kg)\"].astype(int)"
   ]
  },
  {
   "cell_type": "markdown",
   "id": "f427a527",
   "metadata": {
    "slideshow": {
     "slide_type": "subslide"
    }
   },
   "source": [
    "En este caso podemos usar `pd.to_numeric()`, el cual es muy flexible y permite decidir qué hacer en caso de no poder transformar un dato. En particular podemos usar `errors=\"coerce\"`, lo que insertará un `NaN` cuando no pueda convertir al tipo indicado."
   ]
  },
  {
   "cell_type": "code",
   "execution_count": 10,
   "id": "62b937e3",
   "metadata": {
    "slideshow": {
     "slide_type": "fragment"
    }
   },
   "outputs": [
    {
     "data": {
      "text/plain": [
       "Francisco    75.0\n",
       "Marta         NaN\n",
       "Pablo        87.0\n",
       "Camila       59.0\n",
       "Name: Peso (Kg), dtype: float64"
      ]
     },
     "execution_count": 10,
     "metadata": {},
     "output_type": "execute_result"
    }
   ],
   "source": [
    "pd.to_numeric(edades[\"Peso (Kg)\"], errors=\"coerce\") # Coerce = Obligar"
   ]
  },
  {
   "cell_type": "markdown",
   "id": "13cbebe4",
   "metadata": {
    "slideshow": {
     "slide_type": "subslide"
    }
   },
   "source": [
    "Con lo que sabemos podemos convertir esos `NaN` en ceros y convertir esa columna en enteros (actualmente esta en float):"
   ]
  },
  {
   "cell_type": "code",
   "execution_count": 11,
   "id": "62e89eb4",
   "metadata": {
    "slideshow": {
     "slide_type": "fragment"
    }
   },
   "outputs": [
    {
     "data": {
      "text/plain": [
       "Francisco    75.0\n",
       "Marta         0.0\n",
       "Pablo        87.0\n",
       "Camila       59.0\n",
       "Name: Peso (Kg), dtype: float64"
      ]
     },
     "execution_count": 11,
     "metadata": {},
     "output_type": "execute_result"
    }
   ],
   "source": [
    "pd.to_numeric(edades[\"Peso (Kg)\"], errors=\"coerce\").fillna(0)"
   ]
  },
  {
   "cell_type": "code",
   "execution_count": 12,
   "id": "5cd49d28",
   "metadata": {
    "slideshow": {
     "slide_type": "fragment"
    }
   },
   "outputs": [
    {
     "data": {
      "text/plain": [
       "Francisco    75\n",
       "Marta         0\n",
       "Pablo        87\n",
       "Camila       59\n",
       "Name: Peso (Kg), dtype: int32"
      ]
     },
     "execution_count": 12,
     "metadata": {},
     "output_type": "execute_result"
    }
   ],
   "source": [
    "pd.to_numeric(edades[\"Peso (Kg)\"], errors=\"coerce\").fillna(0).astype(\"int\")"
   ]
  },
  {
   "cell_type": "markdown",
   "id": "f6f45d72",
   "metadata": {
    "slideshow": {
     "slide_type": "slide"
    }
   },
   "source": [
    "# Limpiando strings\n",
    "Además de números incorrectos, muchas veces tendremos textos (strings, categorías o valores nominales), con distintas clases de ruido.\n",
    "\n",
    "La gran mayoría los podremos limpiar con las funciones de string incluidas en `DataFrame.str`, que son equivalentes a las funciones puras de strings en python. \n",
    "\n",
    "Por ejemplo:"
   ]
  },
  {
   "cell_type": "code",
   "execution_count": 13,
   "id": "40846b1a",
   "metadata": {
    "slideshow": {
     "slide_type": "fragment"
    }
   },
   "outputs": [],
   "source": [
    "Frases = pd.Series([\n",
    "    \"No importan los años de vida, sino la vida de los años\",\n",
    "    \"       De las dificultades nacen milagros\",\n",
    "    \"###A#l######g###u######nos #bu####s#ca######n u######n ######m#un#######do ######m#ás b##o####nito, ot##ros lo cr###e#an##\",\n",
    "    \"Un buen viajante no tiene planes\",\n",
    "    \"S######é #####tu m####i###########s##mo las ###co##pias### se ve##nden bar##atas\"])"
   ]
  },
  {
   "cell_type": "code",
   "execution_count": 14,
   "id": "60457604",
   "metadata": {
    "slideshow": {
     "slide_type": "subslide"
    }
   },
   "outputs": [
    {
     "data": {
      "text/plain": [
       "0    No importan los años de vida, sino la vida de ...\n",
       "1                   De las dificultades nacen milagros\n",
       "2    ###A#l######g###u######nos #bu####s#ca######n ...\n",
       "3                     Un buen viajante no tiene planes\n",
       "4    S######é #####tu m####i###########s##mo las ##...\n",
       "dtype: object"
      ]
     },
     "execution_count": 14,
     "metadata": {},
     "output_type": "execute_result"
    }
   ],
   "source": [
    "Frases"
   ]
  },
  {
   "cell_type": "code",
   "execution_count": 15,
   "id": "17ff4d48",
   "metadata": {
    "slideshow": {
     "slide_type": "fragment"
    }
   },
   "outputs": [
    {
     "data": {
      "text/plain": [
       "0    No importan los años de vida, sino la vida de ...\n",
       "1                   De las dificultades nacen milagros\n",
       "2    Algunos buscan un mundo más bonito, otros lo c...\n",
       "3                     Un buen viajante no tiene planes\n",
       "4             Sé tu mismo las copias se venden baratas\n",
       "dtype: object"
      ]
     },
     "execution_count": 15,
     "metadata": {},
     "output_type": "execute_result"
    }
   ],
   "source": [
    "Frases.str.replace(\"#\",\"\")"
   ]
  },
  {
   "cell_type": "markdown",
   "id": "380d1396",
   "metadata": {
    "slideshow": {
     "slide_type": "subslide"
    }
   },
   "source": [
    "Para limpiezas más sofisticadas, siempre podemos definir una función en python y aplicarla a toda la columna:"
   ]
  },
  {
   "cell_type": "code",
   "execution_count": 16,
   "id": "371ab79d",
   "metadata": {
    "slideshow": {
     "slide_type": "fragment"
    }
   },
   "outputs": [
    {
     "data": {
      "text/plain": [
       "0    ¡No importan los años de vida, sino la vida de...\n",
       "1          ¡       De las dificultades nacen milagros!\n",
       "2    ¡Algunos buscan un mundo más bonito, otros lo ...\n",
       "3                   ¡Un buen viajante no tiene planes!\n",
       "4           ¡Sé tu mismo las copias se venden baratas!\n",
       "dtype: object"
      ]
     },
     "execution_count": 16,
     "metadata": {},
     "output_type": "execute_result"
    }
   ],
   "source": [
    "def clean(frases):\n",
    "    frases = frases.replace(\"#\",\"\")\n",
    "    frases = \"¡\"+frases+\"!\"\n",
    "    return frases\n",
    "\n",
    "Frases.apply(clean)"
   ]
  },
  {
   "cell_type": "markdown",
   "id": "d416998a",
   "metadata": {
    "slideshow": {
     "slide_type": "subslide"
    }
   },
   "source": [
    "¡Nos faltó eliminar los espacios en blanco! Aquí usaremos `str.strip()`:"
   ]
  },
  {
   "cell_type": "code",
   "execution_count": 17,
   "id": "67d379fa",
   "metadata": {
    "scrolled": true,
    "slideshow": {
     "slide_type": "fragment"
    }
   },
   "outputs": [
    {
     "data": {
      "text/plain": [
       "0    ¡No importan los años de vida, sino la vida de...\n",
       "1                 ¡De las dificultades nacen milagros!\n",
       "2    ¡Algunos buscan un mundo más bonito, otros lo ...\n",
       "3                   ¡Un buen viajante no tiene planes!\n",
       "4           ¡Sé tu mismo las copias se venden baratas!\n",
       "dtype: object"
      ]
     },
     "execution_count": 17,
     "metadata": {},
     "output_type": "execute_result"
    }
   ],
   "source": [
    "Frases.str.strip().apply(clean)"
   ]
  },
  {
   "cell_type": "code",
   "execution_count": 92,
   "id": "3daf471c",
   "metadata": {
    "slideshow": {
     "slide_type": "slide"
    }
   },
   "outputs": [
    {
     "data": {
      "text/html": [
       "<div>\n",
       "<style scoped>\n",
       "    .dataframe tbody tr th:only-of-type {\n",
       "        vertical-align: middle;\n",
       "    }\n",
       "\n",
       "    .dataframe tbody tr th {\n",
       "        vertical-align: top;\n",
       "    }\n",
       "\n",
       "    .dataframe thead th {\n",
       "        text-align: right;\n",
       "    }\n",
       "</style>\n",
       "<table border=\"1\" class=\"dataframe\">\n",
       "  <thead>\n",
       "    <tr style=\"text-align: right;\">\n",
       "      <th></th>\n",
       "      <th>Unnamed: 0</th>\n",
       "      <th>Profesor</th>\n",
       "      <th>Título</th>\n",
       "      <th>Sala</th>\n",
       "      <th>Sede</th>\n",
       "    </tr>\n",
       "  </thead>\n",
       "  <tbody>\n",
       "    <tr>\n",
       "      <th>0</th>\n",
       "      <td>0</td>\n",
       "      <td>Rod0lfo Abanto</td>\n",
       "      <td>Magíster en Estadística</td>\n",
       "      <td>323-D</td>\n",
       "      <td>Peñalolén</td>\n",
       "    </tr>\n",
       "    <tr>\n",
       "      <th>1</th>\n",
       "      <td>1</td>\n",
       "      <td>S@amuel Varas</td>\n",
       "      <td>PhD en Tecnologías de la Información</td>\n",
       "      <td>NaN</td>\n",
       "      <td>Peñalolén</td>\n",
       "    </tr>\n",
       "    <tr>\n",
       "      <th>2</th>\n",
       "      <td>0</td>\n",
       "      <td>Francisco Duque</td>\n",
       "      <td>Master of Energy Systems</td>\n",
       "      <td>103-D</td>\n",
       "      <td>Peñalolén</td>\n",
       "    </tr>\n",
       "    <tr>\n",
       "      <th>3</th>\n",
       "      <td>1</td>\n",
       "      <td>Rodolfo Abanto</td>\n",
       "      <td>Magíster en Estadística</td>\n",
       "      <td>323-D</td>\n",
       "      <td>Peñalolén</td>\n",
       "    </tr>\n",
       "    <tr>\n",
       "      <th>4</th>\n",
       "      <td>2</td>\n",
       "      <td>Eduardo Moreno</td>\n",
       "      <td>PhD Sciences of Engineering</td>\n",
       "      <td>304a-D</td>\n",
       "      <td>Peñalolén</td>\n",
       "    </tr>\n",
       "    <tr>\n",
       "      <th>5</th>\n",
       "      <td>3</td>\n",
       "      <td>Luis Aburto</td>\n",
       "      <td>Doctor en Sistemas de Ingeniería</td>\n",
       "      <td>311-D</td>\n",
       "      <td>Peñalolén</td>\n",
       "    </tr>\n",
       "    <tr>\n",
       "      <th>6</th>\n",
       "      <td>4</td>\n",
       "      <td>Viviana Barile</td>\n",
       "      <td>Doctora en Matemáticas</td>\n",
       "      <td>315-D</td>\n",
       "      <td>Peñalolén</td>\n",
       "    </tr>\n",
       "    <tr>\n",
       "      <th>7</th>\n",
       "      <td>5</td>\n",
       "      <td>Sebastián Moreno</td>\n",
       "      <td>PhD in Computer Science</td>\n",
       "      <td>212-A</td>\n",
       "      <td>Viña del Mar</td>\n",
       "    </tr>\n",
       "    <tr>\n",
       "      <th>8</th>\n",
       "      <td>6</td>\n",
       "      <td>Hugo Caerols</td>\n",
       "      <td>Doctor en Ciencias exactas con Mención en Mate...</td>\n",
       "      <td>310-D</td>\n",
       "      <td>Peñalolén</td>\n",
       "    </tr>\n",
       "    <tr>\n",
       "      <th>9</th>\n",
       "      <td>7</td>\n",
       "      <td>Rafael Cereceda</td>\n",
       "      <td>Magíster en Ingeniería de Negocios con mención...</td>\n",
       "      <td>322-D</td>\n",
       "      <td>Peñalolén</td>\n",
       "    </tr>\n",
       "    <tr>\n",
       "      <th>10</th>\n",
       "      <td>8</td>\n",
       "      <td>Moreno Bevilacqua</td>\n",
       "      <td>PhD en Estadística</td>\n",
       "      <td>NaN</td>\n",
       "      <td>Viña del Mar</td>\n",
       "    </tr>\n",
       "    <tr>\n",
       "      <th>11</th>\n",
       "      <td>9</td>\n",
       "      <td>Florencia Darrigrandi</td>\n",
       "      <td>Magíster en Estadística</td>\n",
       "      <td>210-D</td>\n",
       "      <td>Peñalolén</td>\n",
       "    </tr>\n",
       "    <tr>\n",
       "      <th>12</th>\n",
       "      <td>10</td>\n",
       "      <td>Felipe Lagos</td>\n",
       "      <td>Ph.D en Investigación de Operaciones</td>\n",
       "      <td>NaN</td>\n",
       "      <td>Peñalolén</td>\n",
       "    </tr>\n",
       "    <tr>\n",
       "      <th>13</th>\n",
       "      <td>11</td>\n",
       "      <td>Samuel Varas</td>\n",
       "      <td>PhD en Tecnologías de la Información</td>\n",
       "      <td>NaN</td>\n",
       "      <td>Peñalolén</td>\n",
       "    </tr>\n",
       "    <tr>\n",
       "      <th>14</th>\n",
       "      <td>12</td>\n",
       "      <td>Thomas Ledger</td>\n",
       "      <td>Doctor en Genética Molecular y Microbiología</td>\n",
       "      <td>302-E</td>\n",
       "      <td>Peñalolén</td>\n",
       "    </tr>\n",
       "    <tr>\n",
       "      <th>15</th>\n",
       "      <td>13</td>\n",
       "      <td>Javier Lopatin</td>\n",
       "      <td>Doctor en Recursos Naturales</td>\n",
       "      <td>NaN</td>\n",
       "      <td>Peñalolén</td>\n",
       "    </tr>\n",
       "    <tr>\n",
       "      <th>16</th>\n",
       "      <td>14</td>\n",
       "      <td>Rodolfo Abanto</td>\n",
       "      <td>Master in Statistics</td>\n",
       "      <td>323-D</td>\n",
       "      <td>Peñalolén</td>\n",
       "    </tr>\n",
       "    <tr>\n",
       "      <th>17</th>\n",
       "      <td>15</td>\n",
       "      <td>Viviana Barile</td>\n",
       "      <td>PhD in Mathematics</td>\n",
       "      <td>315-D</td>\n",
       "      <td>Peñalolén</td>\n",
       "    </tr>\n",
       "    <tr>\n",
       "      <th>18</th>\n",
       "      <td>16</td>\n",
       "      <td>Rodolfo Abanto</td>\n",
       "      <td>Magíster en Estadística</td>\n",
       "      <td>310-E</td>\n",
       "      <td>Peñalolén</td>\n",
       "    </tr>\n",
       "    <tr>\n",
       "      <th>19</th>\n",
       "      <td>17</td>\n",
       "      <td>Rodolfo Abanto</td>\n",
       "      <td>Magíster en Estadística</td>\n",
       "      <td>323-D</td>\n",
       "      <td>Peñalolén</td>\n",
       "    </tr>\n",
       "  </tbody>\n",
       "</table>\n",
       "</div>"
      ],
      "text/plain": [
       "    Unnamed: 0               Profesor  \\\n",
       "0            0         Rod0lfo Abanto   \n",
       "1            1          S@amuel Varas   \n",
       "2            0        Francisco Duque   \n",
       "3            1         Rodolfo Abanto   \n",
       "4            2         Eduardo Moreno   \n",
       "5            3            Luis Aburto   \n",
       "6            4         Viviana Barile   \n",
       "7            5       Sebastián Moreno   \n",
       "8            6           Hugo Caerols   \n",
       "9            7        Rafael Cereceda   \n",
       "10           8      Moreno Bevilacqua   \n",
       "11           9  Florencia Darrigrandi   \n",
       "12          10           Felipe Lagos   \n",
       "13          11           Samuel Varas   \n",
       "14          12          Thomas Ledger   \n",
       "15          13         Javier Lopatin   \n",
       "16          14         Rodolfo Abanto   \n",
       "17          15         Viviana Barile   \n",
       "18          16         Rodolfo Abanto   \n",
       "19          17         Rodolfo Abanto   \n",
       "\n",
       "                                               Título    Sala          Sede  \n",
       "0                             Magíster en Estadística   323-D     Peñalolén  \n",
       "1                PhD en Tecnologías de la Información     NaN     Peñalolén  \n",
       "2                            Master of Energy Systems   103-D     Peñalolén  \n",
       "3                             Magíster en Estadística   323-D     Peñalolén  \n",
       "4                         PhD Sciences of Engineering  304a-D     Peñalolén  \n",
       "5                    Doctor en Sistemas de Ingeniería   311-D     Peñalolén  \n",
       "6                              Doctora en Matemáticas   315-D     Peñalolén  \n",
       "7                             PhD in Computer Science   212-A  Viña del Mar  \n",
       "8   Doctor en Ciencias exactas con Mención en Mate...   310-D     Peñalolén  \n",
       "9   Magíster en Ingeniería de Negocios con mención...   322-D     Peñalolén  \n",
       "10                                 PhD en Estadística     NaN  Viña del Mar  \n",
       "11                            Magíster en Estadística   210-D     Peñalolén  \n",
       "12               Ph.D en Investigación de Operaciones     NaN     Peñalolén  \n",
       "13               PhD en Tecnologías de la Información     NaN     Peñalolén  \n",
       "14       Doctor en Genética Molecular y Microbiología   302-E     Peñalolén  \n",
       "15                       Doctor en Recursos Naturales     NaN     Peñalolén  \n",
       "16                               Master in Statistics   323-D     Peñalolén  \n",
       "17                                 PhD in Mathematics   315-D     Peñalolén  \n",
       "18                            Magíster en Estadística   310-E     Peñalolén  \n",
       "19                            Magíster en Estadística   323-D     Peñalolén  "
      ]
     },
     "execution_count": 92,
     "metadata": {},
     "output_type": "execute_result"
    }
   ],
   "source": [
    "profesores = pd.read_csv('Profesores_UAI.csv')\n",
    "profesores"
   ]
  },
  {
   "cell_type": "code",
   "execution_count": 93,
   "id": "90b454eb",
   "metadata": {
    "slideshow": {
     "slide_type": "subslide"
    }
   },
   "outputs": [
    {
     "data": {
      "text/plain": [
       "Index(['Profesor', 'Título', 'Sala', 'Sede'], dtype='object')"
      ]
     },
     "execution_count": 93,
     "metadata": {},
     "output_type": "execute_result"
    }
   ],
   "source": [
    "profesores.drop(columns='Unnamed: 0', inplace=True)\n",
    "profesores.columns"
   ]
  },
  {
   "cell_type": "markdown",
   "id": "914a530b",
   "metadata": {
    "slideshow": {
     "slide_type": "slide"
    }
   },
   "source": [
    "# Arreglar datos"
   ]
  },
  {
   "cell_type": "code",
   "execution_count": 87,
   "id": "4c767141",
   "metadata": {
    "slideshow": {
     "slide_type": "fragment"
    }
   },
   "outputs": [
    {
     "data": {
      "text/html": [
       "<div>\n",
       "<style scoped>\n",
       "    .dataframe tbody tr th:only-of-type {\n",
       "        vertical-align: middle;\n",
       "    }\n",
       "\n",
       "    .dataframe tbody tr th {\n",
       "        vertical-align: top;\n",
       "    }\n",
       "\n",
       "    .dataframe thead th {\n",
       "        text-align: right;\n",
       "    }\n",
       "</style>\n",
       "<table border=\"1\" class=\"dataframe\">\n",
       "  <thead>\n",
       "    <tr style=\"text-align: right;\">\n",
       "      <th></th>\n",
       "      <th>Profesor</th>\n",
       "      <th>Título</th>\n",
       "      <th>Sala</th>\n",
       "      <th>Sede</th>\n",
       "    </tr>\n",
       "  </thead>\n",
       "  <tbody>\n",
       "    <tr>\n",
       "      <th>0</th>\n",
       "      <td>Rod0lfo Abanto</td>\n",
       "      <td>Magíster en Estadística</td>\n",
       "      <td>323-D</td>\n",
       "      <td>Peñalolén</td>\n",
       "    </tr>\n",
       "    <tr>\n",
       "      <th>1</th>\n",
       "      <td>S@amuel Varas</td>\n",
       "      <td>PhD en Tecnologías de la Información</td>\n",
       "      <td>NaN</td>\n",
       "      <td>Peñalolén</td>\n",
       "    </tr>\n",
       "  </tbody>\n",
       "</table>\n",
       "</div>"
      ],
      "text/plain": [
       "         Profesor                                Título   Sala       Sede\n",
       "0  Rod0lfo Abanto               Magíster en Estadística  323-D  Peñalolén\n",
       "1   S@amuel Varas  PhD en Tecnologías de la Información    NaN  Peñalolén"
      ]
     },
     "execution_count": 87,
     "metadata": {},
     "output_type": "execute_result"
    }
   ],
   "source": [
    "profesores.head(2)"
   ]
  },
  {
   "cell_type": "markdown",
   "id": "b5684c35",
   "metadata": {
    "slideshow": {
     "slide_type": "fragment"
    }
   },
   "source": [
    "Esto es fácil de detectar ya que son **pocos datos**, pero si tuviesemos muchos datos?"
   ]
  },
  {
   "cell_type": "code",
   "execution_count": 88,
   "id": "cedc122b",
   "metadata": {
    "slideshow": {
     "slide_type": "subslide"
    }
   },
   "outputs": [],
   "source": [
    "lista = ['1', '2','3','4','5','6','7','8','9','0','@','/','_','-','+','='] # etc "
   ]
  },
  {
   "cell_type": "code",
   "execution_count": 94,
   "id": "49713bf9",
   "metadata": {
    "slideshow": {
     "slide_type": "fragment"
    }
   },
   "outputs": [
    {
     "name": "stdout",
     "output_type": "stream",
     "text": [
      "\n",
      "Int64Index([0], dtype='int64')\n",
      "         Profesor                   Título   Sala       Sede\n",
      "0  Rod0lfo Abanto  Magíster en Estadística  323-D  Peñalolén\n",
      "\n",
      "Int64Index([1], dtype='int64')\n",
      "        Profesor                                Título Sala       Sede\n",
      "1  S@amuel Varas  PhD en Tecnologías de la Información  NaN  Peñalolén\n"
     ]
    }
   ],
   "source": [
    "for j in profesores['Profesor']:\n",
    "    for i in lista:\n",
    "        if j.find(i) == -1:\n",
    "            pass\n",
    "        else:\n",
    "            eliminar = profesores['Profesor'][profesores['Profesor'] == j].index\n",
    "            print(f'\\n{eliminar}')\n",
    "            print(f'{profesores[profesores[\"Profesor\"] == j]}')\n",
    "            profesores = profesores.drop(eliminar)"
   ]
  },
  {
   "cell_type": "code",
   "execution_count": 74,
   "id": "fb5f23a6",
   "metadata": {
    "slideshow": {
     "slide_type": "subslide"
    }
   },
   "outputs": [
    {
     "data": {
      "text/html": [
       "<div>\n",
       "<style scoped>\n",
       "    .dataframe tbody tr th:only-of-type {\n",
       "        vertical-align: middle;\n",
       "    }\n",
       "\n",
       "    .dataframe tbody tr th {\n",
       "        vertical-align: top;\n",
       "    }\n",
       "\n",
       "    .dataframe thead th {\n",
       "        text-align: right;\n",
       "    }\n",
       "</style>\n",
       "<table border=\"1\" class=\"dataframe\">\n",
       "  <thead>\n",
       "    <tr style=\"text-align: right;\">\n",
       "      <th></th>\n",
       "      <th>Profesor</th>\n",
       "      <th>Título</th>\n",
       "      <th>Sala</th>\n",
       "      <th>Sede</th>\n",
       "    </tr>\n",
       "  </thead>\n",
       "  <tbody>\n",
       "    <tr>\n",
       "      <th>2</th>\n",
       "      <td>Francisco Duque</td>\n",
       "      <td>Master of Energy Systems</td>\n",
       "      <td>103-D</td>\n",
       "      <td>Peñalolén</td>\n",
       "    </tr>\n",
       "    <tr>\n",
       "      <th>3</th>\n",
       "      <td>Rodolfo Abanto</td>\n",
       "      <td>Magíster en Estadística</td>\n",
       "      <td>323-D</td>\n",
       "      <td>Peñalolén</td>\n",
       "    </tr>\n",
       "    <tr>\n",
       "      <th>4</th>\n",
       "      <td>Eduardo Moreno</td>\n",
       "      <td>PhD Sciences of Engineering</td>\n",
       "      <td>304a-D</td>\n",
       "      <td>Peñalolén</td>\n",
       "    </tr>\n",
       "    <tr>\n",
       "      <th>5</th>\n",
       "      <td>Luis Aburto</td>\n",
       "      <td>Doctor en Sistemas de Ingeniería</td>\n",
       "      <td>311-D</td>\n",
       "      <td>Peñalolén</td>\n",
       "    </tr>\n",
       "    <tr>\n",
       "      <th>6</th>\n",
       "      <td>Viviana Barile</td>\n",
       "      <td>Doctora en Matemáticas</td>\n",
       "      <td>315-D</td>\n",
       "      <td>Peñalolén</td>\n",
       "    </tr>\n",
       "    <tr>\n",
       "      <th>7</th>\n",
       "      <td>Sebastián Moreno</td>\n",
       "      <td>PhD in Computer Science</td>\n",
       "      <td>212-A</td>\n",
       "      <td>Viña del Mar</td>\n",
       "    </tr>\n",
       "    <tr>\n",
       "      <th>8</th>\n",
       "      <td>Hugo Caerols</td>\n",
       "      <td>Doctor en Ciencias exactas con Mención en Mate...</td>\n",
       "      <td>310-D</td>\n",
       "      <td>Peñalolén</td>\n",
       "    </tr>\n",
       "    <tr>\n",
       "      <th>9</th>\n",
       "      <td>Rafael Cereceda</td>\n",
       "      <td>Magíster en Ingeniería de Negocios con mención...</td>\n",
       "      <td>322-D</td>\n",
       "      <td>Peñalolén</td>\n",
       "    </tr>\n",
       "    <tr>\n",
       "      <th>10</th>\n",
       "      <td>Moreno Bevilacqua</td>\n",
       "      <td>PhD en Estadística</td>\n",
       "      <td>NaN</td>\n",
       "      <td>Viña del Mar</td>\n",
       "    </tr>\n",
       "    <tr>\n",
       "      <th>11</th>\n",
       "      <td>Florencia Darrigrandi</td>\n",
       "      <td>Magíster en Estadística</td>\n",
       "      <td>210-D</td>\n",
       "      <td>Peñalolén</td>\n",
       "    </tr>\n",
       "    <tr>\n",
       "      <th>12</th>\n",
       "      <td>Felipe Lagos</td>\n",
       "      <td>Ph.D en Investigación de Operaciones</td>\n",
       "      <td>NaN</td>\n",
       "      <td>Peñalolén</td>\n",
       "    </tr>\n",
       "    <tr>\n",
       "      <th>13</th>\n",
       "      <td>Samuel Varas</td>\n",
       "      <td>PhD en Tecnologías de la Información</td>\n",
       "      <td>NaN</td>\n",
       "      <td>Peñalolén</td>\n",
       "    </tr>\n",
       "    <tr>\n",
       "      <th>14</th>\n",
       "      <td>Thomas Ledger</td>\n",
       "      <td>Doctor en Genética Molecular y Microbiología</td>\n",
       "      <td>302-E</td>\n",
       "      <td>Peñalolén</td>\n",
       "    </tr>\n",
       "    <tr>\n",
       "      <th>15</th>\n",
       "      <td>Javier Lopatin</td>\n",
       "      <td>Doctor en Recursos Naturales</td>\n",
       "      <td>NaN</td>\n",
       "      <td>Peñalolén</td>\n",
       "    </tr>\n",
       "    <tr>\n",
       "      <th>16</th>\n",
       "      <td>Rodolfo Abanto</td>\n",
       "      <td>Master in Statistics</td>\n",
       "      <td>323-D</td>\n",
       "      <td>Peñalolén</td>\n",
       "    </tr>\n",
       "    <tr>\n",
       "      <th>17</th>\n",
       "      <td>Viviana Barile</td>\n",
       "      <td>PhD in Mathematics</td>\n",
       "      <td>315-D</td>\n",
       "      <td>Peñalolén</td>\n",
       "    </tr>\n",
       "    <tr>\n",
       "      <th>18</th>\n",
       "      <td>Rodolfo Abanto</td>\n",
       "      <td>Magíster en Estadística</td>\n",
       "      <td>310-E</td>\n",
       "      <td>Peñalolén</td>\n",
       "    </tr>\n",
       "    <tr>\n",
       "      <th>19</th>\n",
       "      <td>Rodolfo Abanto</td>\n",
       "      <td>Magíster en Estadística</td>\n",
       "      <td>323-D</td>\n",
       "      <td>Peñalolén</td>\n",
       "    </tr>\n",
       "  </tbody>\n",
       "</table>\n",
       "</div>"
      ],
      "text/plain": [
       "                 Profesor                                             Título  \\\n",
       "2         Francisco Duque                           Master of Energy Systems   \n",
       "3          Rodolfo Abanto                            Magíster en Estadística   \n",
       "4          Eduardo Moreno                        PhD Sciences of Engineering   \n",
       "5             Luis Aburto                   Doctor en Sistemas de Ingeniería   \n",
       "6          Viviana Barile                             Doctora en Matemáticas   \n",
       "7        Sebastián Moreno                            PhD in Computer Science   \n",
       "8            Hugo Caerols  Doctor en Ciencias exactas con Mención en Mate...   \n",
       "9         Rafael Cereceda  Magíster en Ingeniería de Negocios con mención...   \n",
       "10      Moreno Bevilacqua                                 PhD en Estadística   \n",
       "11  Florencia Darrigrandi                            Magíster en Estadística   \n",
       "12           Felipe Lagos               Ph.D en Investigación de Operaciones   \n",
       "13           Samuel Varas               PhD en Tecnologías de la Información   \n",
       "14          Thomas Ledger       Doctor en Genética Molecular y Microbiología   \n",
       "15         Javier Lopatin                       Doctor en Recursos Naturales   \n",
       "16         Rodolfo Abanto                               Master in Statistics   \n",
       "17         Viviana Barile                                 PhD in Mathematics   \n",
       "18         Rodolfo Abanto                            Magíster en Estadística   \n",
       "19         Rodolfo Abanto                            Magíster en Estadística   \n",
       "\n",
       "      Sala          Sede  \n",
       "2    103-D     Peñalolén  \n",
       "3    323-D     Peñalolén  \n",
       "4   304a-D     Peñalolén  \n",
       "5    311-D     Peñalolén  \n",
       "6    315-D     Peñalolén  \n",
       "7    212-A  Viña del Mar  \n",
       "8    310-D     Peñalolén  \n",
       "9    322-D     Peñalolén  \n",
       "10     NaN  Viña del Mar  \n",
       "11   210-D     Peñalolén  \n",
       "12     NaN     Peñalolén  \n",
       "13     NaN     Peñalolén  \n",
       "14   302-E     Peñalolén  \n",
       "15     NaN     Peñalolén  \n",
       "16   323-D     Peñalolén  \n",
       "17   315-D     Peñalolén  \n",
       "18   310-E     Peñalolén  \n",
       "19   323-D     Peñalolén  "
      ]
     },
     "execution_count": 74,
     "metadata": {},
     "output_type": "execute_result"
    }
   ],
   "source": [
    "profesores"
   ]
  },
  {
   "cell_type": "markdown",
   "id": "f535d087",
   "metadata": {
    "slideshow": {
     "slide_type": "slide"
    }
   },
   "source": [
    "# Duplicados"
   ]
  },
  {
   "cell_type": "code",
   "execution_count": 95,
   "id": "3b7b35fd",
   "metadata": {
    "slideshow": {
     "slide_type": "fragment"
    }
   },
   "outputs": [
    {
     "data": {
      "text/plain": [
       "1"
      ]
     },
     "execution_count": 95,
     "metadata": {},
     "output_type": "execute_result"
    }
   ],
   "source": [
    "profesores.duplicated().sum()"
   ]
  },
  {
   "cell_type": "code",
   "execution_count": 96,
   "id": "5da01f9d",
   "metadata": {
    "slideshow": {
     "slide_type": "fragment"
    }
   },
   "outputs": [
    {
     "data": {
      "text/html": [
       "<div>\n",
       "<style scoped>\n",
       "    .dataframe tbody tr th:only-of-type {\n",
       "        vertical-align: middle;\n",
       "    }\n",
       "\n",
       "    .dataframe tbody tr th {\n",
       "        vertical-align: top;\n",
       "    }\n",
       "\n",
       "    .dataframe thead th {\n",
       "        text-align: right;\n",
       "    }\n",
       "</style>\n",
       "<table border=\"1\" class=\"dataframe\">\n",
       "  <thead>\n",
       "    <tr style=\"text-align: right;\">\n",
       "      <th></th>\n",
       "      <th>Profesor</th>\n",
       "      <th>Título</th>\n",
       "      <th>Sala</th>\n",
       "      <th>Sede</th>\n",
       "    </tr>\n",
       "  </thead>\n",
       "  <tbody>\n",
       "    <tr>\n",
       "      <th>19</th>\n",
       "      <td>Rodolfo Abanto</td>\n",
       "      <td>Magíster en Estadística</td>\n",
       "      <td>323-D</td>\n",
       "      <td>Peñalolén</td>\n",
       "    </tr>\n",
       "  </tbody>\n",
       "</table>\n",
       "</div>"
      ],
      "text/plain": [
       "          Profesor                   Título   Sala       Sede\n",
       "19  Rodolfo Abanto  Magíster en Estadística  323-D  Peñalolén"
      ]
     },
     "execution_count": 96,
     "metadata": {},
     "output_type": "execute_result"
    }
   ],
   "source": [
    "profesores[profesores.duplicated() == True]"
   ]
  },
  {
   "cell_type": "code",
   "execution_count": 97,
   "id": "da4983eb",
   "metadata": {
    "slideshow": {
     "slide_type": "fragment"
    }
   },
   "outputs": [
    {
     "data": {
      "text/html": [
       "<div>\n",
       "<style scoped>\n",
       "    .dataframe tbody tr th:only-of-type {\n",
       "        vertical-align: middle;\n",
       "    }\n",
       "\n",
       "    .dataframe tbody tr th {\n",
       "        vertical-align: top;\n",
       "    }\n",
       "\n",
       "    .dataframe thead th {\n",
       "        text-align: right;\n",
       "    }\n",
       "</style>\n",
       "<table border=\"1\" class=\"dataframe\">\n",
       "  <thead>\n",
       "    <tr style=\"text-align: right;\">\n",
       "      <th></th>\n",
       "      <th>Profesor</th>\n",
       "      <th>Título</th>\n",
       "      <th>Sala</th>\n",
       "      <th>Sede</th>\n",
       "    </tr>\n",
       "  </thead>\n",
       "  <tbody>\n",
       "    <tr>\n",
       "      <th>3</th>\n",
       "      <td>Rodolfo Abanto</td>\n",
       "      <td>Magíster en Estadística</td>\n",
       "      <td>323-D</td>\n",
       "      <td>Peñalolén</td>\n",
       "    </tr>\n",
       "    <tr>\n",
       "      <th>16</th>\n",
       "      <td>Rodolfo Abanto</td>\n",
       "      <td>Master in Statistics</td>\n",
       "      <td>323-D</td>\n",
       "      <td>Peñalolén</td>\n",
       "    </tr>\n",
       "    <tr>\n",
       "      <th>18</th>\n",
       "      <td>Rodolfo Abanto</td>\n",
       "      <td>Magíster en Estadística</td>\n",
       "      <td>310-E</td>\n",
       "      <td>Peñalolén</td>\n",
       "    </tr>\n",
       "    <tr>\n",
       "      <th>19</th>\n",
       "      <td>Rodolfo Abanto</td>\n",
       "      <td>Magíster en Estadística</td>\n",
       "      <td>323-D</td>\n",
       "      <td>Peñalolén</td>\n",
       "    </tr>\n",
       "  </tbody>\n",
       "</table>\n",
       "</div>"
      ],
      "text/plain": [
       "          Profesor                   Título   Sala       Sede\n",
       "3   Rodolfo Abanto  Magíster en Estadística  323-D  Peñalolén\n",
       "16  Rodolfo Abanto     Master in Statistics  323-D  Peñalolén\n",
       "18  Rodolfo Abanto  Magíster en Estadística  310-E  Peñalolén\n",
       "19  Rodolfo Abanto  Magíster en Estadística  323-D  Peñalolén"
      ]
     },
     "execution_count": 97,
     "metadata": {},
     "output_type": "execute_result"
    }
   ],
   "source": [
    "profesores[profesores['Profesor'] == 'Rodolfo Abanto']"
   ]
  },
  {
   "cell_type": "markdown",
   "id": "f21c5238",
   "metadata": {
    "slideshow": {
     "slide_type": "subslide"
    }
   },
   "source": [
    "## Duplicados por Columna"
   ]
  },
  {
   "cell_type": "code",
   "execution_count": 98,
   "id": "21660438",
   "metadata": {
    "slideshow": {
     "slide_type": "fragment"
    }
   },
   "outputs": [
    {
     "data": {
      "text/plain": [
       "Index(['Profesor', 'Título', 'Sala', 'Sede'], dtype='object')"
      ]
     },
     "execution_count": 98,
     "metadata": {},
     "output_type": "execute_result"
    }
   ],
   "source": [
    "profesores.columns"
   ]
  },
  {
   "cell_type": "code",
   "execution_count": 99,
   "id": "62a91ae4",
   "metadata": {
    "slideshow": {
     "slide_type": "fragment"
    }
   },
   "outputs": [
    {
     "data": {
      "text/html": [
       "<div>\n",
       "<style scoped>\n",
       "    .dataframe tbody tr th:only-of-type {\n",
       "        vertical-align: middle;\n",
       "    }\n",
       "\n",
       "    .dataframe tbody tr th {\n",
       "        vertical-align: top;\n",
       "    }\n",
       "\n",
       "    .dataframe thead th {\n",
       "        text-align: right;\n",
       "    }\n",
       "</style>\n",
       "<table border=\"1\" class=\"dataframe\">\n",
       "  <thead>\n",
       "    <tr style=\"text-align: right;\">\n",
       "      <th></th>\n",
       "      <th>Profesor</th>\n",
       "      <th>Título</th>\n",
       "      <th>Sala</th>\n",
       "      <th>Sede</th>\n",
       "    </tr>\n",
       "  </thead>\n",
       "  <tbody>\n",
       "    <tr>\n",
       "      <th>11</th>\n",
       "      <td>Florencia Darrigrandi</td>\n",
       "      <td>Magíster en Estadística</td>\n",
       "      <td>210-D</td>\n",
       "      <td>Peñalolén</td>\n",
       "    </tr>\n",
       "    <tr>\n",
       "      <th>18</th>\n",
       "      <td>Rodolfo Abanto</td>\n",
       "      <td>Magíster en Estadística</td>\n",
       "      <td>310-E</td>\n",
       "      <td>Peñalolén</td>\n",
       "    </tr>\n",
       "    <tr>\n",
       "      <th>19</th>\n",
       "      <td>Rodolfo Abanto</td>\n",
       "      <td>Magíster en Estadística</td>\n",
       "      <td>323-D</td>\n",
       "      <td>Peñalolén</td>\n",
       "    </tr>\n",
       "  </tbody>\n",
       "</table>\n",
       "</div>"
      ],
      "text/plain": [
       "                 Profesor                   Título   Sala       Sede\n",
       "11  Florencia Darrigrandi  Magíster en Estadística  210-D  Peñalolén\n",
       "18         Rodolfo Abanto  Magíster en Estadística  310-E  Peñalolén\n",
       "19         Rodolfo Abanto  Magíster en Estadística  323-D  Peñalolén"
      ]
     },
     "execution_count": 99,
     "metadata": {},
     "output_type": "execute_result"
    }
   ],
   "source": [
    "profesores[profesores['Título'].duplicated() == True]"
   ]
  },
  {
   "cell_type": "markdown",
   "id": "630996da",
   "metadata": {
    "slideshow": {
     "slide_type": "fragment"
    }
   },
   "source": [
    "No muy bueno ya que puede haber profesores con el mismo `Titulo`.\n",
    "\n",
    "Podemos probar con la `Sala`, ya que no deberian haber dos profesores en una misma sala."
   ]
  },
  {
   "cell_type": "code",
   "execution_count": 100,
   "id": "8d173459",
   "metadata": {
    "slideshow": {
     "slide_type": "subslide"
    }
   },
   "outputs": [
    {
     "data": {
      "text/html": [
       "<div>\n",
       "<style scoped>\n",
       "    .dataframe tbody tr th:only-of-type {\n",
       "        vertical-align: middle;\n",
       "    }\n",
       "\n",
       "    .dataframe tbody tr th {\n",
       "        vertical-align: top;\n",
       "    }\n",
       "\n",
       "    .dataframe thead th {\n",
       "        text-align: right;\n",
       "    }\n",
       "</style>\n",
       "<table border=\"1\" class=\"dataframe\">\n",
       "  <thead>\n",
       "    <tr style=\"text-align: right;\">\n",
       "      <th></th>\n",
       "      <th>Profesor</th>\n",
       "      <th>Título</th>\n",
       "      <th>Sala</th>\n",
       "      <th>Sede</th>\n",
       "    </tr>\n",
       "  </thead>\n",
       "  <tbody>\n",
       "    <tr>\n",
       "      <th>12</th>\n",
       "      <td>Felipe Lagos</td>\n",
       "      <td>Ph.D en Investigación de Operaciones</td>\n",
       "      <td>NaN</td>\n",
       "      <td>Peñalolén</td>\n",
       "    </tr>\n",
       "    <tr>\n",
       "      <th>13</th>\n",
       "      <td>Samuel Varas</td>\n",
       "      <td>PhD en Tecnologías de la Información</td>\n",
       "      <td>NaN</td>\n",
       "      <td>Peñalolén</td>\n",
       "    </tr>\n",
       "    <tr>\n",
       "      <th>15</th>\n",
       "      <td>Javier Lopatin</td>\n",
       "      <td>Doctor en Recursos Naturales</td>\n",
       "      <td>NaN</td>\n",
       "      <td>Peñalolén</td>\n",
       "    </tr>\n",
       "    <tr>\n",
       "      <th>16</th>\n",
       "      <td>Rodolfo Abanto</td>\n",
       "      <td>Master in Statistics</td>\n",
       "      <td>323-D</td>\n",
       "      <td>Peñalolén</td>\n",
       "    </tr>\n",
       "    <tr>\n",
       "      <th>17</th>\n",
       "      <td>Viviana Barile</td>\n",
       "      <td>PhD in Mathematics</td>\n",
       "      <td>315-D</td>\n",
       "      <td>Peñalolén</td>\n",
       "    </tr>\n",
       "    <tr>\n",
       "      <th>19</th>\n",
       "      <td>Rodolfo Abanto</td>\n",
       "      <td>Magíster en Estadística</td>\n",
       "      <td>323-D</td>\n",
       "      <td>Peñalolén</td>\n",
       "    </tr>\n",
       "  </tbody>\n",
       "</table>\n",
       "</div>"
      ],
      "text/plain": [
       "          Profesor                                Título   Sala       Sede\n",
       "12    Felipe Lagos  Ph.D en Investigación de Operaciones    NaN  Peñalolén\n",
       "13    Samuel Varas  PhD en Tecnologías de la Información    NaN  Peñalolén\n",
       "15  Javier Lopatin          Doctor en Recursos Naturales    NaN  Peñalolén\n",
       "16  Rodolfo Abanto                  Master in Statistics  323-D  Peñalolén\n",
       "17  Viviana Barile                    PhD in Mathematics  315-D  Peñalolén\n",
       "19  Rodolfo Abanto               Magíster en Estadística  323-D  Peñalolén"
      ]
     },
     "execution_count": 100,
     "metadata": {},
     "output_type": "execute_result"
    }
   ],
   "source": [
    "profesores[profesores['Sala'].duplicated() == True]"
   ]
  },
  {
   "cell_type": "markdown",
   "id": "15f19f8d",
   "metadata": {
    "slideshow": {
     "slide_type": "fragment"
    }
   },
   "source": [
    "Existen profesores sin salas, por lo que no es un buen filtro."
   ]
  },
  {
   "cell_type": "code",
   "execution_count": 101,
   "id": "6e1257ad",
   "metadata": {
    "slideshow": {
     "slide_type": "subslide"
    }
   },
   "outputs": [
    {
     "data": {
      "text/html": [
       "<div>\n",
       "<style scoped>\n",
       "    .dataframe tbody tr th:only-of-type {\n",
       "        vertical-align: middle;\n",
       "    }\n",
       "\n",
       "    .dataframe tbody tr th {\n",
       "        vertical-align: top;\n",
       "    }\n",
       "\n",
       "    .dataframe thead th {\n",
       "        text-align: right;\n",
       "    }\n",
       "</style>\n",
       "<table border=\"1\" class=\"dataframe\">\n",
       "  <thead>\n",
       "    <tr style=\"text-align: right;\">\n",
       "      <th></th>\n",
       "      <th>Profesor</th>\n",
       "      <th>Título</th>\n",
       "      <th>Sala</th>\n",
       "      <th>Sede</th>\n",
       "    </tr>\n",
       "  </thead>\n",
       "  <tbody>\n",
       "    <tr>\n",
       "      <th>16</th>\n",
       "      <td>Rodolfo Abanto</td>\n",
       "      <td>Master in Statistics</td>\n",
       "      <td>323-D</td>\n",
       "      <td>Peñalolén</td>\n",
       "    </tr>\n",
       "    <tr>\n",
       "      <th>17</th>\n",
       "      <td>Viviana Barile</td>\n",
       "      <td>PhD in Mathematics</td>\n",
       "      <td>315-D</td>\n",
       "      <td>Peñalolén</td>\n",
       "    </tr>\n",
       "    <tr>\n",
       "      <th>18</th>\n",
       "      <td>Rodolfo Abanto</td>\n",
       "      <td>Magíster en Estadística</td>\n",
       "      <td>310-E</td>\n",
       "      <td>Peñalolén</td>\n",
       "    </tr>\n",
       "    <tr>\n",
       "      <th>19</th>\n",
       "      <td>Rodolfo Abanto</td>\n",
       "      <td>Magíster en Estadística</td>\n",
       "      <td>323-D</td>\n",
       "      <td>Peñalolén</td>\n",
       "    </tr>\n",
       "  </tbody>\n",
       "</table>\n",
       "</div>"
      ],
      "text/plain": [
       "          Profesor                   Título   Sala       Sede\n",
       "16  Rodolfo Abanto     Master in Statistics  323-D  Peñalolén\n",
       "17  Viviana Barile       PhD in Mathematics  315-D  Peñalolén\n",
       "18  Rodolfo Abanto  Magíster en Estadística  310-E  Peñalolén\n",
       "19  Rodolfo Abanto  Magíster en Estadística  323-D  Peñalolén"
      ]
     },
     "execution_count": 101,
     "metadata": {},
     "output_type": "execute_result"
    }
   ],
   "source": [
    "profesores[profesores['Profesor'].duplicated() == True]"
   ]
  },
  {
   "cell_type": "markdown",
   "id": "6620c9d9",
   "metadata": {
    "slideshow": {
     "slide_type": "fragment"
    }
   },
   "source": [
    "**¡Este si es un buen filtro!**\n",
    "\n",
    "Ya que logramos identificar los valores duplicados"
   ]
  },
  {
   "cell_type": "code",
   "execution_count": 102,
   "id": "60cf058a",
   "metadata": {
    "slideshow": {
     "slide_type": "fragment"
    }
   },
   "outputs": [
    {
     "data": {
      "text/plain": [
       "2           Francisco Duque\n",
       "3            Rodolfo Abanto\n",
       "4            Eduardo Moreno\n",
       "5               Luis Aburto\n",
       "6            Viviana Barile\n",
       "7          Sebastián Moreno\n",
       "8              Hugo Caerols\n",
       "9           Rafael Cereceda\n",
       "10        Moreno Bevilacqua\n",
       "11    Florencia Darrigrandi\n",
       "12             Felipe Lagos\n",
       "13             Samuel Varas\n",
       "14            Thomas Ledger\n",
       "15           Javier Lopatin\n",
       "Name: Profesor, dtype: object"
      ]
     },
     "execution_count": 102,
     "metadata": {},
     "output_type": "execute_result"
    }
   ],
   "source": [
    "profesores['Profesor'].drop_duplicates()"
   ]
  },
  {
   "cell_type": "markdown",
   "id": "d9cfb68f",
   "metadata": {
    "slideshow": {
     "slide_type": "slide"
    }
   },
   "source": [
    "# Valores nulos"
   ]
  },
  {
   "cell_type": "code",
   "execution_count": 25,
   "id": "9e1f88c3",
   "metadata": {
    "slideshow": {
     "slide_type": "fragment"
    }
   },
   "outputs": [
    {
     "data": {
      "text/plain": [
       "Profesor    0\n",
       "Título      0\n",
       "Sala        4\n",
       "Sede        0\n",
       "dtype: int64"
      ]
     },
     "execution_count": 25,
     "metadata": {},
     "output_type": "execute_result"
    }
   ],
   "source": [
    "profesores.isna().sum()"
   ]
  },
  {
   "cell_type": "code",
   "execution_count": 26,
   "id": "aa5483b5",
   "metadata": {
    "slideshow": {
     "slide_type": "fragment"
    }
   },
   "outputs": [
    {
     "data": {
      "text/html": [
       "<div>\n",
       "<style scoped>\n",
       "    .dataframe tbody tr th:only-of-type {\n",
       "        vertical-align: middle;\n",
       "    }\n",
       "\n",
       "    .dataframe tbody tr th {\n",
       "        vertical-align: top;\n",
       "    }\n",
       "\n",
       "    .dataframe thead th {\n",
       "        text-align: right;\n",
       "    }\n",
       "</style>\n",
       "<table border=\"1\" class=\"dataframe\">\n",
       "  <thead>\n",
       "    <tr style=\"text-align: right;\">\n",
       "      <th></th>\n",
       "      <th>Profesor</th>\n",
       "      <th>Título</th>\n",
       "      <th>Sala</th>\n",
       "      <th>Sede</th>\n",
       "    </tr>\n",
       "  </thead>\n",
       "  <tbody>\n",
       "    <tr>\n",
       "      <th>8</th>\n",
       "      <td>Moreno Bevilacqua</td>\n",
       "      <td>PhD en Estadística</td>\n",
       "      <td>NaN</td>\n",
       "      <td>Viña del Mar</td>\n",
       "    </tr>\n",
       "    <tr>\n",
       "      <th>10</th>\n",
       "      <td>Felipe Lagos</td>\n",
       "      <td>Ph.D en Investigación de Operaciones</td>\n",
       "      <td>NaN</td>\n",
       "      <td>Peñalolén</td>\n",
       "    </tr>\n",
       "    <tr>\n",
       "      <th>11</th>\n",
       "      <td>Samuel Varas</td>\n",
       "      <td>PhD en Tecnologías de la Información</td>\n",
       "      <td>NaN</td>\n",
       "      <td>Peñalolén</td>\n",
       "    </tr>\n",
       "    <tr>\n",
       "      <th>13</th>\n",
       "      <td>Javier Lopatin</td>\n",
       "      <td>Doctor en Recursos Naturales</td>\n",
       "      <td>NaN</td>\n",
       "      <td>Peñalolén</td>\n",
       "    </tr>\n",
       "  </tbody>\n",
       "</table>\n",
       "</div>"
      ],
      "text/plain": [
       "             Profesor                                Título Sala          Sede\n",
       "8   Moreno Bevilacqua                    PhD en Estadística  NaN  Viña del Mar\n",
       "10       Felipe Lagos  Ph.D en Investigación de Operaciones  NaN     Peñalolén\n",
       "11       Samuel Varas  PhD en Tecnologías de la Información  NaN     Peñalolén\n",
       "13     Javier Lopatin          Doctor en Recursos Naturales  NaN     Peñalolén"
      ]
     },
     "execution_count": 26,
     "metadata": {},
     "output_type": "execute_result"
    }
   ],
   "source": [
    "profesores[profesores.Sala.isna() == True]"
   ]
  },
  {
   "cell_type": "code",
   "execution_count": 27,
   "id": "29913c6d",
   "metadata": {
    "slideshow": {
     "slide_type": "subslide"
    }
   },
   "outputs": [],
   "source": [
    "profesores.Sala.fillna('No posee Sala', inplace=True)"
   ]
  },
  {
   "cell_type": "code",
   "execution_count": null,
   "id": "71152a7e",
   "metadata": {
    "slideshow": {
     "slide_type": "fragment"
    }
   },
   "outputs": [
    {
     "data": {
      "text/html": [
       "<div>\n",
       "<style scoped>\n",
       "    .dataframe tbody tr th:only-of-type {\n",
       "        vertical-align: middle;\n",
       "    }\n",
       "\n",
       "    .dataframe tbody tr th {\n",
       "        vertical-align: top;\n",
       "    }\n",
       "\n",
       "    .dataframe thead th {\n",
       "        text-align: right;\n",
       "    }\n",
       "</style>\n",
       "<table border=\"1\" class=\"dataframe\">\n",
       "  <thead>\n",
       "    <tr style=\"text-align: right;\">\n",
       "      <th></th>\n",
       "      <th>Profesor</th>\n",
       "      <th>Título</th>\n",
       "      <th>Sala</th>\n",
       "      <th>Sede</th>\n",
       "    </tr>\n",
       "  </thead>\n",
       "  <tbody>\n",
       "    <tr>\n",
       "      <th>0</th>\n",
       "      <td>Francisco Duque</td>\n",
       "      <td>Master of Energy Systems</td>\n",
       "      <td>103-D</td>\n",
       "      <td>Peñalolén</td>\n",
       "    </tr>\n",
       "    <tr>\n",
       "      <th>1</th>\n",
       "      <td>Rodolfo Abanto</td>\n",
       "      <td>Magíster en Estadística</td>\n",
       "      <td>323-D</td>\n",
       "      <td>Peñalolén</td>\n",
       "    </tr>\n",
       "    <tr>\n",
       "      <th>2</th>\n",
       "      <td>Eduardo Moreno</td>\n",
       "      <td>PhD Sciences of Engineering</td>\n",
       "      <td>304a-D</td>\n",
       "      <td>Peñalolén</td>\n",
       "    </tr>\n",
       "    <tr>\n",
       "      <th>3</th>\n",
       "      <td>Luis Aburto</td>\n",
       "      <td>Doctor en Sistemas de Ingeniería</td>\n",
       "      <td>311-D</td>\n",
       "      <td>Peñalolén</td>\n",
       "    </tr>\n",
       "    <tr>\n",
       "      <th>4</th>\n",
       "      <td>Viviana Barile</td>\n",
       "      <td>Doctora en Matemáticas</td>\n",
       "      <td>315-D</td>\n",
       "      <td>Peñalolén</td>\n",
       "    </tr>\n",
       "    <tr>\n",
       "      <th>5</th>\n",
       "      <td>Sebastián Moreno</td>\n",
       "      <td>PhD in Computer Science</td>\n",
       "      <td>212-A</td>\n",
       "      <td>Viña del Mar</td>\n",
       "    </tr>\n",
       "    <tr>\n",
       "      <th>6</th>\n",
       "      <td>Hugo Caerols</td>\n",
       "      <td>Doctor en Ciencias exactas con Mención en Mate...</td>\n",
       "      <td>310-D</td>\n",
       "      <td>Peñalolén</td>\n",
       "    </tr>\n",
       "    <tr>\n",
       "      <th>7</th>\n",
       "      <td>Rafael Cereceda</td>\n",
       "      <td>Magíster en Ingeniería de Negocios con mención...</td>\n",
       "      <td>322-D</td>\n",
       "      <td>Peñalolén</td>\n",
       "    </tr>\n",
       "    <tr>\n",
       "      <th>8</th>\n",
       "      <td>Moreno Bevilacqua</td>\n",
       "      <td>PhD en Estadística</td>\n",
       "      <td>No posee Sala</td>\n",
       "      <td>Viña del Mar</td>\n",
       "    </tr>\n",
       "    <tr>\n",
       "      <th>9</th>\n",
       "      <td>Florencia Darrigrandi</td>\n",
       "      <td>Magíster en Estadística</td>\n",
       "      <td>210-D</td>\n",
       "      <td>Peñalolén</td>\n",
       "    </tr>\n",
       "    <tr>\n",
       "      <th>10</th>\n",
       "      <td>Felipe Lagos</td>\n",
       "      <td>Ph.D en Investigación de Operaciones</td>\n",
       "      <td>No posee Sala</td>\n",
       "      <td>Peñalolén</td>\n",
       "    </tr>\n",
       "    <tr>\n",
       "      <th>11</th>\n",
       "      <td>Samuel Varas</td>\n",
       "      <td>PhD en Tecnologías de la Información</td>\n",
       "      <td>No posee Sala</td>\n",
       "      <td>Peñalolén</td>\n",
       "    </tr>\n",
       "    <tr>\n",
       "      <th>12</th>\n",
       "      <td>Thomas Ledger</td>\n",
       "      <td>Doctor en Genética Molecular y Microbiología</td>\n",
       "      <td>302-E</td>\n",
       "      <td>Peñalolén</td>\n",
       "    </tr>\n",
       "    <tr>\n",
       "      <th>13</th>\n",
       "      <td>Javier Lopatin</td>\n",
       "      <td>Doctor en Recursos Naturales</td>\n",
       "      <td>No posee Sala</td>\n",
       "      <td>Peñalolén</td>\n",
       "    </tr>\n",
       "  </tbody>\n",
       "</table>\n",
       "</div>"
      ],
      "text/plain": [
       "                 Profesor                                             Título  \\\n",
       "0         Francisco Duque                           Master of Energy Systems   \n",
       "1          Rodolfo Abanto                            Magíster en Estadística   \n",
       "2          Eduardo Moreno                        PhD Sciences of Engineering   \n",
       "3             Luis Aburto                   Doctor en Sistemas de Ingeniería   \n",
       "4          Viviana Barile                             Doctora en Matemáticas   \n",
       "5        Sebastián Moreno                            PhD in Computer Science   \n",
       "6            Hugo Caerols  Doctor en Ciencias exactas con Mención en Mate...   \n",
       "7         Rafael Cereceda  Magíster en Ingeniería de Negocios con mención...   \n",
       "8       Moreno Bevilacqua                                 PhD en Estadística   \n",
       "9   Florencia Darrigrandi                            Magíster en Estadística   \n",
       "10           Felipe Lagos               Ph.D en Investigación de Operaciones   \n",
       "11           Samuel Varas               PhD en Tecnologías de la Información   \n",
       "12          Thomas Ledger       Doctor en Genética Molecular y Microbiología   \n",
       "13         Javier Lopatin                       Doctor en Recursos Naturales   \n",
       "\n",
       "             Sala          Sede  \n",
       "0           103-D     Peñalolén  \n",
       "1           323-D     Peñalolén  \n",
       "2          304a-D     Peñalolén  \n",
       "3           311-D     Peñalolén  \n",
       "4           315-D     Peñalolén  \n",
       "5           212-A  Viña del Mar  \n",
       "6           310-D     Peñalolén  \n",
       "7           322-D     Peñalolén  \n",
       "8   No posee Sala  Viña del Mar  \n",
       "9           210-D     Peñalolén  \n",
       "10  No posee Sala     Peñalolén  \n",
       "11  No posee Sala     Peñalolén  \n",
       "12          302-E     Peñalolén  \n",
       "13  No posee Sala     Peñalolén  "
      ]
     },
     "execution_count": 54,
     "metadata": {},
     "output_type": "execute_result"
    }
   ],
   "source": [
    "profesores"
   ]
  },
  {
   "cell_type": "markdown",
   "id": "31d6b442",
   "metadata": {
    "slideshow": {
     "slide_type": "slide"
    }
   },
   "source": [
    "Otra tarea muy útil es romper strings para crear nuevas columnas:"
   ]
  },
  {
   "cell_type": "code",
   "execution_count": null,
   "id": "ea1ef0c4",
   "metadata": {
    "slideshow": {
     "slide_type": "subslide"
    }
   },
   "outputs": [
    {
     "data": {
      "text/html": [
       "<div>\n",
       "<style scoped>\n",
       "    .dataframe tbody tr th:only-of-type {\n",
       "        vertical-align: middle;\n",
       "    }\n",
       "\n",
       "    .dataframe tbody tr th {\n",
       "        vertical-align: top;\n",
       "    }\n",
       "\n",
       "    .dataframe thead th {\n",
       "        text-align: right;\n",
       "    }\n",
       "</style>\n",
       "<table border=\"1\" class=\"dataframe\">\n",
       "  <thead>\n",
       "    <tr style=\"text-align: right;\">\n",
       "      <th></th>\n",
       "      <th>0</th>\n",
       "      <th>1</th>\n",
       "    </tr>\n",
       "  </thead>\n",
       "  <tbody>\n",
       "    <tr>\n",
       "      <th>0</th>\n",
       "      <td>Francisco</td>\n",
       "      <td>Duque</td>\n",
       "    </tr>\n",
       "    <tr>\n",
       "      <th>1</th>\n",
       "      <td>Rodolfo</td>\n",
       "      <td>Abanto</td>\n",
       "    </tr>\n",
       "    <tr>\n",
       "      <th>2</th>\n",
       "      <td>Eduardo</td>\n",
       "      <td>Moreno</td>\n",
       "    </tr>\n",
       "    <tr>\n",
       "      <th>3</th>\n",
       "      <td>Luis</td>\n",
       "      <td>Aburto</td>\n",
       "    </tr>\n",
       "    <tr>\n",
       "      <th>4</th>\n",
       "      <td>Viviana</td>\n",
       "      <td>Barile</td>\n",
       "    </tr>\n",
       "  </tbody>\n",
       "</table>\n",
       "</div>"
      ],
      "text/plain": [
       "           0       1\n",
       "0  Francisco   Duque\n",
       "1    Rodolfo  Abanto\n",
       "2    Eduardo  Moreno\n",
       "3       Luis  Aburto\n",
       "4    Viviana  Barile"
      ]
     },
     "execution_count": 104,
     "metadata": {},
     "output_type": "execute_result"
    }
   ],
   "source": [
    "Nombres = profesores[\"Profesor\"].str.split(expand = True)\n",
    "Nombres.head()"
   ]
  },
  {
   "cell_type": "code",
   "execution_count": null,
   "id": "62c543a9",
   "metadata": {
    "slideshow": {
     "slide_type": "fragment"
    }
   },
   "outputs": [
    {
     "name": "stdout",
     "output_type": "stream",
     "text": [
      "Empty DataFrame\n",
      "Columns: [0, 1]\n",
      "Index: []\n",
      "           0       1\n",
      "5  Sebastián  Moreno\n"
     ]
    }
   ],
   "source": [
    "print(Nombres[Nombres[0].duplicated()])\n",
    "print(Nombres[Nombres[1].duplicated()])"
   ]
  },
  {
   "cell_type": "code",
   "execution_count": null,
   "id": "45eebf48",
   "metadata": {
    "slideshow": {
     "slide_type": "subslide"
    }
   },
   "outputs": [
    {
     "data": {
      "text/html": [
       "<div>\n",
       "<style scoped>\n",
       "    .dataframe tbody tr th:only-of-type {\n",
       "        vertical-align: middle;\n",
       "    }\n",
       "\n",
       "    .dataframe tbody tr th {\n",
       "        vertical-align: top;\n",
       "    }\n",
       "\n",
       "    .dataframe thead th {\n",
       "        text-align: right;\n",
       "    }\n",
       "</style>\n",
       "<table border=\"1\" class=\"dataframe\">\n",
       "  <thead>\n",
       "    <tr style=\"text-align: right;\">\n",
       "      <th></th>\n",
       "      <th>Profesor</th>\n",
       "      <th>Título</th>\n",
       "      <th>Sala</th>\n",
       "      <th>Sede</th>\n",
       "    </tr>\n",
       "  </thead>\n",
       "  <tbody>\n",
       "  </tbody>\n",
       "</table>\n",
       "</div>"
      ],
      "text/plain": [
       "Empty DataFrame\n",
       "Columns: [Profesor, Título, Sala, Sede]\n",
       "Index: []"
      ]
     },
     "execution_count": 82,
     "metadata": {},
     "output_type": "execute_result"
    }
   ],
   "source": [
    "profesores[profesores['Profesor'] == 'Varas']"
   ]
  },
  {
   "cell_type": "code",
   "execution_count": null,
   "id": "41a84275",
   "metadata": {
    "slideshow": {
     "slide_type": "fragment"
    }
   },
   "outputs": [
    {
     "data": {
      "text/html": [
       "<div>\n",
       "<style scoped>\n",
       "    .dataframe tbody tr th:only-of-type {\n",
       "        vertical-align: middle;\n",
       "    }\n",
       "\n",
       "    .dataframe tbody tr th {\n",
       "        vertical-align: top;\n",
       "    }\n",
       "\n",
       "    .dataframe thead th {\n",
       "        text-align: right;\n",
       "    }\n",
       "</style>\n",
       "<table border=\"1\" class=\"dataframe\">\n",
       "  <thead>\n",
       "    <tr style=\"text-align: right;\">\n",
       "      <th></th>\n",
       "      <th>Profesor</th>\n",
       "      <th>Título</th>\n",
       "      <th>Sala</th>\n",
       "      <th>Sede</th>\n",
       "    </tr>\n",
       "  </thead>\n",
       "  <tbody>\n",
       "    <tr>\n",
       "      <th>11</th>\n",
       "      <td>Samuel Varas</td>\n",
       "      <td>PhD en Tecnologías de la Información</td>\n",
       "      <td>No posee Sala</td>\n",
       "      <td>Peñalolén</td>\n",
       "    </tr>\n",
       "  </tbody>\n",
       "</table>\n",
       "</div>"
      ],
      "text/plain": [
       "        Profesor                                Título           Sala  \\\n",
       "11  Samuel Varas  PhD en Tecnologías de la Información  No posee Sala   \n",
       "\n",
       "         Sede  \n",
       "11  Peñalolén  "
      ]
     },
     "execution_count": 80,
     "metadata": {},
     "output_type": "execute_result"
    }
   ],
   "source": [
    "profesores[Nombres[1] == 'Varas']"
   ]
  },
  {
   "cell_type": "code",
   "execution_count": null,
   "id": "25a68651",
   "metadata": {
    "slideshow": {
     "slide_type": "fragment"
    }
   },
   "outputs": [
    {
     "data": {
      "text/html": [
       "<div>\n",
       "<style scoped>\n",
       "    .dataframe tbody tr th:only-of-type {\n",
       "        vertical-align: middle;\n",
       "    }\n",
       "\n",
       "    .dataframe tbody tr th {\n",
       "        vertical-align: top;\n",
       "    }\n",
       "\n",
       "    .dataframe thead th {\n",
       "        text-align: right;\n",
       "    }\n",
       "</style>\n",
       "<table border=\"1\" class=\"dataframe\">\n",
       "  <thead>\n",
       "    <tr style=\"text-align: right;\">\n",
       "      <th></th>\n",
       "      <th>Profesor</th>\n",
       "      <th>Título</th>\n",
       "      <th>Sala</th>\n",
       "      <th>Sede</th>\n",
       "    </tr>\n",
       "  </thead>\n",
       "  <tbody>\n",
       "    <tr>\n",
       "      <th>2</th>\n",
       "      <td>Eduardo Moreno</td>\n",
       "      <td>PhD Sciences of Engineering</td>\n",
       "      <td>304a-D</td>\n",
       "      <td>Peñalolén</td>\n",
       "    </tr>\n",
       "    <tr>\n",
       "      <th>5</th>\n",
       "      <td>Sebastián Moreno</td>\n",
       "      <td>PhD in Computer Science</td>\n",
       "      <td>212-A</td>\n",
       "      <td>Viña del Mar</td>\n",
       "    </tr>\n",
       "  </tbody>\n",
       "</table>\n",
       "</div>"
      ],
      "text/plain": [
       "           Profesor                       Título    Sala          Sede\n",
       "2    Eduardo Moreno  PhD Sciences of Engineering  304a-D     Peñalolén\n",
       "5  Sebastián Moreno      PhD in Computer Science   212-A  Viña del Mar"
      ]
     },
     "execution_count": 83,
     "metadata": {},
     "output_type": "execute_result"
    }
   ],
   "source": [
    "profesores[Nombres[1] == 'Moreno']"
   ]
  },
  {
   "cell_type": "code",
   "execution_count": null,
   "id": "4c053794",
   "metadata": {
    "slideshow": {
     "slide_type": "subslide"
    }
   },
   "outputs": [
    {
     "data": {
      "text/html": [
       "<div>\n",
       "<style scoped>\n",
       "    .dataframe tbody tr th:only-of-type {\n",
       "        vertical-align: middle;\n",
       "    }\n",
       "\n",
       "    .dataframe tbody tr th {\n",
       "        vertical-align: top;\n",
       "    }\n",
       "\n",
       "    .dataframe thead th {\n",
       "        text-align: right;\n",
       "    }\n",
       "</style>\n",
       "<table border=\"1\" class=\"dataframe\">\n",
       "  <thead>\n",
       "    <tr style=\"text-align: right;\">\n",
       "      <th></th>\n",
       "      <th>0</th>\n",
       "      <th>1</th>\n",
       "    </tr>\n",
       "  </thead>\n",
       "  <tbody>\n",
       "    <tr>\n",
       "      <th>0</th>\n",
       "      <td>103</td>\n",
       "      <td>D</td>\n",
       "    </tr>\n",
       "    <tr>\n",
       "      <th>1</th>\n",
       "      <td>323</td>\n",
       "      <td>D</td>\n",
       "    </tr>\n",
       "    <tr>\n",
       "      <th>2</th>\n",
       "      <td>304a</td>\n",
       "      <td>D</td>\n",
       "    </tr>\n",
       "    <tr>\n",
       "      <th>3</th>\n",
       "      <td>311</td>\n",
       "      <td>D</td>\n",
       "    </tr>\n",
       "    <tr>\n",
       "      <th>4</th>\n",
       "      <td>315</td>\n",
       "      <td>D</td>\n",
       "    </tr>\n",
       "    <tr>\n",
       "      <th>5</th>\n",
       "      <td>212</td>\n",
       "      <td>A</td>\n",
       "    </tr>\n",
       "    <tr>\n",
       "      <th>6</th>\n",
       "      <td>310</td>\n",
       "      <td>D</td>\n",
       "    </tr>\n",
       "    <tr>\n",
       "      <th>7</th>\n",
       "      <td>322</td>\n",
       "      <td>D</td>\n",
       "    </tr>\n",
       "    <tr>\n",
       "      <th>8</th>\n",
       "      <td>No posee Sala</td>\n",
       "      <td>None</td>\n",
       "    </tr>\n",
       "    <tr>\n",
       "      <th>9</th>\n",
       "      <td>210</td>\n",
       "      <td>D</td>\n",
       "    </tr>\n",
       "    <tr>\n",
       "      <th>10</th>\n",
       "      <td>No posee Sala</td>\n",
       "      <td>None</td>\n",
       "    </tr>\n",
       "    <tr>\n",
       "      <th>11</th>\n",
       "      <td>No posee Sala</td>\n",
       "      <td>None</td>\n",
       "    </tr>\n",
       "    <tr>\n",
       "      <th>12</th>\n",
       "      <td>302</td>\n",
       "      <td>E</td>\n",
       "    </tr>\n",
       "    <tr>\n",
       "      <th>13</th>\n",
       "      <td>No posee Sala</td>\n",
       "      <td>None</td>\n",
       "    </tr>\n",
       "  </tbody>\n",
       "</table>\n",
       "</div>"
      ],
      "text/plain": [
       "                0     1\n",
       "0             103     D\n",
       "1             323     D\n",
       "2            304a     D\n",
       "3             311     D\n",
       "4             315     D\n",
       "5             212     A\n",
       "6             310     D\n",
       "7             322     D\n",
       "8   No posee Sala  None\n",
       "9             210     D\n",
       "10  No posee Sala  None\n",
       "11  No posee Sala  None\n",
       "12            302     E\n",
       "13  No posee Sala  None"
      ]
     },
     "execution_count": 71,
     "metadata": {},
     "output_type": "execute_result"
    }
   ],
   "source": [
    "Salas = profesores[\"Sala\"].str.split(\"-\", expand = True)\n",
    "Salas"
   ]
  },
  {
   "cell_type": "code",
   "execution_count": null,
   "id": "f32a72c4",
   "metadata": {
    "slideshow": {
     "slide_type": "subslide"
    }
   },
   "outputs": [
    {
     "data": {
      "text/html": [
       "<div>\n",
       "<style scoped>\n",
       "    .dataframe tbody tr th:only-of-type {\n",
       "        vertical-align: middle;\n",
       "    }\n",
       "\n",
       "    .dataframe tbody tr th {\n",
       "        vertical-align: top;\n",
       "    }\n",
       "\n",
       "    .dataframe thead th {\n",
       "        text-align: right;\n",
       "    }\n",
       "</style>\n",
       "<table border=\"1\" class=\"dataframe\">\n",
       "  <thead>\n",
       "    <tr style=\"text-align: right;\">\n",
       "      <th></th>\n",
       "      <th>Profesor</th>\n",
       "      <th>Título</th>\n",
       "      <th>Sala</th>\n",
       "      <th>Sede</th>\n",
       "    </tr>\n",
       "  </thead>\n",
       "  <tbody>\n",
       "    <tr>\n",
       "      <th>0</th>\n",
       "      <td>Francisco Duque</td>\n",
       "      <td>Master of Energy Systems</td>\n",
       "      <td>103-D</td>\n",
       "      <td>Peñalolén</td>\n",
       "    </tr>\n",
       "    <tr>\n",
       "      <th>1</th>\n",
       "      <td>Rodolfo Abanto</td>\n",
       "      <td>Magíster en Estadística</td>\n",
       "      <td>323-D</td>\n",
       "      <td>Peñalolén</td>\n",
       "    </tr>\n",
       "    <tr>\n",
       "      <th>2</th>\n",
       "      <td>Eduardo Moreno</td>\n",
       "      <td>PhD Sciences of Engineering</td>\n",
       "      <td>304a-D</td>\n",
       "      <td>Peñalolén</td>\n",
       "    </tr>\n",
       "    <tr>\n",
       "      <th>3</th>\n",
       "      <td>Luis Aburto</td>\n",
       "      <td>Doctor en Sistemas de Ingeniería</td>\n",
       "      <td>311-D</td>\n",
       "      <td>Peñalolén</td>\n",
       "    </tr>\n",
       "    <tr>\n",
       "      <th>4</th>\n",
       "      <td>Viviana Barile</td>\n",
       "      <td>Doctora en Matemáticas</td>\n",
       "      <td>315-D</td>\n",
       "      <td>Peñalolén</td>\n",
       "    </tr>\n",
       "    <tr>\n",
       "      <th>6</th>\n",
       "      <td>Hugo Caerols</td>\n",
       "      <td>Doctor en Ciencias exactas con Mención en Mate...</td>\n",
       "      <td>310-D</td>\n",
       "      <td>Peñalolén</td>\n",
       "    </tr>\n",
       "    <tr>\n",
       "      <th>7</th>\n",
       "      <td>Rafael Cereceda</td>\n",
       "      <td>Magíster en Ingeniería de Negocios con mención...</td>\n",
       "      <td>322-D</td>\n",
       "      <td>Peñalolén</td>\n",
       "    </tr>\n",
       "    <tr>\n",
       "      <th>9</th>\n",
       "      <td>Florencia Darrigrandi</td>\n",
       "      <td>Magíster en Estadística</td>\n",
       "      <td>210-D</td>\n",
       "      <td>Peñalolén</td>\n",
       "    </tr>\n",
       "  </tbody>\n",
       "</table>\n",
       "</div>"
      ],
      "text/plain": [
       "                Profesor                                             Título  \\\n",
       "0        Francisco Duque                           Master of Energy Systems   \n",
       "1         Rodolfo Abanto                            Magíster en Estadística   \n",
       "2         Eduardo Moreno                        PhD Sciences of Engineering   \n",
       "3            Luis Aburto                   Doctor en Sistemas de Ingeniería   \n",
       "4         Viviana Barile                             Doctora en Matemáticas   \n",
       "6           Hugo Caerols  Doctor en Ciencias exactas con Mención en Mate...   \n",
       "7        Rafael Cereceda  Magíster en Ingeniería de Negocios con mención...   \n",
       "9  Florencia Darrigrandi                            Magíster en Estadística   \n",
       "\n",
       "     Sala       Sede  \n",
       "0   103-D  Peñalolén  \n",
       "1   323-D  Peñalolén  \n",
       "2  304a-D  Peñalolén  \n",
       "3   311-D  Peñalolén  \n",
       "4   315-D  Peñalolén  \n",
       "6   310-D  Peñalolén  \n",
       "7   322-D  Peñalolén  \n",
       "9   210-D  Peñalolén  "
      ]
     },
     "execution_count": 98,
     "metadata": {},
     "output_type": "execute_result"
    }
   ],
   "source": [
    "profesores[Salas[1] == 'D']"
   ]
  },
  {
   "cell_type": "code",
   "execution_count": null,
   "id": "14673707",
   "metadata": {
    "slideshow": {
     "slide_type": "subslide"
    }
   },
   "outputs": [
    {
     "data": {
      "text/html": [
       "<div>\n",
       "<style scoped>\n",
       "    .dataframe tbody tr th:only-of-type {\n",
       "        vertical-align: middle;\n",
       "    }\n",
       "\n",
       "    .dataframe tbody tr th {\n",
       "        vertical-align: top;\n",
       "    }\n",
       "\n",
       "    .dataframe thead th {\n",
       "        text-align: right;\n",
       "    }\n",
       "</style>\n",
       "<table border=\"1\" class=\"dataframe\">\n",
       "  <thead>\n",
       "    <tr style=\"text-align: right;\">\n",
       "      <th></th>\n",
       "      <th>0</th>\n",
       "      <th>1</th>\n",
       "    </tr>\n",
       "  </thead>\n",
       "  <tbody>\n",
       "    <tr>\n",
       "      <th>8</th>\n",
       "      <td>No posee Sala</td>\n",
       "      <td>None</td>\n",
       "    </tr>\n",
       "    <tr>\n",
       "      <th>10</th>\n",
       "      <td>No posee Sala</td>\n",
       "      <td>None</td>\n",
       "    </tr>\n",
       "    <tr>\n",
       "      <th>11</th>\n",
       "      <td>No posee Sala</td>\n",
       "      <td>None</td>\n",
       "    </tr>\n",
       "    <tr>\n",
       "      <th>13</th>\n",
       "      <td>No posee Sala</td>\n",
       "      <td>None</td>\n",
       "    </tr>\n",
       "  </tbody>\n",
       "</table>\n",
       "</div>"
      ],
      "text/plain": [
       "                0     1\n",
       "8   No posee Sala  None\n",
       "10  No posee Sala  None\n",
       "11  No posee Sala  None\n",
       "13  No posee Sala  None"
      ]
     },
     "execution_count": 78,
     "metadata": {},
     "output_type": "execute_result"
    }
   ],
   "source": [
    "Salas[Salas[1].isnull() == True]"
   ]
  },
  {
   "cell_type": "code",
   "execution_count": null,
   "id": "e5ca3a2c",
   "metadata": {
    "slideshow": {
     "slide_type": "fragment"
    }
   },
   "outputs": [
    {
     "data": {
      "text/html": [
       "<div>\n",
       "<style scoped>\n",
       "    .dataframe tbody tr th:only-of-type {\n",
       "        vertical-align: middle;\n",
       "    }\n",
       "\n",
       "    .dataframe tbody tr th {\n",
       "        vertical-align: top;\n",
       "    }\n",
       "\n",
       "    .dataframe thead th {\n",
       "        text-align: right;\n",
       "    }\n",
       "</style>\n",
       "<table border=\"1\" class=\"dataframe\">\n",
       "  <thead>\n",
       "    <tr style=\"text-align: right;\">\n",
       "      <th></th>\n",
       "      <th>Profesor</th>\n",
       "      <th>Título</th>\n",
       "      <th>Sala</th>\n",
       "      <th>Sede</th>\n",
       "    </tr>\n",
       "  </thead>\n",
       "  <tbody>\n",
       "    <tr>\n",
       "      <th>8</th>\n",
       "      <td>Moreno Bevilacqua</td>\n",
       "      <td>PhD en Estadística</td>\n",
       "      <td>No posee Sala</td>\n",
       "      <td>Viña del Mar</td>\n",
       "    </tr>\n",
       "    <tr>\n",
       "      <th>10</th>\n",
       "      <td>Felipe Lagos</td>\n",
       "      <td>Ph.D en Investigación de Operaciones</td>\n",
       "      <td>No posee Sala</td>\n",
       "      <td>Peñalolén</td>\n",
       "    </tr>\n",
       "    <tr>\n",
       "      <th>11</th>\n",
       "      <td>Samuel Varas</td>\n",
       "      <td>PhD en Tecnologías de la Información</td>\n",
       "      <td>No posee Sala</td>\n",
       "      <td>Peñalolén</td>\n",
       "    </tr>\n",
       "    <tr>\n",
       "      <th>13</th>\n",
       "      <td>Javier Lopatin</td>\n",
       "      <td>Doctor en Recursos Naturales</td>\n",
       "      <td>No posee Sala</td>\n",
       "      <td>Peñalolén</td>\n",
       "    </tr>\n",
       "  </tbody>\n",
       "</table>\n",
       "</div>"
      ],
      "text/plain": [
       "             Profesor                                Título           Sala  \\\n",
       "8   Moreno Bevilacqua                    PhD en Estadística  No posee Sala   \n",
       "10       Felipe Lagos  Ph.D en Investigación de Operaciones  No posee Sala   \n",
       "11       Samuel Varas  PhD en Tecnologías de la Información  No posee Sala   \n",
       "13     Javier Lopatin          Doctor en Recursos Naturales  No posee Sala   \n",
       "\n",
       "            Sede  \n",
       "8   Viña del Mar  \n",
       "10     Peñalolén  \n",
       "11     Peñalolén  \n",
       "13     Peñalolén  "
      ]
     },
     "execution_count": 99,
     "metadata": {},
     "output_type": "execute_result"
    }
   ],
   "source": [
    "profesores[Salas[1].isnull() == True]"
   ]
  },
  {
   "cell_type": "code",
   "execution_count": null,
   "id": "56699a71",
   "metadata": {
    "slideshow": {
     "slide_type": "subslide"
    }
   },
   "outputs": [
    {
     "data": {
      "text/plain": [
       "0                  Francisco Duque / 103-D / Peñalolén\n",
       "1                   Rodolfo Abanto / 323-D / Peñalolén\n",
       "2                  Eduardo Moreno / 304a-D / Peñalolén\n",
       "3                      Luis Aburto / 311-D / Peñalolén\n",
       "4                   Viviana Barile / 315-D / Peñalolén\n",
       "5              Sebastián Moreno / 212-A / Viña del Mar\n",
       "6                     Hugo Caerols / 310-D / Peñalolén\n",
       "7                  Rafael Cereceda / 322-D / Peñalolén\n",
       "8     Moreno Bevilacqua / No posee Sala / Viña del Mar\n",
       "9            Florencia Darrigrandi / 210-D / Peñalolén\n",
       "10            Felipe Lagos / No posee Sala / Peñalolén\n",
       "11            Samuel Varas / No posee Sala / Peñalolén\n",
       "12                   Thomas Ledger / 302-E / Peñalolén\n",
       "13          Javier Lopatin / No posee Sala / Peñalolén\n",
       "dtype: object"
      ]
     },
     "execution_count": 97,
     "metadata": {},
     "output_type": "execute_result"
    }
   ],
   "source": [
    "profesores[\"Profesor\"] + \" / \" + profesores[\"Sala\"] + ' / ' + profesores['Sede']"
   ]
  },
  {
   "cell_type": "markdown",
   "id": "f061aeca",
   "metadata": {
    "slideshow": {
     "slide_type": "slide"
    }
   },
   "source": [
    "## Eliminando duplicados\n",
    "En la práctica tendremos datos repetidos, que usualmente querremos eliminar bajo algún criterio (por ejemplo, quedarnos con el primero o el último de los datos de algún indetificador)."
   ]
  },
  {
   "cell_type": "code",
   "execution_count": null,
   "id": "1e4c703e",
   "metadata": {
    "slideshow": {
     "slide_type": "subslide"
    }
   },
   "outputs": [
    {
     "data": {
      "text/html": [
       "<div>\n",
       "<style scoped>\n",
       "    .dataframe tbody tr th:only-of-type {\n",
       "        vertical-align: middle;\n",
       "    }\n",
       "\n",
       "    .dataframe tbody tr th {\n",
       "        vertical-align: top;\n",
       "    }\n",
       "\n",
       "    .dataframe thead th {\n",
       "        text-align: right;\n",
       "    }\n",
       "</style>\n",
       "<table border=\"1\" class=\"dataframe\">\n",
       "  <thead>\n",
       "    <tr style=\"text-align: right;\">\n",
       "      <th></th>\n",
       "      <th>x</th>\n",
       "      <th>y</th>\n",
       "    </tr>\n",
       "  </thead>\n",
       "  <tbody>\n",
       "    <tr>\n",
       "      <th>0</th>\n",
       "      <td>5</td>\n",
       "      <td>11</td>\n",
       "    </tr>\n",
       "    <tr>\n",
       "      <th>1</th>\n",
       "      <td>11</td>\n",
       "      <td>2</td>\n",
       "    </tr>\n",
       "    <tr>\n",
       "      <th>2</th>\n",
       "      <td>24</td>\n",
       "      <td>7</td>\n",
       "    </tr>\n",
       "    <tr>\n",
       "      <th>3</th>\n",
       "      <td>11</td>\n",
       "      <td>2</td>\n",
       "    </tr>\n",
       "    <tr>\n",
       "      <th>4</th>\n",
       "      <td>28</td>\n",
       "      <td>10</td>\n",
       "    </tr>\n",
       "    <tr>\n",
       "      <th>5</th>\n",
       "      <td>11</td>\n",
       "      <td>2</td>\n",
       "    </tr>\n",
       "    <tr>\n",
       "      <th>6</th>\n",
       "      <td>8</td>\n",
       "      <td>2</td>\n",
       "    </tr>\n",
       "  </tbody>\n",
       "</table>\n",
       "</div>"
      ],
      "text/plain": [
       "    x   y\n",
       "0   5  11\n",
       "1  11   2\n",
       "2  24   7\n",
       "3  11   2\n",
       "4  28  10\n",
       "5  11   2\n",
       "6   8   2"
      ]
     },
     "execution_count": 100,
     "metadata": {},
     "output_type": "execute_result"
    }
   ],
   "source": [
    "datos = pd.DataFrame({\n",
    "    \"x\": [5, 11, 24, 11, 28, 11, 8],\n",
    "    \"y\": [11, 2, 7, 2, 10, 2,  2]\n",
    "})\n",
    "datos"
   ]
  },
  {
   "cell_type": "code",
   "execution_count": null,
   "id": "d0baf766",
   "metadata": {
    "slideshow": {
     "slide_type": "fragment"
    }
   },
   "outputs": [
    {
     "data": {
      "text/plain": [
       "2"
      ]
     },
     "execution_count": 101,
     "metadata": {},
     "output_type": "execute_result"
    }
   ],
   "source": [
    "datos.duplicated().sum()"
   ]
  },
  {
   "cell_type": "code",
   "execution_count": null,
   "id": "a11d07c1",
   "metadata": {
    "slideshow": {
     "slide_type": "fragment"
    }
   },
   "outputs": [
    {
     "data": {
      "text/html": [
       "<div>\n",
       "<style scoped>\n",
       "    .dataframe tbody tr th:only-of-type {\n",
       "        vertical-align: middle;\n",
       "    }\n",
       "\n",
       "    .dataframe tbody tr th {\n",
       "        vertical-align: top;\n",
       "    }\n",
       "\n",
       "    .dataframe thead th {\n",
       "        text-align: right;\n",
       "    }\n",
       "</style>\n",
       "<table border=\"1\" class=\"dataframe\">\n",
       "  <thead>\n",
       "    <tr style=\"text-align: right;\">\n",
       "      <th></th>\n",
       "      <th>x</th>\n",
       "      <th>y</th>\n",
       "    </tr>\n",
       "  </thead>\n",
       "  <tbody>\n",
       "    <tr>\n",
       "      <th>0</th>\n",
       "      <td>5</td>\n",
       "      <td>11</td>\n",
       "    </tr>\n",
       "    <tr>\n",
       "      <th>1</th>\n",
       "      <td>11</td>\n",
       "      <td>2</td>\n",
       "    </tr>\n",
       "    <tr>\n",
       "      <th>2</th>\n",
       "      <td>24</td>\n",
       "      <td>7</td>\n",
       "    </tr>\n",
       "    <tr>\n",
       "      <th>4</th>\n",
       "      <td>28</td>\n",
       "      <td>10</td>\n",
       "    </tr>\n",
       "    <tr>\n",
       "      <th>6</th>\n",
       "      <td>8</td>\n",
       "      <td>2</td>\n",
       "    </tr>\n",
       "  </tbody>\n",
       "</table>\n",
       "</div>"
      ],
      "text/plain": [
       "    x   y\n",
       "0   5  11\n",
       "1  11   2\n",
       "2  24   7\n",
       "4  28  10\n",
       "6   8   2"
      ]
     },
     "execution_count": 29,
     "metadata": {},
     "output_type": "execute_result"
    }
   ],
   "source": [
    "datos.drop_duplicates()"
   ]
  },
  {
   "cell_type": "code",
   "execution_count": null,
   "id": "edfaf424",
   "metadata": {
    "slideshow": {
     "slide_type": "subslide"
    }
   },
   "outputs": [
    {
     "data": {
      "text/html": [
       "<div>\n",
       "<style scoped>\n",
       "    .dataframe tbody tr th:only-of-type {\n",
       "        vertical-align: middle;\n",
       "    }\n",
       "\n",
       "    .dataframe tbody tr th {\n",
       "        vertical-align: top;\n",
       "    }\n",
       "\n",
       "    .dataframe thead th {\n",
       "        text-align: right;\n",
       "    }\n",
       "</style>\n",
       "<table border=\"1\" class=\"dataframe\">\n",
       "  <thead>\n",
       "    <tr style=\"text-align: right;\">\n",
       "      <th></th>\n",
       "      <th>x</th>\n",
       "      <th>y</th>\n",
       "    </tr>\n",
       "  </thead>\n",
       "  <tbody>\n",
       "    <tr>\n",
       "      <th>0</th>\n",
       "      <td>6</td>\n",
       "      <td>3</td>\n",
       "    </tr>\n",
       "    <tr>\n",
       "      <th>1</th>\n",
       "      <td>1</td>\n",
       "      <td>5</td>\n",
       "    </tr>\n",
       "    <tr>\n",
       "      <th>2</th>\n",
       "      <td>21</td>\n",
       "      <td>3</td>\n",
       "    </tr>\n",
       "    <tr>\n",
       "      <th>3</th>\n",
       "      <td>5</td>\n",
       "      <td>44</td>\n",
       "    </tr>\n",
       "    <tr>\n",
       "      <th>4</th>\n",
       "      <td>9</td>\n",
       "      <td>6</td>\n",
       "    </tr>\n",
       "  </tbody>\n",
       "</table>\n",
       "</div>"
      ],
      "text/plain": [
       "    x   y\n",
       "0   6   3\n",
       "1   1   5\n",
       "2  21   3\n",
       "3   5  44\n",
       "4   9   6"
      ]
     },
     "execution_count": 102,
     "metadata": {},
     "output_type": "execute_result"
    }
   ],
   "source": [
    "data = pd.DataFrame({\n",
    "    \"x\": [6, 1, 21, 5, 9],\n",
    "    \"y\": [3, 5, 3, 44, 6]\n",
    "})\n",
    "data"
   ]
  },
  {
   "cell_type": "markdown",
   "id": "0a460775",
   "metadata": {
    "slideshow": {
     "slide_type": "fragment"
    }
   },
   "source": [
    "`drop_duplicates` puede recibir una lista de las columnas donde buscar duplicados para decidir si botar o no la fila."
   ]
  },
  {
   "cell_type": "code",
   "execution_count": null,
   "id": "49bee331",
   "metadata": {
    "slideshow": {
     "slide_type": "fragment"
    }
   },
   "outputs": [
    {
     "data": {
      "text/html": [
       "<div>\n",
       "<style scoped>\n",
       "    .dataframe tbody tr th:only-of-type {\n",
       "        vertical-align: middle;\n",
       "    }\n",
       "\n",
       "    .dataframe tbody tr th {\n",
       "        vertical-align: top;\n",
       "    }\n",
       "\n",
       "    .dataframe thead th {\n",
       "        text-align: right;\n",
       "    }\n",
       "</style>\n",
       "<table border=\"1\" class=\"dataframe\">\n",
       "  <thead>\n",
       "    <tr style=\"text-align: right;\">\n",
       "      <th></th>\n",
       "      <th>x</th>\n",
       "      <th>y</th>\n",
       "    </tr>\n",
       "  </thead>\n",
       "  <tbody>\n",
       "    <tr>\n",
       "      <th>0</th>\n",
       "      <td>6</td>\n",
       "      <td>3</td>\n",
       "    </tr>\n",
       "    <tr>\n",
       "      <th>1</th>\n",
       "      <td>1</td>\n",
       "      <td>5</td>\n",
       "    </tr>\n",
       "    <tr>\n",
       "      <th>3</th>\n",
       "      <td>5</td>\n",
       "      <td>44</td>\n",
       "    </tr>\n",
       "    <tr>\n",
       "      <th>4</th>\n",
       "      <td>9</td>\n",
       "      <td>6</td>\n",
       "    </tr>\n",
       "  </tbody>\n",
       "</table>\n",
       "</div>"
      ],
      "text/plain": [
       "   x   y\n",
       "0  6   3\n",
       "1  1   5\n",
       "3  5  44\n",
       "4  9   6"
      ]
     },
     "execution_count": 31,
     "metadata": {},
     "output_type": "execute_result"
    }
   ],
   "source": [
    "data.drop_duplicates([\"y\"])"
   ]
  },
  {
   "cell_type": "markdown",
   "id": "c201dda0",
   "metadata": {
    "slideshow": {
     "slide_type": "subslide"
    }
   },
   "source": [
    "`keep` es el parámetro que nos permite indicar qué dato queremos que sobreviva (puede ser `'first'`, `'last'` o `False`)."
   ]
  },
  {
   "cell_type": "code",
   "execution_count": null,
   "id": "74685876",
   "metadata": {
    "slideshow": {
     "slide_type": "fragment"
    }
   },
   "outputs": [
    {
     "data": {
      "text/html": [
       "<div>\n",
       "<style scoped>\n",
       "    .dataframe tbody tr th:only-of-type {\n",
       "        vertical-align: middle;\n",
       "    }\n",
       "\n",
       "    .dataframe tbody tr th {\n",
       "        vertical-align: top;\n",
       "    }\n",
       "\n",
       "    .dataframe thead th {\n",
       "        text-align: right;\n",
       "    }\n",
       "</style>\n",
       "<table border=\"1\" class=\"dataframe\">\n",
       "  <thead>\n",
       "    <tr style=\"text-align: right;\">\n",
       "      <th></th>\n",
       "      <th>x</th>\n",
       "      <th>y</th>\n",
       "    </tr>\n",
       "  </thead>\n",
       "  <tbody>\n",
       "    <tr>\n",
       "      <th>1</th>\n",
       "      <td>1</td>\n",
       "      <td>5</td>\n",
       "    </tr>\n",
       "    <tr>\n",
       "      <th>2</th>\n",
       "      <td>21</td>\n",
       "      <td>3</td>\n",
       "    </tr>\n",
       "    <tr>\n",
       "      <th>3</th>\n",
       "      <td>5</td>\n",
       "      <td>44</td>\n",
       "    </tr>\n",
       "    <tr>\n",
       "      <th>4</th>\n",
       "      <td>9</td>\n",
       "      <td>6</td>\n",
       "    </tr>\n",
       "  </tbody>\n",
       "</table>\n",
       "</div>"
      ],
      "text/plain": [
       "    x   y\n",
       "1   1   5\n",
       "2  21   3\n",
       "3   5  44\n",
       "4   9   6"
      ]
     },
     "execution_count": 32,
     "metadata": {},
     "output_type": "execute_result"
    }
   ],
   "source": [
    "data.drop_duplicates([\"y\"], keep='last')"
   ]
  },
  {
   "cell_type": "markdown",
   "id": "3d6a0c80",
   "metadata": {
    "slideshow": {
     "slide_type": "slide"
    }
   },
   "source": [
    "### Reemplazando valores\n",
    "Ya hemos visto `map()`, el método `replace` cumple una función similar. Es menos flexible, pero sintácticamente más sencillo:"
   ]
  },
  {
   "cell_type": "code",
   "execution_count": null,
   "id": "c4d2808a",
   "metadata": {
    "slideshow": {
     "slide_type": "fragment"
    }
   },
   "outputs": [
    {
     "data": {
      "text/html": [
       "<div>\n",
       "<style scoped>\n",
       "    .dataframe tbody tr th:only-of-type {\n",
       "        vertical-align: middle;\n",
       "    }\n",
       "\n",
       "    .dataframe tbody tr th {\n",
       "        vertical-align: top;\n",
       "    }\n",
       "\n",
       "    .dataframe thead th {\n",
       "        text-align: right;\n",
       "    }\n",
       "</style>\n",
       "<table border=\"1\" class=\"dataframe\">\n",
       "  <thead>\n",
       "    <tr style=\"text-align: right;\">\n",
       "      <th></th>\n",
       "      <th>monto</th>\n",
       "    </tr>\n",
       "  </thead>\n",
       "  <tbody>\n",
       "    <tr>\n",
       "      <th>0</th>\n",
       "      <td>2</td>\n",
       "    </tr>\n",
       "    <tr>\n",
       "      <th>1</th>\n",
       "      <td>-999</td>\n",
       "    </tr>\n",
       "    <tr>\n",
       "      <th>2</th>\n",
       "      <td>3</td>\n",
       "    </tr>\n",
       "    <tr>\n",
       "      <th>3</th>\n",
       "      <td>-999</td>\n",
       "    </tr>\n",
       "    <tr>\n",
       "      <th>4</th>\n",
       "      <td>-1000</td>\n",
       "    </tr>\n",
       "    <tr>\n",
       "      <th>5</th>\n",
       "      <td>5</td>\n",
       "    </tr>\n",
       "  </tbody>\n",
       "</table>\n",
       "</div>"
      ],
      "text/plain": [
       "   monto\n",
       "0      2\n",
       "1   -999\n",
       "2      3\n",
       "3   -999\n",
       "4  -1000\n",
       "5      5"
      ]
     },
     "execution_count": 33,
     "metadata": {},
     "output_type": "execute_result"
    }
   ],
   "source": [
    "monto = pd.DataFrame(\n",
    "    {\"monto\": [2, -999, 3, -999, -1000, 5]}\n",
    ")\n",
    "monto"
   ]
  },
  {
   "cell_type": "code",
   "execution_count": null,
   "id": "11133707",
   "metadata": {
    "slideshow": {
     "slide_type": "fragment"
    }
   },
   "outputs": [
    {
     "data": {
      "text/html": [
       "<div>\n",
       "<style scoped>\n",
       "    .dataframe tbody tr th:only-of-type {\n",
       "        vertical-align: middle;\n",
       "    }\n",
       "\n",
       "    .dataframe tbody tr th {\n",
       "        vertical-align: top;\n",
       "    }\n",
       "\n",
       "    .dataframe thead th {\n",
       "        text-align: right;\n",
       "    }\n",
       "</style>\n",
       "<table border=\"1\" class=\"dataframe\">\n",
       "  <thead>\n",
       "    <tr style=\"text-align: right;\">\n",
       "      <th></th>\n",
       "      <th>monto</th>\n",
       "    </tr>\n",
       "  </thead>\n",
       "  <tbody>\n",
       "    <tr>\n",
       "      <th>0</th>\n",
       "      <td>2.0</td>\n",
       "    </tr>\n",
       "    <tr>\n",
       "      <th>1</th>\n",
       "      <td>NaN</td>\n",
       "    </tr>\n",
       "    <tr>\n",
       "      <th>2</th>\n",
       "      <td>3.0</td>\n",
       "    </tr>\n",
       "    <tr>\n",
       "      <th>3</th>\n",
       "      <td>NaN</td>\n",
       "    </tr>\n",
       "    <tr>\n",
       "      <th>4</th>\n",
       "      <td>-1000.0</td>\n",
       "    </tr>\n",
       "    <tr>\n",
       "      <th>5</th>\n",
       "      <td>5.0</td>\n",
       "    </tr>\n",
       "  </tbody>\n",
       "</table>\n",
       "</div>"
      ],
      "text/plain": [
       "    monto\n",
       "0     2.0\n",
       "1     NaN\n",
       "2     3.0\n",
       "3     NaN\n",
       "4 -1000.0\n",
       "5     5.0"
      ]
     },
     "execution_count": 34,
     "metadata": {},
     "output_type": "execute_result"
    }
   ],
   "source": [
    "monto.replace(-999, np.nan)"
   ]
  },
  {
   "cell_type": "code",
   "execution_count": null,
   "id": "dd849019",
   "metadata": {
    "slideshow": {
     "slide_type": "subslide"
    }
   },
   "outputs": [
    {
     "data": {
      "text/html": [
       "<div>\n",
       "<style scoped>\n",
       "    .dataframe tbody tr th:only-of-type {\n",
       "        vertical-align: middle;\n",
       "    }\n",
       "\n",
       "    .dataframe tbody tr th {\n",
       "        vertical-align: top;\n",
       "    }\n",
       "\n",
       "    .dataframe thead th {\n",
       "        text-align: right;\n",
       "    }\n",
       "</style>\n",
       "<table border=\"1\" class=\"dataframe\">\n",
       "  <thead>\n",
       "    <tr style=\"text-align: right;\">\n",
       "      <th></th>\n",
       "      <th>monto</th>\n",
       "    </tr>\n",
       "  </thead>\n",
       "  <tbody>\n",
       "    <tr>\n",
       "      <th>0</th>\n",
       "      <td>2</td>\n",
       "    </tr>\n",
       "    <tr>\n",
       "      <th>1</th>\n",
       "      <td>-1</td>\n",
       "    </tr>\n",
       "    <tr>\n",
       "      <th>2</th>\n",
       "      <td>3</td>\n",
       "    </tr>\n",
       "    <tr>\n",
       "      <th>3</th>\n",
       "      <td>-1</td>\n",
       "    </tr>\n",
       "    <tr>\n",
       "      <th>4</th>\n",
       "      <td>-1</td>\n",
       "    </tr>\n",
       "    <tr>\n",
       "      <th>5</th>\n",
       "      <td>5</td>\n",
       "    </tr>\n",
       "  </tbody>\n",
       "</table>\n",
       "</div>"
      ],
      "text/plain": [
       "   monto\n",
       "0      2\n",
       "1     -1\n",
       "2      3\n",
       "3     -1\n",
       "4     -1\n",
       "5      5"
      ]
     },
     "execution_count": 35,
     "metadata": {},
     "output_type": "execute_result"
    }
   ],
   "source": [
    "monto.replace([-999,-1000], -1)"
   ]
  },
  {
   "cell_type": "code",
   "execution_count": null,
   "id": "e28432e8",
   "metadata": {
    "slideshow": {
     "slide_type": "fragment"
    }
   },
   "outputs": [
    {
     "data": {
      "text/html": [
       "<div>\n",
       "<style scoped>\n",
       "    .dataframe tbody tr th:only-of-type {\n",
       "        vertical-align: middle;\n",
       "    }\n",
       "\n",
       "    .dataframe tbody tr th {\n",
       "        vertical-align: top;\n",
       "    }\n",
       "\n",
       "    .dataframe thead th {\n",
       "        text-align: right;\n",
       "    }\n",
       "</style>\n",
       "<table border=\"1\" class=\"dataframe\">\n",
       "  <thead>\n",
       "    <tr style=\"text-align: right;\">\n",
       "      <th></th>\n",
       "      <th>monto</th>\n",
       "    </tr>\n",
       "  </thead>\n",
       "  <tbody>\n",
       "    <tr>\n",
       "      <th>0</th>\n",
       "      <td>2</td>\n",
       "    </tr>\n",
       "    <tr>\n",
       "      <th>1</th>\n",
       "      <td>9</td>\n",
       "    </tr>\n",
       "    <tr>\n",
       "      <th>2</th>\n",
       "      <td>3</td>\n",
       "    </tr>\n",
       "    <tr>\n",
       "      <th>3</th>\n",
       "      <td>9</td>\n",
       "    </tr>\n",
       "    <tr>\n",
       "      <th>4</th>\n",
       "      <td>10</td>\n",
       "    </tr>\n",
       "    <tr>\n",
       "      <th>5</th>\n",
       "      <td>5</td>\n",
       "    </tr>\n",
       "  </tbody>\n",
       "</table>\n",
       "</div>"
      ],
      "text/plain": [
       "   monto\n",
       "0      2\n",
       "1      9\n",
       "2      3\n",
       "3      9\n",
       "4     10\n",
       "5      5"
      ]
     },
     "execution_count": 36,
     "metadata": {},
     "output_type": "execute_result"
    }
   ],
   "source": [
    "monto.replace([-999,-1000], [9, 10])"
   ]
  },
  {
   "cell_type": "markdown",
   "id": "7106f09f",
   "metadata": {
    "slideshow": {
     "slide_type": "slide"
    }
   },
   "source": [
    "## Juntar data frames\n",
    "Otra situación muy común es recibir datos contenidos en distintos dataframes.\n",
    "### Primer caso: concatenar observaciones"
   ]
  },
  {
   "cell_type": "code",
   "execution_count": null,
   "id": "afa9718d",
   "metadata": {
    "slideshow": {
     "slide_type": "fragment"
    }
   },
   "outputs": [],
   "source": [
    "seccion11 = pd.DataFrame({'Nombre': ['Mauricio', 'Diana'], \n",
    "                         'Email': ['mau@uai.cl', 'di@uai.cl']})\n",
    "\n",
    "seccion2 = pd.DataFrame({'Nombre': ['Carla', 'Alexis', 'Marcela'], \n",
    "                         'Email': ['c@uai.cl', 'al@uai.cl', 'mar@uai.cl']})"
   ]
  },
  {
   "cell_type": "code",
   "execution_count": null,
   "id": "afe27cf2",
   "metadata": {
    "slideshow": {
     "slide_type": "subslide"
    }
   },
   "outputs": [
    {
     "data": {
      "text/html": [
       "<div>\n",
       "<style scoped>\n",
       "    .dataframe tbody tr th:only-of-type {\n",
       "        vertical-align: middle;\n",
       "    }\n",
       "\n",
       "    .dataframe tbody tr th {\n",
       "        vertical-align: top;\n",
       "    }\n",
       "\n",
       "    .dataframe thead th {\n",
       "        text-align: right;\n",
       "    }\n",
       "</style>\n",
       "<table border=\"1\" class=\"dataframe\">\n",
       "  <thead>\n",
       "    <tr style=\"text-align: right;\">\n",
       "      <th></th>\n",
       "      <th>Nombre</th>\n",
       "      <th>Email</th>\n",
       "    </tr>\n",
       "  </thead>\n",
       "  <tbody>\n",
       "    <tr>\n",
       "      <th>0</th>\n",
       "      <td>Mauricio</td>\n",
       "      <td>mau@uai.cl</td>\n",
       "    </tr>\n",
       "    <tr>\n",
       "      <th>1</th>\n",
       "      <td>Diana</td>\n",
       "      <td>di@uai.cl</td>\n",
       "    </tr>\n",
       "  </tbody>\n",
       "</table>\n",
       "</div>"
      ],
      "text/plain": [
       "     Nombre       Email\n",
       "0  Mauricio  mau@uai.cl\n",
       "1     Diana   di@uai.cl"
      ]
     },
     "execution_count": 41,
     "metadata": {},
     "output_type": "execute_result"
    }
   ],
   "source": [
    "seccion1"
   ]
  },
  {
   "cell_type": "code",
   "execution_count": null,
   "id": "0cab7fc0",
   "metadata": {
    "slideshow": {
     "slide_type": "fragment"
    }
   },
   "outputs": [
    {
     "data": {
      "text/html": [
       "<div>\n",
       "<style scoped>\n",
       "    .dataframe tbody tr th:only-of-type {\n",
       "        vertical-align: middle;\n",
       "    }\n",
       "\n",
       "    .dataframe tbody tr th {\n",
       "        vertical-align: top;\n",
       "    }\n",
       "\n",
       "    .dataframe thead th {\n",
       "        text-align: right;\n",
       "    }\n",
       "</style>\n",
       "<table border=\"1\" class=\"dataframe\">\n",
       "  <thead>\n",
       "    <tr style=\"text-align: right;\">\n",
       "      <th></th>\n",
       "      <th>Nombre</th>\n",
       "      <th>Email</th>\n",
       "    </tr>\n",
       "  </thead>\n",
       "  <tbody>\n",
       "    <tr>\n",
       "      <th>0</th>\n",
       "      <td>Carla</td>\n",
       "      <td>c@uai.cl</td>\n",
       "    </tr>\n",
       "    <tr>\n",
       "      <th>1</th>\n",
       "      <td>Alexis</td>\n",
       "      <td>al@uai.cl</td>\n",
       "    </tr>\n",
       "    <tr>\n",
       "      <th>2</th>\n",
       "      <td>Marcela</td>\n",
       "      <td>mar@uai.cl</td>\n",
       "    </tr>\n",
       "  </tbody>\n",
       "</table>\n",
       "</div>"
      ],
      "text/plain": [
       "    Nombre       Email\n",
       "0    Carla    c@uai.cl\n",
       "1   Alexis   al@uai.cl\n",
       "2  Marcela  mar@uai.cl"
      ]
     },
     "execution_count": 42,
     "metadata": {},
     "output_type": "execute_result"
    }
   ],
   "source": [
    "seccion2"
   ]
  },
  {
   "cell_type": "code",
   "execution_count": null,
   "id": "3662826d",
   "metadata": {
    "slideshow": {
     "slide_type": "fragment"
    }
   },
   "outputs": [
    {
     "data": {
      "text/html": [
       "<div>\n",
       "<style scoped>\n",
       "    .dataframe tbody tr th:only-of-type {\n",
       "        vertical-align: middle;\n",
       "    }\n",
       "\n",
       "    .dataframe tbody tr th {\n",
       "        vertical-align: top;\n",
       "    }\n",
       "\n",
       "    .dataframe thead th {\n",
       "        text-align: right;\n",
       "    }\n",
       "</style>\n",
       "<table border=\"1\" class=\"dataframe\">\n",
       "  <thead>\n",
       "    <tr style=\"text-align: right;\">\n",
       "      <th></th>\n",
       "      <th>Nombre</th>\n",
       "      <th>Email</th>\n",
       "    </tr>\n",
       "  </thead>\n",
       "  <tbody>\n",
       "    <tr>\n",
       "      <th>0</th>\n",
       "      <td>Mauricio</td>\n",
       "      <td>mau@uai.cl</td>\n",
       "    </tr>\n",
       "    <tr>\n",
       "      <th>1</th>\n",
       "      <td>Diana</td>\n",
       "      <td>di@uai.cl</td>\n",
       "    </tr>\n",
       "    <tr>\n",
       "      <th>0</th>\n",
       "      <td>Carla</td>\n",
       "      <td>c@uai.cl</td>\n",
       "    </tr>\n",
       "    <tr>\n",
       "      <th>1</th>\n",
       "      <td>Alexis</td>\n",
       "      <td>al@uai.cl</td>\n",
       "    </tr>\n",
       "    <tr>\n",
       "      <th>2</th>\n",
       "      <td>Marcela</td>\n",
       "      <td>mar@uai.cl</td>\n",
       "    </tr>\n",
       "  </tbody>\n",
       "</table>\n",
       "</div>"
      ],
      "text/plain": [
       "     Nombre       Email\n",
       "0  Mauricio  mau@uai.cl\n",
       "1     Diana   di@uai.cl\n",
       "0     Carla    c@uai.cl\n",
       "1    Alexis   al@uai.cl\n",
       "2   Marcela  mar@uai.cl"
      ]
     },
     "execution_count": 43,
     "metadata": {},
     "output_type": "execute_result"
    }
   ],
   "source": [
    "pd.concat([seccion1, seccion2], ignore_index = False) # usar ignore_index = True para resetear index"
   ]
  },
  {
   "cell_type": "code",
   "execution_count": null,
   "id": "ad9d4ed3",
   "metadata": {
    "slideshow": {
     "slide_type": "subslide"
    }
   },
   "outputs": [
    {
     "data": {
      "text/html": [
       "<div>\n",
       "<style scoped>\n",
       "    .dataframe tbody tr th:only-of-type {\n",
       "        vertical-align: middle;\n",
       "    }\n",
       "\n",
       "    .dataframe tbody tr th {\n",
       "        vertical-align: top;\n",
       "    }\n",
       "\n",
       "    .dataframe thead th {\n",
       "        text-align: right;\n",
       "    }\n",
       "</style>\n",
       "<table border=\"1\" class=\"dataframe\">\n",
       "  <thead>\n",
       "    <tr style=\"text-align: right;\">\n",
       "      <th></th>\n",
       "      <th>Nombre</th>\n",
       "      <th>Email</th>\n",
       "    </tr>\n",
       "  </thead>\n",
       "  <tbody>\n",
       "    <tr>\n",
       "      <th>0</th>\n",
       "      <td>Mauricio</td>\n",
       "      <td>mau@uai.cl</td>\n",
       "    </tr>\n",
       "    <tr>\n",
       "      <th>1</th>\n",
       "      <td>Diana</td>\n",
       "      <td>di@uai.cl</td>\n",
       "    </tr>\n",
       "    <tr>\n",
       "      <th>2</th>\n",
       "      <td>Carla</td>\n",
       "      <td>c@uai.cl</td>\n",
       "    </tr>\n",
       "    <tr>\n",
       "      <th>3</th>\n",
       "      <td>Alexis</td>\n",
       "      <td>al@uai.cl</td>\n",
       "    </tr>\n",
       "    <tr>\n",
       "      <th>4</th>\n",
       "      <td>Marcela</td>\n",
       "      <td>mar@uai.cl</td>\n",
       "    </tr>\n",
       "  </tbody>\n",
       "</table>\n",
       "</div>"
      ],
      "text/plain": [
       "     Nombre       Email\n",
       "0  Mauricio  mau@uai.cl\n",
       "1     Diana   di@uai.cl\n",
       "2     Carla    c@uai.cl\n",
       "3    Alexis   al@uai.cl\n",
       "4   Marcela  mar@uai.cl"
      ]
     },
     "execution_count": 44,
     "metadata": {},
     "output_type": "execute_result"
    }
   ],
   "source": [
    "pd.concat([seccion1, seccion2], ignore_index = True)"
   ]
  },
  {
   "cell_type": "markdown",
   "id": "61bc472a",
   "metadata": {
    "slideshow": {
     "slide_type": "subslide"
    }
   },
   "source": [
    "¿Qué pasa si uno de los dataframes tiene una variable adicional?"
   ]
  },
  {
   "cell_type": "code",
   "execution_count": null,
   "id": "ede1ccfa",
   "metadata": {
    "slideshow": {
     "slide_type": "fragment"
    }
   },
   "outputs": [
    {
     "data": {
      "text/html": [
       "<div>\n",
       "<style scoped>\n",
       "    .dataframe tbody tr th:only-of-type {\n",
       "        vertical-align: middle;\n",
       "    }\n",
       "\n",
       "    .dataframe tbody tr th {\n",
       "        vertical-align: top;\n",
       "    }\n",
       "\n",
       "    .dataframe thead th {\n",
       "        text-align: right;\n",
       "    }\n",
       "</style>\n",
       "<table border=\"1\" class=\"dataframe\">\n",
       "  <thead>\n",
       "    <tr style=\"text-align: right;\">\n",
       "      <th></th>\n",
       "      <th>Nombre</th>\n",
       "      <th>Email</th>\n",
       "      <th>edad</th>\n",
       "    </tr>\n",
       "  </thead>\n",
       "  <tbody>\n",
       "    <tr>\n",
       "      <th>0</th>\n",
       "      <td>Mauricio</td>\n",
       "      <td>mau@uai.cl</td>\n",
       "      <td>21</td>\n",
       "    </tr>\n",
       "    <tr>\n",
       "      <th>1</th>\n",
       "      <td>Diana</td>\n",
       "      <td>di@uai.cl</td>\n",
       "      <td>20</td>\n",
       "    </tr>\n",
       "  </tbody>\n",
       "</table>\n",
       "</div>"
      ],
      "text/plain": [
       "     Nombre       Email  edad\n",
       "0  Mauricio  mau@uai.cl    21\n",
       "1     Diana   di@uai.cl    20"
      ]
     },
     "execution_count": 45,
     "metadata": {},
     "output_type": "execute_result"
    }
   ],
   "source": [
    "seccion1_1 = pd.DataFrame({'Nombre': ['Mauricio', 'Diana'], \n",
    "                           'Email': ['mau@uai.cl', 'di@uai.cl'],\n",
    "                        'edad': [21, 20]})\n",
    "seccion1_1"
   ]
  },
  {
   "cell_type": "code",
   "execution_count": null,
   "id": "589a5bc1",
   "metadata": {
    "slideshow": {
     "slide_type": "fragment"
    }
   },
   "outputs": [
    {
     "data": {
      "text/html": [
       "<div>\n",
       "<style scoped>\n",
       "    .dataframe tbody tr th:only-of-type {\n",
       "        vertical-align: middle;\n",
       "    }\n",
       "\n",
       "    .dataframe tbody tr th {\n",
       "        vertical-align: top;\n",
       "    }\n",
       "\n",
       "    .dataframe thead th {\n",
       "        text-align: right;\n",
       "    }\n",
       "</style>\n",
       "<table border=\"1\" class=\"dataframe\">\n",
       "  <thead>\n",
       "    <tr style=\"text-align: right;\">\n",
       "      <th></th>\n",
       "      <th>Nombre</th>\n",
       "      <th>Email</th>\n",
       "      <th>edad</th>\n",
       "    </tr>\n",
       "  </thead>\n",
       "  <tbody>\n",
       "    <tr>\n",
       "      <th>0</th>\n",
       "      <td>Mauricio</td>\n",
       "      <td>mau@uai.cl</td>\n",
       "      <td>21.0</td>\n",
       "    </tr>\n",
       "    <tr>\n",
       "      <th>1</th>\n",
       "      <td>Diana</td>\n",
       "      <td>di@uai.cl</td>\n",
       "      <td>20.0</td>\n",
       "    </tr>\n",
       "    <tr>\n",
       "      <th>0</th>\n",
       "      <td>Carla</td>\n",
       "      <td>c@uai.cl</td>\n",
       "      <td>NaN</td>\n",
       "    </tr>\n",
       "    <tr>\n",
       "      <th>1</th>\n",
       "      <td>Alexis</td>\n",
       "      <td>al@uai.cl</td>\n",
       "      <td>NaN</td>\n",
       "    </tr>\n",
       "    <tr>\n",
       "      <th>2</th>\n",
       "      <td>Marcela</td>\n",
       "      <td>mar@uai.cl</td>\n",
       "      <td>NaN</td>\n",
       "    </tr>\n",
       "  </tbody>\n",
       "</table>\n",
       "</div>"
      ],
      "text/plain": [
       "     Nombre       Email  edad\n",
       "0  Mauricio  mau@uai.cl  21.0\n",
       "1     Diana   di@uai.cl  20.0\n",
       "0     Carla    c@uai.cl   NaN\n",
       "1    Alexis   al@uai.cl   NaN\n",
       "2   Marcela  mar@uai.cl   NaN"
      ]
     },
     "execution_count": 46,
     "metadata": {},
     "output_type": "execute_result"
    }
   ],
   "source": [
    "pd.concat([seccion1_1, seccion2])"
   ]
  },
  {
   "cell_type": "markdown",
   "id": "3beca0b0",
   "metadata": {
    "slideshow": {
     "slide_type": "subslide"
    }
   },
   "source": [
    "### Caso 2: juntar data frames según una o más columnas en común"
   ]
  },
  {
   "cell_type": "code",
   "execution_count": null,
   "id": "2b1f4bb0",
   "metadata": {
    "slideshow": {
     "slide_type": "fragment"
    }
   },
   "outputs": [
    {
     "ename": "NameError",
     "evalue": "name 'seccion1' is not defined",
     "output_type": "error",
     "traceback": [
      "\u001b[1;31m---------------------------------------------------------------------------\u001b[0m",
      "\u001b[1;31mNameError\u001b[0m                                 Traceback (most recent call last)",
      "\u001b[1;32m~\\AppData\\Local\\Temp/ipykernel_28908/2220057288.py\u001b[0m in \u001b[0;36m<module>\u001b[1;34m\u001b[0m\n\u001b[1;32m----> 1\u001b[1;33m \u001b[0malumnos\u001b[0m \u001b[1;33m=\u001b[0m \u001b[0mpd\u001b[0m\u001b[1;33m.\u001b[0m\u001b[0mconcat\u001b[0m\u001b[1;33m(\u001b[0m\u001b[1;33m[\u001b[0m\u001b[0mseccion1\u001b[0m\u001b[1;33m,\u001b[0m \u001b[0mseccion2\u001b[0m\u001b[1;33m]\u001b[0m\u001b[1;33m,\u001b[0m \u001b[0mignore_index\u001b[0m\u001b[1;33m=\u001b[0m\u001b[1;32mTrue\u001b[0m\u001b[1;33m)\u001b[0m\u001b[1;33m\u001b[0m\u001b[1;33m\u001b[0m\u001b[0m\n\u001b[0m\u001b[0;32m      2\u001b[0m \u001b[0malumnos\u001b[0m\u001b[1;33m\u001b[0m\u001b[1;33m\u001b[0m\u001b[0m\n",
      "\u001b[1;31mNameError\u001b[0m: name 'seccion1' is not defined"
     ]
    }
   ],
   "source": [
    "alumnos = pd.concat([seccion1, seccion2])\n",
    "alumnos"
   ]
  },
  {
   "cell_type": "code",
   "execution_count": null,
   "id": "83fd76e2",
   "metadata": {
    "slideshow": {
     "slide_type": "subslide"
    }
   },
   "outputs": [
    {
     "data": {
      "text/html": [
       "<div>\n",
       "<style scoped>\n",
       "    .dataframe tbody tr th:only-of-type {\n",
       "        vertical-align: middle;\n",
       "    }\n",
       "\n",
       "    .dataframe tbody tr th {\n",
       "        vertical-align: top;\n",
       "    }\n",
       "\n",
       "    .dataframe thead th {\n",
       "        text-align: right;\n",
       "    }\n",
       "</style>\n",
       "<table border=\"1\" class=\"dataframe\">\n",
       "  <thead>\n",
       "    <tr style=\"text-align: right;\">\n",
       "      <th></th>\n",
       "      <th>Email</th>\n",
       "      <th>Grupo</th>\n",
       "    </tr>\n",
       "  </thead>\n",
       "  <tbody>\n",
       "    <tr>\n",
       "      <th>0</th>\n",
       "      <td>mau@uai.cl</td>\n",
       "      <td>2</td>\n",
       "    </tr>\n",
       "    <tr>\n",
       "      <th>1</th>\n",
       "      <td>di@uai.cl</td>\n",
       "      <td>3</td>\n",
       "    </tr>\n",
       "    <tr>\n",
       "      <th>2</th>\n",
       "      <td>c@uai.cl</td>\n",
       "      <td>1</td>\n",
       "    </tr>\n",
       "    <tr>\n",
       "      <th>3</th>\n",
       "      <td>al@uai.cl</td>\n",
       "      <td>5</td>\n",
       "    </tr>\n",
       "    <tr>\n",
       "      <th>4</th>\n",
       "      <td>mar@uai.cl</td>\n",
       "      <td>3</td>\n",
       "    </tr>\n",
       "    <tr>\n",
       "      <th>5</th>\n",
       "      <td>carlos@uai.cl</td>\n",
       "      <td>3</td>\n",
       "    </tr>\n",
       "    <tr>\n",
       "      <th>6</th>\n",
       "      <td>alejandro@uai.cl</td>\n",
       "      <td>2</td>\n",
       "    </tr>\n",
       "  </tbody>\n",
       "</table>\n",
       "</div>"
      ],
      "text/plain": [
       "              Email  Grupo\n",
       "0        mau@uai.cl      2\n",
       "1         di@uai.cl      3\n",
       "2          c@uai.cl      1\n",
       "3         al@uai.cl      5\n",
       "4        mar@uai.cl      3\n",
       "5     carlos@uai.cl      3\n",
       "6  alejandro@uai.cl      2"
      ]
     },
     "execution_count": 48,
     "metadata": {},
     "output_type": "execute_result"
    }
   ],
   "source": [
    "grupos = pd.DataFrame({'Email': ['mau@uai.cl', 'di@uai.cl', 'c@uai.cl', 'al@uai.cl', \n",
    "                                 'mar@uai.cl', 'carlos@uai.cl', 'alejandro@uai.cl'],\n",
    "                     'Grupo': [2, 3, 1, 5, \n",
    "                               3, 3, 2]})\n",
    "grupos"
   ]
  },
  {
   "cell_type": "code",
   "execution_count": null,
   "id": "90eb60ee",
   "metadata": {
    "slideshow": {
     "slide_type": "fragment"
    }
   },
   "outputs": [
    {
     "data": {
      "text/html": [
       "<div>\n",
       "<style scoped>\n",
       "    .dataframe tbody tr th:only-of-type {\n",
       "        vertical-align: middle;\n",
       "    }\n",
       "\n",
       "    .dataframe tbody tr th {\n",
       "        vertical-align: top;\n",
       "    }\n",
       "\n",
       "    .dataframe thead th {\n",
       "        text-align: right;\n",
       "    }\n",
       "</style>\n",
       "<table border=\"1\" class=\"dataframe\">\n",
       "  <thead>\n",
       "    <tr style=\"text-align: right;\">\n",
       "      <th></th>\n",
       "      <th>Nombre</th>\n",
       "      <th>Email</th>\n",
       "      <th>Grupo</th>\n",
       "    </tr>\n",
       "  </thead>\n",
       "  <tbody>\n",
       "    <tr>\n",
       "      <th>0</th>\n",
       "      <td>Mauricio</td>\n",
       "      <td>mau@uai.cl</td>\n",
       "      <td>2</td>\n",
       "    </tr>\n",
       "    <tr>\n",
       "      <th>1</th>\n",
       "      <td>Diana</td>\n",
       "      <td>di@uai.cl</td>\n",
       "      <td>3</td>\n",
       "    </tr>\n",
       "    <tr>\n",
       "      <th>2</th>\n",
       "      <td>Carla</td>\n",
       "      <td>c@uai.cl</td>\n",
       "      <td>1</td>\n",
       "    </tr>\n",
       "    <tr>\n",
       "      <th>3</th>\n",
       "      <td>Alexis</td>\n",
       "      <td>al@uai.cl</td>\n",
       "      <td>5</td>\n",
       "    </tr>\n",
       "    <tr>\n",
       "      <th>4</th>\n",
       "      <td>Marcela</td>\n",
       "      <td>mar@uai.cl</td>\n",
       "      <td>3</td>\n",
       "    </tr>\n",
       "  </tbody>\n",
       "</table>\n",
       "</div>"
      ],
      "text/plain": [
       "     Nombre       Email  Grupo\n",
       "0  Mauricio  mau@uai.cl      2\n",
       "1     Diana   di@uai.cl      3\n",
       "2     Carla    c@uai.cl      1\n",
       "3    Alexis   al@uai.cl      5\n",
       "4   Marcela  mar@uai.cl      3"
      ]
     },
     "execution_count": 49,
     "metadata": {},
     "output_type": "execute_result"
    }
   ],
   "source": [
    "pd.merge(alumnos, grupos, on = 'Email', how = 'inner')"
   ]
  },
  {
   "cell_type": "markdown",
   "id": "df9947fe",
   "metadata": {
    "slideshow": {
     "slide_type": "slide"
    }
   },
   "source": [
    "# Fin"
   ]
  }
 ],
 "metadata": {
  "celltoolbar": "Slideshow",
  "hide_input": false,
  "kernelspec": {
   "display_name": "Python 3 (ipykernel)",
   "language": "python",
   "name": "python3"
  },
  "language_info": {
   "codemirror_mode": {
    "name": "ipython",
    "version": 3
   },
   "file_extension": ".py",
   "mimetype": "text/x-python",
   "name": "python",
   "nbconvert_exporter": "python",
   "pygments_lexer": "ipython3",
   "version": "3.9.7"
  },
  "nbTranslate": {
   "displayLangs": [
    "*"
   ],
   "hotkey": "alt-t",
   "langInMainMenu": true,
   "sourceLang": "en",
   "targetLang": "fr",
   "useGoogleTranslate": true
  },
  "toc": {
   "base_numbering": 1,
   "nav_menu": {},
   "number_sections": true,
   "sideBar": true,
   "skip_h1_title": false,
   "title_cell": "Table of Contents",
   "title_sidebar": "Contents",
   "toc_cell": false,
   "toc_position": {},
   "toc_section_display": true,
   "toc_window_display": false
  },
  "varInspector": {
   "cols": {
    "lenName": 16,
    "lenType": 16,
    "lenVar": 40
   },
   "kernels_config": {
    "python": {
     "delete_cmd_postfix": "",
     "delete_cmd_prefix": "del ",
     "library": "var_list.py",
     "varRefreshCmd": "print(var_dic_list())"
    },
    "r": {
     "delete_cmd_postfix": ") ",
     "delete_cmd_prefix": "rm(",
     "library": "var_list.r",
     "varRefreshCmd": "cat(var_dic_list()) "
    }
   },
   "types_to_exclude": [
    "module",
    "function",
    "builtin_function_or_method",
    "instance",
    "_Feature"
   ],
   "window_display": false
  },
  "vscode": {
   "interpreter": {
    "hash": "6f77a30c8e081c3b909c7bb938984cafa945a80d2948a298d5797da27f482a32"
   }
  }
 },
 "nbformat": 4,
 "nbformat_minor": 5
}
